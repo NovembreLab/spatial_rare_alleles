{
 "cells": [
  {
   "cell_type": "code",
   "execution_count": 82,
   "id": "09dcea8f",
   "metadata": {},
   "outputs": [],
   "source": [
    "import numpy as np\n",
    "from numpy.random import exponential\n",
    "import matplotlib.pyplot as plt"
   ]
  },
  {
   "cell_type": "markdown",
   "id": "82d6e2f0",
   "metadata": {},
   "source": [
    "## Idea\n",
    "\n",
    "* Simulate as close to our model as possible to check math, use SLiM to check robustness\n",
    "* Branching process simulatinos using Gillespie algorithm\n",
    "* Main model params: birth rate 1-s, death rate 1, mutation rate $\\mu$\n",
    "\n",
    "### Algorithm sketch - without space\n",
    "\n",
    "1. Initialize system with no lineages present (k=0)\n",
    "2. Draw time to first mutation from Exp($\\mu$) & update k=1 \n",
    "3. Draw time to next event from Exp(k(1-s)+k+$\\mu$)\n",
    "4. Draw which event type occurs (using prob. from competing exponentials)\n",
    "5. Update system accordingly\n",
    "6. Repeat 3-5 until some stopping condition met\n",
    "\n",
    "### Algorithm sketch - with space\n",
    "\n",
    "1. Initialize system with no lineages present (k=0, size LxL)\n",
    "2. Draw time to first mutation from Exp($\\mu$) & update k=1, assign location at random\n",
    "3. Draw time to next event from Exp(k(1-s)+k+$\\mu$)\n",
    "4. Add Gaussian noise to locations of all alive individuals with standard dev. $\\sigma$\n",
    "5. Draw event type as before\n",
    "6. Update system\n",
    "7. Repeat 3-6 until some stopping condition met\n",
    "\n",
    "### To be added\n",
    "\n",
    "* Periodic boundary conditions\n",
    "* Gaussian noise should be dependent on waiting time\n",
    "* Sampling - uniform and spatial\n",
    "    * Spatial - sample from center of habitat, vary width $w$\n",
    "    * Need to work out sampling probabilities - possibly Bernoulli for each carrier w/ probabilties depending on Gaussian weights?\n",
    "\n",
    "### Questions\n",
    "\n",
    "* Tracking mutation type/lineage?\n",
    "* Previously had versions similar to this with \"implicit $\\mu$\" and one mutation at a time - fine to do it this way, or was there a strong reason?\n"
   ]
  },
  {
   "cell_type": "markdown",
   "id": "5fe41f03",
   "metadata": {},
   "source": [
    "## No space"
   ]
  },
  {
   "cell_type": "code",
   "execution_count": 46,
   "id": "868df263",
   "metadata": {},
   "outputs": [],
   "source": [
    "def time_to_next(k,s,mu):\n",
    "    return exponential(k*(1-s)+k+mu)\n",
    "\n",
    "def choose_event(k,s,mu):\n",
    "    tot = k*(1-s)+k+mu\n",
    "    event = np.random.choice(['b','d','m'],p=[(k*(1-s)/tot),(k/tot),(mu/tot)])\n",
    "    return event # 0=birth, 1=death"
   ]
  },
  {
   "cell_type": "code",
   "execution_count": 59,
   "id": "77c101e6",
   "metadata": {},
   "outputs": [
    {
     "data": {
      "text/plain": [
       "'d'"
      ]
     },
     "execution_count": 59,
     "metadata": {},
     "output_type": "execute_result"
    }
   ],
   "source": [
    "choose_event(1,0.1,1e-3)"
   ]
  },
  {
   "cell_type": "code",
   "execution_count": 79,
   "id": "a34a245d",
   "metadata": {},
   "outputs": [],
   "source": [
    "def run_sim(s,mu,N): # N total number of events\n",
    "    counts = np.zeros((N+1, 2)) # store counts and time since last event, first row 0s\n",
    "    counter = 1\n",
    "    while counter <= N:\n",
    "        # time to next event\n",
    "        k = counts[counter-1,1] # number particles\n",
    "        t_next = time_to_next(k,s,mu)\n",
    "        counts[counter,0]=counts[counter-1,0]+t_next # update time\n",
    "        # choose event time and update\n",
    "        e_type = choose_event(k,s,mu)\n",
    "        if e_type in ['b','m']:\n",
    "            counts[counter,1] = counts[counter-1,1]+1 # update count\n",
    "        elif e_type in ['d']:\n",
    "            counts[counter,1] = counts[counter-1,1]-1 # update count\n",
    "        counter+=1\n",
    "    return counts"
   ]
  },
  {
   "cell_type": "code",
   "execution_count": 80,
   "id": "cf5d64a7",
   "metadata": {},
   "outputs": [],
   "source": [
    "np.random.seed(2024)\n",
    "\n",
    "sim_df = run_sim(1e-2,1e-3,10)"
   ]
  },
  {
   "cell_type": "code",
   "execution_count": 81,
   "id": "22a159cc",
   "metadata": {},
   "outputs": [
    {
     "data": {
      "text/plain": [
       "array([[0.00000000e+00, 0.00000000e+00],\n",
       "       [8.86767170e-04, 1.00000000e+00],\n",
       "       [4.15894987e-01, 2.00000000e+00],\n",
       "       [1.32928370e+00, 3.00000000e+00],\n",
       "       [9.08658907e+00, 2.00000000e+00],\n",
       "       [1.16430311e+01, 3.00000000e+00],\n",
       "       [1.17582227e+01, 2.00000000e+00],\n",
       "       [1.54304201e+01, 1.00000000e+00],\n",
       "       [1.76040782e+01, 0.00000000e+00],\n",
       "       [1.76046745e+01, 1.00000000e+00],\n",
       "       [1.98130736e+01, 0.00000000e+00]])"
      ]
     },
     "execution_count": 81,
     "metadata": {},
     "output_type": "execute_result"
    }
   ],
   "source": [
    "sim_df"
   ]
  },
  {
   "cell_type": "code",
   "execution_count": 89,
   "id": "8c4d346d",
   "metadata": {},
   "outputs": [
    {
     "data": {
      "image/png": "[encoded data removed]",
      "text/plain": [
       "<Figure size 432x288 with 1 Axes>"
      ]
     },
     "metadata": {
      "needs_background": "light"
     },
     "output_type": "display_data"
    }
   ],
   "source": [
    "sim_df = run_sim(1e-2,1e-8,100)\n",
    "plt.plot(sim_df[:,0],sim_df[:,1])\n",
    "plt.xlabel(\"time\")\n",
    "plt.ylabel(\"number of individuals\")\n",
    "plt.show()"
   ]
  },
  {
   "cell_type": "markdown",
   "id": "e557bd07",
   "metadata": {},
   "source": [
    "## Add Space"
   ]
  },
  {
   "cell_type": "code",
   "execution_count": 140,
   "id": "286034b7",
   "metadata": {},
   "outputs": [],
   "source": [
    "def run_sim_spatial(s,mu,sigma,N,max_ind,L=50):\n",
    "    # keep track of counts (like non spatial)\n",
    "    counts = np.zeros((N+1, 2)) # [time, counts]\n",
    "    counter = 1 #initialize at 1\n",
    "    # keep track of locations\n",
    "    \n",
    "    ind_data = np.zeros((N+1, max_ind, 5)) # one table per event + initialize\n",
    "    # [alive/dead, x coord, y coord, time @ birth, time @ death]\n",
    "    \n",
    "    while counter <= N:\n",
    "        # time to next event\n",
    "        k = counts[counter-1,1] # number particles\n",
    "        t_next = time_to_next(k,s,mu)\n",
    "        e_type = choose_event(k,s,mu)\n",
    "        \n",
    "        #update counts\n",
    "        counts[counter,0]=counts[counter-1,0]+t_next # update time\n",
    "        if e_type in ['b','m']:\n",
    "            counts[counter,1] = counts[counter-1,1]+1 # update count\n",
    "        elif e_type in ['d']:\n",
    "            counts[counter,1] = counts[counter-1,1]-1 # update count\n",
    "        \n",
    "        # update ind_data\n",
    "        \n",
    "        ### update spatial coordinates\n",
    "        ind_data[counter] = ind_data[counter-1]\n",
    "        indices = np.where(ind_data[counter, :, 0] == 1)[0]\n",
    "        if len(indices)>0:\n",
    "            ind_data[counter, indices, 1] += np.random.normal(loc=0, scale=0.2, size=len(indices)) # update x\n",
    "            ind_data[counter, indices, 2] += np.random.normal(loc=0, scale=0.2, size=len(indices)) # update y\n",
    "\n",
    "        ### mutation\n",
    "        if e_type == 'm':\n",
    "            # find next empty row\n",
    "            empty_row_indices = np.where(np.all(ind_data[counter] == 0, axis=1))[0]\n",
    "            if len(empty_row_indices)>0:\n",
    "                next_row = empty_row_indices[0]\n",
    "            else:\n",
    "                print(\"ERROR: ran out of room in array!\")\n",
    "                break\n",
    "            ind_data[counter, next_row] = [1,np.random.uniform(0,L),np.random.uniform(0,L),counts[counter,0],0]\n",
    "        elif e_type == 'd':\n",
    "            ## choose individual who dies\n",
    "            indices = np.where(ind_data[counter, :, 0] == 1)\n",
    "            random_index = np.random.choice(indices[0])\n",
    "            ind_data[counter,random_index,0] = 0\n",
    "            ind_data[counter,random_index,4] = counts[counter,0]\n",
    "        elif e_type == 'b':\n",
    "            empty_row_indices = np.where(np.all(ind_data[counter] == 0, axis=1))[0]\n",
    "            if len(empty_row_indices)>0:\n",
    "                next_row = empty_row_indices[0]\n",
    "            else:\n",
    "                print(\"ERROR: ran out of room in array!\")\n",
    "                break\n",
    "            # choose parent\n",
    "            indices = np.where(ind_data[counter, :, 0] == 1)\n",
    "            random_index = np.random.choice(indices[0])\n",
    "            ind_data[counter, next_row] = [1,ind_data[counter,random_index,1],ind_data[counter,random_index,2],counts[counter,0],0]\n",
    "\n",
    "        # update counter\n",
    "        counter+=1\n",
    "        \n",
    "        \n",
    "    return counts,ind_data\n"
   ]
  },
  {
   "cell_type": "code",
   "execution_count": 141,
   "id": "4bebaa04",
   "metadata": {},
   "outputs": [],
   "source": [
    "counts,df = run_sim_spatial(1e-2,1e-8,0.2,20,100)"
   ]
  },
  {
   "cell_type": "code",
   "execution_count": 142,
   "id": "633a3e0a",
   "metadata": {},
   "outputs": [
    {
     "data": {
      "text/plain": [
       "array([[0.00000000e+00, 0.00000000e+00],\n",
       "       [4.56210536e-09, 1.00000000e+00],\n",
       "       [3.49029585e-01, 0.00000000e+00],\n",
       "       [3.49029601e-01, 1.00000000e+00],\n",
       "       [1.83515811e+00, 2.00000000e+00],\n",
       "       [5.32028605e+00, 1.00000000e+00],\n",
       "       [5.51797531e+00, 2.00000000e+00],\n",
       "       [8.45793189e+00, 3.00000000e+00],\n",
       "       [1.48334812e+01, 4.00000000e+00],\n",
       "       [1.50689441e+01, 5.00000000e+00],\n",
       "       [2.01419202e+01, 4.00000000e+00],\n",
       "       [2.53534618e+01, 3.00000000e+00],\n",
       "       [3.23004455e+01, 4.00000000e+00],\n",
       "       [3.71481326e+01, 5.00000000e+00],\n",
       "       [3.76530767e+01, 6.00000000e+00],\n",
       "       [4.14800662e+01, 7.00000000e+00],\n",
       "       [4.31386386e+01, 8.00000000e+00],\n",
       "       [4.95845033e+01, 9.00000000e+00],\n",
       "       [5.14354402e+01, 1.00000000e+01],\n",
       "       [9.27923017e+01, 9.00000000e+00],\n",
       "       [9.61947221e+01, 8.00000000e+00]])"
      ]
     },
     "execution_count": 142,
     "metadata": {},
     "output_type": "execute_result"
    }
   ],
   "source": [
    "counts"
   ]
  },
  {
   "cell_type": "code",
   "execution_count": 148,
   "id": "f48db0ac",
   "metadata": {},
   "outputs": [
    {
     "data": {
      "text/plain": [
       "array([[0.00000000e+00, 2.00500568e+01, 1.26682331e+01, 4.56210536e-09,\n",
       "        3.49029585e-01],\n",
       "       [1.00000000e+00, 1.75582845e+01, 4.51398748e+01, 3.49029601e-01,\n",
       "        0.00000000e+00],\n",
       "       [0.00000000e+00, 1.68388468e+01, 4.43518656e+01, 1.83515811e+00,\n",
       "        5.32028605e+00],\n",
       "       [0.00000000e+00, 1.69899835e+01, 4.60410440e+01, 5.51797531e+00,\n",
       "        2.01419202e+01],\n",
       "       [1.00000000e+00, 1.68896004e+01, 4.45163543e+01, 8.45793189e+00,\n",
       "        0.00000000e+00],\n",
       "       [1.00000000e+00, 1.69563991e+01, 4.50295055e+01, 1.48334812e+01,\n",
       "        0.00000000e+00],\n",
       "       [1.00000000e+00, 1.72228702e+01, 4.51664086e+01, 1.50689441e+01,\n",
       "        0.00000000e+00],\n",
       "       [0.00000000e+00, 0.00000000e+00, 0.00000000e+00, 0.00000000e+00,\n",
       "        0.00000000e+00],\n",
       "       [0.00000000e+00, 0.00000000e+00, 0.00000000e+00, 0.00000000e+00,\n",
       "        0.00000000e+00],\n",
       "       [0.00000000e+00, 0.00000000e+00, 0.00000000e+00, 0.00000000e+00,\n",
       "        0.00000000e+00],\n",
       "       [0.00000000e+00, 0.00000000e+00, 0.00000000e+00, 0.00000000e+00,\n",
       "        0.00000000e+00],\n",
       "       [0.00000000e+00, 0.00000000e+00, 0.00000000e+00, 0.00000000e+00,\n",
       "        0.00000000e+00],\n",
       "       [0.00000000e+00, 0.00000000e+00, 0.00000000e+00, 0.00000000e+00,\n",
       "        0.00000000e+00],\n",
       "       [0.00000000e+00, 0.00000000e+00, 0.00000000e+00, 0.00000000e+00,\n",
       "        0.00000000e+00],\n",
       "       [0.00000000e+00, 0.00000000e+00, 0.00000000e+00, 0.00000000e+00,\n",
       "        0.00000000e+00],\n",
       "       [0.00000000e+00, 0.00000000e+00, 0.00000000e+00, 0.00000000e+00,\n",
       "        0.00000000e+00],\n",
       "       [0.00000000e+00, 0.00000000e+00, 0.00000000e+00, 0.00000000e+00,\n",
       "        0.00000000e+00],\n",
       "       [0.00000000e+00, 0.00000000e+00, 0.00000000e+00, 0.00000000e+00,\n",
       "        0.00000000e+00],\n",
       "       [0.00000000e+00, 0.00000000e+00, 0.00000000e+00, 0.00000000e+00,\n",
       "        0.00000000e+00],\n",
       "       [0.00000000e+00, 0.00000000e+00, 0.00000000e+00, 0.00000000e+00,\n",
       "        0.00000000e+00],\n",
       "       [0.00000000e+00, 0.00000000e+00, 0.00000000e+00, 0.00000000e+00,\n",
       "        0.00000000e+00],\n",
       "       [0.00000000e+00, 0.00000000e+00, 0.00000000e+00, 0.00000000e+00,\n",
       "        0.00000000e+00],\n",
       "       [0.00000000e+00, 0.00000000e+00, 0.00000000e+00, 0.00000000e+00,\n",
       "        0.00000000e+00],\n",
       "       [0.00000000e+00, 0.00000000e+00, 0.00000000e+00, 0.00000000e+00,\n",
       "        0.00000000e+00],\n",
       "       [0.00000000e+00, 0.00000000e+00, 0.00000000e+00, 0.00000000e+00,\n",
       "        0.00000000e+00],\n",
       "       [0.00000000e+00, 0.00000000e+00, 0.00000000e+00, 0.00000000e+00,\n",
       "        0.00000000e+00],\n",
       "       [0.00000000e+00, 0.00000000e+00, 0.00000000e+00, 0.00000000e+00,\n",
       "        0.00000000e+00],\n",
       "       [0.00000000e+00, 0.00000000e+00, 0.00000000e+00, 0.00000000e+00,\n",
       "        0.00000000e+00],\n",
       "       [0.00000000e+00, 0.00000000e+00, 0.00000000e+00, 0.00000000e+00,\n",
       "        0.00000000e+00],\n",
       "       [0.00000000e+00, 0.00000000e+00, 0.00000000e+00, 0.00000000e+00,\n",
       "        0.00000000e+00],\n",
       "       [0.00000000e+00, 0.00000000e+00, 0.00000000e+00, 0.00000000e+00,\n",
       "        0.00000000e+00],\n",
       "       [0.00000000e+00, 0.00000000e+00, 0.00000000e+00, 0.00000000e+00,\n",
       "        0.00000000e+00],\n",
       "       [0.00000000e+00, 0.00000000e+00, 0.00000000e+00, 0.00000000e+00,\n",
       "        0.00000000e+00],\n",
       "       [0.00000000e+00, 0.00000000e+00, 0.00000000e+00, 0.00000000e+00,\n",
       "        0.00000000e+00],\n",
       "       [0.00000000e+00, 0.00000000e+00, 0.00000000e+00, 0.00000000e+00,\n",
       "        0.00000000e+00],\n",
       "       [0.00000000e+00, 0.00000000e+00, 0.00000000e+00, 0.00000000e+00,\n",
       "        0.00000000e+00],\n",
       "       [0.00000000e+00, 0.00000000e+00, 0.00000000e+00, 0.00000000e+00,\n",
       "        0.00000000e+00],\n",
       "       [0.00000000e+00, 0.00000000e+00, 0.00000000e+00, 0.00000000e+00,\n",
       "        0.00000000e+00],\n",
       "       [0.00000000e+00, 0.00000000e+00, 0.00000000e+00, 0.00000000e+00,\n",
       "        0.00000000e+00],\n",
       "       [0.00000000e+00, 0.00000000e+00, 0.00000000e+00, 0.00000000e+00,\n",
       "        0.00000000e+00],\n",
       "       [0.00000000e+00, 0.00000000e+00, 0.00000000e+00, 0.00000000e+00,\n",
       "        0.00000000e+00],\n",
       "       [0.00000000e+00, 0.00000000e+00, 0.00000000e+00, 0.00000000e+00,\n",
       "        0.00000000e+00],\n",
       "       [0.00000000e+00, 0.00000000e+00, 0.00000000e+00, 0.00000000e+00,\n",
       "        0.00000000e+00],\n",
       "       [0.00000000e+00, 0.00000000e+00, 0.00000000e+00, 0.00000000e+00,\n",
       "        0.00000000e+00],\n",
       "       [0.00000000e+00, 0.00000000e+00, 0.00000000e+00, 0.00000000e+00,\n",
       "        0.00000000e+00],\n",
       "       [0.00000000e+00, 0.00000000e+00, 0.00000000e+00, 0.00000000e+00,\n",
       "        0.00000000e+00],\n",
       "       [0.00000000e+00, 0.00000000e+00, 0.00000000e+00, 0.00000000e+00,\n",
       "        0.00000000e+00],\n",
       "       [0.00000000e+00, 0.00000000e+00, 0.00000000e+00, 0.00000000e+00,\n",
       "        0.00000000e+00],\n",
       "       [0.00000000e+00, 0.00000000e+00, 0.00000000e+00, 0.00000000e+00,\n",
       "        0.00000000e+00],\n",
       "       [0.00000000e+00, 0.00000000e+00, 0.00000000e+00, 0.00000000e+00,\n",
       "        0.00000000e+00],\n",
       "       [0.00000000e+00, 0.00000000e+00, 0.00000000e+00, 0.00000000e+00,\n",
       "        0.00000000e+00],\n",
       "       [0.00000000e+00, 0.00000000e+00, 0.00000000e+00, 0.00000000e+00,\n",
       "        0.00000000e+00],\n",
       "       [0.00000000e+00, 0.00000000e+00, 0.00000000e+00, 0.00000000e+00,\n",
       "        0.00000000e+00],\n",
       "       [0.00000000e+00, 0.00000000e+00, 0.00000000e+00, 0.00000000e+00,\n",
       "        0.00000000e+00],\n",
       "       [0.00000000e+00, 0.00000000e+00, 0.00000000e+00, 0.00000000e+00,\n",
       "        0.00000000e+00],\n",
       "       [0.00000000e+00, 0.00000000e+00, 0.00000000e+00, 0.00000000e+00,\n",
       "        0.00000000e+00],\n",
       "       [0.00000000e+00, 0.00000000e+00, 0.00000000e+00, 0.00000000e+00,\n",
       "        0.00000000e+00],\n",
       "       [0.00000000e+00, 0.00000000e+00, 0.00000000e+00, 0.00000000e+00,\n",
       "        0.00000000e+00],\n",
       "       [0.00000000e+00, 0.00000000e+00, 0.00000000e+00, 0.00000000e+00,\n",
       "        0.00000000e+00],\n",
       "       [0.00000000e+00, 0.00000000e+00, 0.00000000e+00, 0.00000000e+00,\n",
       "        0.00000000e+00],\n",
       "       [0.00000000e+00, 0.00000000e+00, 0.00000000e+00, 0.00000000e+00,\n",
       "        0.00000000e+00],\n",
       "       [0.00000000e+00, 0.00000000e+00, 0.00000000e+00, 0.00000000e+00,\n",
       "        0.00000000e+00],\n",
       "       [0.00000000e+00, 0.00000000e+00, 0.00000000e+00, 0.00000000e+00,\n",
       "        0.00000000e+00],\n",
       "       [0.00000000e+00, 0.00000000e+00, 0.00000000e+00, 0.00000000e+00,\n",
       "        0.00000000e+00],\n",
       "       [0.00000000e+00, 0.00000000e+00, 0.00000000e+00, 0.00000000e+00,\n",
       "        0.00000000e+00],\n",
       "       [0.00000000e+00, 0.00000000e+00, 0.00000000e+00, 0.00000000e+00,\n",
       "        0.00000000e+00],\n",
       "       [0.00000000e+00, 0.00000000e+00, 0.00000000e+00, 0.00000000e+00,\n",
       "        0.00000000e+00],\n",
       "       [0.00000000e+00, 0.00000000e+00, 0.00000000e+00, 0.00000000e+00,\n",
       "        0.00000000e+00],\n",
       "       [0.00000000e+00, 0.00000000e+00, 0.00000000e+00, 0.00000000e+00,\n",
       "        0.00000000e+00],\n",
       "       [0.00000000e+00, 0.00000000e+00, 0.00000000e+00, 0.00000000e+00,\n",
       "        0.00000000e+00],\n",
       "       [0.00000000e+00, 0.00000000e+00, 0.00000000e+00, 0.00000000e+00,\n",
       "        0.00000000e+00],\n",
       "       [0.00000000e+00, 0.00000000e+00, 0.00000000e+00, 0.00000000e+00,\n",
       "        0.00000000e+00],\n",
       "       [0.00000000e+00, 0.00000000e+00, 0.00000000e+00, 0.00000000e+00,\n",
       "        0.00000000e+00],\n",
       "       [0.00000000e+00, 0.00000000e+00, 0.00000000e+00, 0.00000000e+00,\n",
       "        0.00000000e+00],\n",
       "       [0.00000000e+00, 0.00000000e+00, 0.00000000e+00, 0.00000000e+00,\n",
       "        0.00000000e+00],\n",
       "       [0.00000000e+00, 0.00000000e+00, 0.00000000e+00, 0.00000000e+00,\n",
       "        0.00000000e+00],\n",
       "       [0.00000000e+00, 0.00000000e+00, 0.00000000e+00, 0.00000000e+00,\n",
       "        0.00000000e+00],\n",
       "       [0.00000000e+00, 0.00000000e+00, 0.00000000e+00, 0.00000000e+00,\n",
       "        0.00000000e+00],\n",
       "       [0.00000000e+00, 0.00000000e+00, 0.00000000e+00, 0.00000000e+00,\n",
       "        0.00000000e+00],\n",
       "       [0.00000000e+00, 0.00000000e+00, 0.00000000e+00, 0.00000000e+00,\n",
       "        0.00000000e+00],\n",
       "       [0.00000000e+00, 0.00000000e+00, 0.00000000e+00, 0.00000000e+00,\n",
       "        0.00000000e+00],\n",
       "       [0.00000000e+00, 0.00000000e+00, 0.00000000e+00, 0.00000000e+00,\n",
       "        0.00000000e+00],\n",
       "       [0.00000000e+00, 0.00000000e+00, 0.00000000e+00, 0.00000000e+00,\n",
       "        0.00000000e+00],\n",
       "       [0.00000000e+00, 0.00000000e+00, 0.00000000e+00, 0.00000000e+00,\n",
       "        0.00000000e+00],\n",
       "       [0.00000000e+00, 0.00000000e+00, 0.00000000e+00, 0.00000000e+00,\n",
       "        0.00000000e+00],\n",
       "       [0.00000000e+00, 0.00000000e+00, 0.00000000e+00, 0.00000000e+00,\n",
       "        0.00000000e+00],\n",
       "       [0.00000000e+00, 0.00000000e+00, 0.00000000e+00, 0.00000000e+00,\n",
       "        0.00000000e+00],\n",
       "       [0.00000000e+00, 0.00000000e+00, 0.00000000e+00, 0.00000000e+00,\n",
       "        0.00000000e+00],\n",
       "       [0.00000000e+00, 0.00000000e+00, 0.00000000e+00, 0.00000000e+00,\n",
       "        0.00000000e+00],\n",
       "       [0.00000000e+00, 0.00000000e+00, 0.00000000e+00, 0.00000000e+00,\n",
       "        0.00000000e+00],\n",
       "       [0.00000000e+00, 0.00000000e+00, 0.00000000e+00, 0.00000000e+00,\n",
       "        0.00000000e+00],\n",
       "       [0.00000000e+00, 0.00000000e+00, 0.00000000e+00, 0.00000000e+00,\n",
       "        0.00000000e+00],\n",
       "       [0.00000000e+00, 0.00000000e+00, 0.00000000e+00, 0.00000000e+00,\n",
       "        0.00000000e+00],\n",
       "       [0.00000000e+00, 0.00000000e+00, 0.00000000e+00, 0.00000000e+00,\n",
       "        0.00000000e+00],\n",
       "       [0.00000000e+00, 0.00000000e+00, 0.00000000e+00, 0.00000000e+00,\n",
       "        0.00000000e+00],\n",
       "       [0.00000000e+00, 0.00000000e+00, 0.00000000e+00, 0.00000000e+00,\n",
       "        0.00000000e+00],\n",
       "       [0.00000000e+00, 0.00000000e+00, 0.00000000e+00, 0.00000000e+00,\n",
       "        0.00000000e+00],\n",
       "       [0.00000000e+00, 0.00000000e+00, 0.00000000e+00, 0.00000000e+00,\n",
       "        0.00000000e+00],\n",
       "       [0.00000000e+00, 0.00000000e+00, 0.00000000e+00, 0.00000000e+00,\n",
       "        0.00000000e+00],\n",
       "       [0.00000000e+00, 0.00000000e+00, 0.00000000e+00, 0.00000000e+00,\n",
       "        0.00000000e+00]])"
      ]
     },
     "execution_count": 148,
     "metadata": {},
     "output_type": "execute_result"
    }
   ],
   "source": [
    "df[10]"
   ]
  },
  {
   "cell_type": "code",
   "execution_count": 144,
   "id": "8428f03e",
   "metadata": {},
   "outputs": [
    {
     "data": {
      "image/png": "[encoded data removed]",
      "text/plain": [
       "<Figure size 432x288 with 1 Axes>"
      ]
     },
     "metadata": {
      "needs_background": "light"
     },
     "output_type": "display_data"
    }
   ],
   "source": [
    "plt.plot(counts[:,0],counts[:,1])\n",
    "plt.xlabel(\"time\")\n",
    "plt.ylabel(\"number of individuals\")\n",
    "plt.show()"
   ]
  },
  {
   "cell_type": "code",
   "execution_count": 145,
   "id": "8f56e608",
   "metadata": {},
   "outputs": [
    {
     "data": {
      "image/png": "[encoded data removed]",
      "text/plain": [
       "<Figure size 432x288 with 1 Axes>"
      ]
     },
     "metadata": {
      "needs_background": "light"
     },
     "output_type": "display_data"
    },
    {
     "data": {
      "image/png": "[encoded data removed]",
      "text/plain": [
       "<Figure size 432x288 with 1 Axes>"
      ]
     },
     "metadata": {
      "needs_background": "light"
     },
     "output_type": "display_data"
    },
    {
     "data": {
      "image/png": "[encoded data removed]",
      "text/plain": [
       "<Figure size 432x288 with 1 Axes>"
      ]
     },
     "metadata": {
      "needs_background": "light"
     },
     "output_type": "display_data"
    },
    {
     "data": {
      "image/png": "[encoded data removed]",
      "text/plain": [
       "<Figure size 432x288 with 1 Axes>"
      ]
     },
     "metadata": {
      "needs_background": "light"
     },
     "output_type": "display_data"
    },
    {
     "data": {
      "image/png": "[encoded data removed]",
      "text/plain": [
       "<Figure size 432x288 with 1 Axes>"
      ]
     },
     "metadata": {
      "needs_background": "light"
     },
     "output_type": "display_data"
    },
    {
     "data": {
      "image/png": "[encoded data removed]",
      "text/plain": [
       "<Figure size 432x288 with 1 Axes>"
      ]
     },
     "metadata": {
      "needs_background": "light"
     },
     "output_type": "display_data"
    },
    {
     "data": {
      "image/png": "[encoded data removed]",
      "text/plain": [
       "<Figure size 432x288 with 1 Axes>"
      ]
     },
     "metadata": {
      "needs_background": "light"
     },
     "output_type": "display_data"
    },
    {
     "data": {
      "image/png": "[encoded data removed]",
      "text/plain": [
       "<Figure size 432x288 with 1 Axes>"
      ]
     },
     "metadata": {
      "needs_background": "light"
     },
     "output_type": "display_data"
    },
    {
     "data": {
      "image/png": "[encoded data removed]",
      "text/plain": [
       "<Figure size 432x288 with 1 Axes>"
      ]
     },
     "metadata": {
      "needs_background": "light"
     },
     "output_type": "display_data"
    },
    {
     "data": {
      "image/png": "[encoded data removed]",
      "text/plain": [
       "<Figure size 432x288 with 1 Axes>"
      ]
     },
     "metadata": {
      "needs_background": "light"
     },
     "output_type": "display_data"
    }
   ],
   "source": [
    "for i in range(10):\n",
    "    plt.scatter(df[i,:,1],df[i,:,2],marker='x',color='black')\n",
    "    plt.xlabel(\"x\")\n",
    "    plt.ylabel(\"y\")\n",
    "    plt.xlim(0,50)\n",
    "    plt.ylim(0,50)\n",
    "    plt.show()"
   ]
  }
 ],
 "metadata": {
  "kernelspec": {
   "display_name": "Python 3",
   "language": "python",
   "name": "python3"
  },
  "language_info": {
   "codemirror_mode": {
    "name": "ipython",
    "version": 3
   },
   "file_extension": ".py",
   "mimetype": "text/x-python",
   "name": "python",
   "nbconvert_exporter": "python",
   "pygments_lexer": "ipython3",
   "version": "3.9.2"
  }
 },
 "nbformat": 4,
 "nbformat_minor": 5
}
