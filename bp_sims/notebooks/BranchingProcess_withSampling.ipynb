{
 "cells": [
  {
   "cell_type": "code",
   "execution_count": 8,
   "id": "09dcea8f",
   "metadata": {},
   "outputs": [],
   "source": [
    "import numpy as np\n",
    "from numpy.random import exponential\n",
    "import matplotlib.pyplot as plt\n",
    "import pandas as pd"
   ]
  },
  {
   "cell_type": "markdown",
   "id": "443dc930",
   "metadata": {},
   "source": [
    "### Algorithm sketch\n",
    "\n",
    "* Carriers appear de novo with rate `mu`*`rho`\n",
    "* Carriers give birth (split) with rate `1-s`\n",
    "* Carriers die at rate `1`\n",
    "* Take samples at rate `r`\n",
    "\n",
    "Implement via Gillespie algorithm. At each step:\n",
    "1. Draw waiting time to next event\n",
    "2. Update locations of living carriers\n",
    "3. Select event type and apply it\n",
    "\n",
    "Data structures:\n",
    "* During simulation, store individual level-data (continuously updated)\n",
    "* At each sample point update the SFS distribution (array w/ pre-specified length)\n",
    "* Output SFS distribution"
   ]
  },
  {
   "cell_type": "code",
   "execution_count": 4,
   "id": "868df263",
   "metadata": {},
   "outputs": [],
   "source": [
    "### helper functions ###\n",
    "\n",
    "def time_to_next(k,s,mu,rho,r):\n",
    "    return exponential(k*(1-s)+k+mu*rho+r)\n",
    "\n",
    "def choose_event(k,s,mu,rho,r):\n",
    "    tot = k*(1-s)+k+mu*rho+r\n",
    "    event = np.random.choice(['b','d','m','s'],p=[(k*(1-s)/tot),(k/tot),(mu*rho/tot),(r/tot)])\n",
    "    return event # 0=birth, 1=death"
   ]
  },
  {
   "cell_type": "code",
   "execution_count": 232,
   "id": "286034b7",
   "metadata": {},
   "outputs": [],
   "source": [
    "### function to run simulation ###\n",
    "\n",
    "def run_sim_spatial(s,mu,rho,r,sigma,num_iter,max_ind,L=50,sfs_len=100):\n",
    "    # initialize array for SFS distribution\n",
    "    sfs_dist = np.zeros(sfs_len)\n",
    "    # keep track of time steps\n",
    "    counter = 1 #initialize at 1\n",
    "    # keep track of individual level data\n",
    "    # [alive/dead, x coord, y coord, time @ birth, time @ death]\n",
    "    ind_data = np.zeros((max_ind, 5)) \n",
    "    # initialize current time at 0\n",
    "    curr_time=0\n",
    "    while counter <= num_iter:\n",
    "        k = np.sum(ind_data[:,0]) # number of alive particles\n",
    "        # draw time to next event \n",
    "        t_next = time_to_next(k,s,mu,rho,r)\n",
    "        # update time\n",
    "        curr_time += t_next\n",
    "        # draw event type\n",
    "        e_type = choose_event(k,s,mu,rho,r)\n",
    "        \n",
    "        ### update spatial coordinates\n",
    "        indices = np.where(ind_data[:, 0] == 1)[0]\n",
    "        if len(indices)>0:\n",
    "            ind_data[indices, 1] += np.random.normal(loc=0, scale=0.2*t_next, size=len(indices)) # update x\n",
    "            ind_data[indices, 2] += np.random.normal(loc=0, scale=0.2*t_next, size=len(indices)) # update y\n",
    "\n",
    "        ### mutation\n",
    "        if e_type == 'm':\n",
    "            # find next empty row\n",
    "            empty_row_indices = np.where(np.all(ind_data == 0, axis=1))[0]\n",
    "            if len(empty_row_indices)>0: # check that there is a row available\n",
    "                next_row = empty_row_indices[0] # choose the first available row\n",
    "            else:\n",
    "                print(\"ERROR: ran out of room in array!\") # print error message and stop\n",
    "                break\n",
    "            # add row for new lineage at random location\n",
    "            ind_data[next_row,:] = [1,np.random.uniform(0,L),np.random.uniform(0,L),curr_time,0]\n",
    "            \n",
    "        ### death\n",
    "        elif e_type == 'd':\n",
    "            ## choose individual who dies\n",
    "            indices = np.where(ind_data[:, 0] == 1) # all alive individuals\n",
    "            random_index = np.random.choice(indices[0]) # choose one at random\n",
    "            ind_data[random_index,0] = 0 # mark first column to dead\n",
    "            ind_data[random_index,4] = curr_time # mark time of death\n",
    "            \n",
    "        ### birth\n",
    "        elif e_type == 'b':\n",
    "            # find next empty row\n",
    "            empty_row_indices = np.where(np.all(ind_data == 0, axis=1))[0]\n",
    "            if len(empty_row_indices)>0: # check that there is a row available\n",
    "                next_row = empty_row_indices[0] # choose the first available row\n",
    "            else:\n",
    "                print(\"ERROR: ran out of room in array!\") # print error message and stop\n",
    "                break\n",
    "            # choose parent at random from alive individuals\n",
    "            indices = np.where(ind_data[:, 0] == 1)\n",
    "            random_index = np.random.choice(indices[0]) \n",
    "            # add row for new (split) lineage with location of parent\n",
    "            ind_data[next_row,:] = [1,ind_data[random_index,1],ind_data[random_index,2],curr_time,0]\n",
    "\n",
    "        ### sample NOTE: WILL WANT TO UPDATE TO SPATIAL SAMPLING\n",
    "        ### currently counts number of extant lineages & updates SFS\n",
    "        elif e_type == 's':\n",
    "            if int(k)<sfs_len:\n",
    "                sfs_dist[int(k)]+=1\n",
    "                # print for debugging\n",
    "                if k>0:\n",
    "                    print(k)\n",
    "            else:\n",
    "                print(\"Error: SFS entry out of bounds\")\n",
    "            \n",
    "        # update counter\n",
    "        counter+=1\n",
    "        \n",
    "    return sfs_dist, ind_data\n"
   ]
  },
  {
   "cell_type": "code",
   "execution_count": 248,
   "id": "4bebaa04",
   "metadata": {},
   "outputs": [
    {
     "name": "stdout",
     "output_type": "stream",
     "text": [
      "1.0\n",
      "2.0\n"
     ]
    }
   ],
   "source": [
    "counts,df = run_sim_spatial(s=1e-2,mu=1e-4,rho=2,r=0.1,sigma=0.2,num_iter=1000,max_ind=1000,L=50,sfs_len=1000)"
   ]
  },
  {
   "cell_type": "code",
   "execution_count": 249,
   "id": "380be94d",
   "metadata": {},
   "outputs": [
    {
     "data": {
      "text/plain": [
       "array([948.,   1.,   1.,   0.,   0.,   0.,   0.,   0.,   0.,   0.])"
      ]
     },
     "execution_count": 249,
     "metadata": {},
     "output_type": "execute_result"
    }
   ],
   "source": [
    "counts[0:10]"
   ]
  },
  {
   "cell_type": "code",
   "execution_count": 250,
   "id": "633a3e0a",
   "metadata": {},
   "outputs": [
    {
     "data": {
      "text/plain": [
       "array([[ 0.        , 39.34718477,  7.05375915, 10.01159898, 15.31347995],\n",
       "       [ 0.        , 41.8367739 ,  0.6946392 , 11.36879145, 45.6173186 ],\n",
       "       [ 0.        , 45.76539137,  0.50247148, 25.27989839, 65.25709843],\n",
       "       ...,\n",
       "       [ 0.        ,  0.        ,  0.        ,  0.        ,  0.        ],\n",
       "       [ 0.        ,  0.        ,  0.        ,  0.        ,  0.        ],\n",
       "       [ 0.        ,  0.        ,  0.        ,  0.        ,  0.        ]])"
      ]
     },
     "execution_count": 250,
     "metadata": {},
     "output_type": "execute_result"
    }
   ],
   "source": [
    "df"
   ]
  }
 ],
 "metadata": {
  "kernelspec": {
   "display_name": "Python 3 (ipykernel)",
   "language": "python",
   "name": "python3"
  },
  "language_info": {
   "codemirror_mode": {
    "name": "ipython",
    "version": 3
   },
   "file_extension": ".py",
   "mimetype": "text/x-python",
   "name": "python",
   "nbconvert_exporter": "python",
   "pygments_lexer": "ipython3",
   "version": "3.10.2"
  }
 },
 "nbformat": 4,
 "nbformat_minor": 5
}
