{
 "cells": [
  {
   "cell_type": "code",
   "execution_count": 31,
   "id": "e680808a",
   "metadata": {},
   "outputs": [],
   "source": [
    "import scipy\n",
    "import numpy as np \n",
    "import matplotlib.pyplot as plt\n",
    "import pandas as pd \n",
    "import statsmodels\n",
    "import statsmodels.api as sm\n",
    "import seaborn as sns\n",
    "import glob\n",
    "import os\n",
    "import sys\n",
    "from scipy import stats\n",
    "# import brokenaxes\n",
    "\n",
    "colors = sns.color_palette(\"colorblind\", 8)\n",
    "plt.rcParams.update({'font.size': 14})\n",
    "plt.rcParams.update({'font.family': 'sans-serif'})\n",
    "plt.rcParams.update({'font.sans-serif': 'Arial'})\n",
    "plt.rcParams.update({'figure.figsize': '10,8'})\n",
    "plt.rcParams.update({'lines.linewidth': 4})\n",
    "plt.rcParams.update({'lines.markersize': 12})\n",
    "plt.rcParams['axes.titlesize'] = 14"
   ]
  },
  {
   "cell_type": "code",
   "execution_count": 32,
   "id": "e53f93e4",
   "metadata": {},
   "outputs": [],
   "source": [
    "from scipy.special import erfinv\n",
    "from scipy.special import loggamma\n",
    "from scipy.stats import gamma\n",
    "from scipy.stats import nbinom\n",
    "from scipy import special\n",
    "import numpy as np\n",
    "import sys\n",
    "import math"
   ]
  },
  {
   "cell_type": "code",
   "execution_count": 33,
   "id": "d66ed524",
   "metadata": {},
   "outputs": [],
   "source": [
    "color_palette_original = [\n",
    "    \"#003f5c\",\n",
    "    \"#2f4b7c\",\n",
    "    \"#665191\",\n",
    "    \"#a05195\",\n",
    "    \"#d45087\",\n",
    "    \"#f95d6a\",\n",
    "    \"#ff7c43\",\n",
    "    \"#ffa600\"\n",
    "]\n"
   ]
  },
  {
   "cell_type": "code",
   "execution_count": 34,
   "id": "8056b08a",
   "metadata": {},
   "outputs": [],
   "source": [
    "sumstats = pd.read_csv('../empirical/gnomad_repeatsamps/sumstats.tsv',sep='\\t')\n",
    "freqs_pos = pd.read_csv('../empirical/gnomad_repeatsamps/mean_freqs_high.tsv',sep='\\t') "
   ]
  },
  {
   "cell_type": "code",
   "execution_count": 35,
   "id": "df07f538",
   "metadata": {},
   "outputs": [],
   "source": [
    "filenames = glob.glob('../empirical/gnomad_repeatsamps/sfs_counts/*')\n",
    "nfe_neutral = []\n",
    "eur_neutral = []\n",
    "nfe_high = []\n",
    "eur_high = []\n",
    "nfe_all = []\n",
    "eur_all = []\n",
    "for file in filenames:\n",
    "    df = pd.read_csv(file,sep='\\t')\n",
    "    nfe_neutral.append(df['ac_nfe_counts_neutral'])\n",
    "    eur_neutral.append(df['ac_eur_counts_neutral'])\n",
    "    nfe_high.append(df['ac_nfe_counts_high'])\n",
    "    eur_high.append(df['ac_eur_counts_high'])\n",
    "    nfe_all.append(df['ac_nfe_counts_neutral']+df['ac_nfe_counts_high'])\n",
    "    eur_all.append(df['ac_eur_counts_neutral']+df['ac_eur_counts_high'])"
   ]
  },
  {
   "cell_type": "code",
   "execution_count": 36,
   "id": "e369571e",
   "metadata": {},
   "outputs": [
    {
     "data": {
      "text/plain": [
       "[0        30683012.0\n",
       " 1         9254790.0\n",
       " 2         3890695.0\n",
       " 3         2137287.0\n",
       " 4         1387233.0\n",
       "             ...    \n",
       " 9996        12718.0\n",
       " 9997        15699.0\n",
       " 9998        19929.0\n",
       " 9999        26568.0\n",
       " 10000       49315.0\n",
       " Name: ac_nfe_counts_neutral, Length: 10001, dtype: float64,\n",
       " 0        30683133.0\n",
       " 1         9247389.0\n",
       " 2         3890404.0\n",
       " 3         2138971.0\n",
       " 4         1385399.0\n",
       "             ...    \n",
       " 9996        12361.0\n",
       " 9997        15811.0\n",
       " 9998        20241.0\n",
       " 9999        26632.0\n",
       " 10000       49072.0\n",
       " Name: ac_nfe_counts_neutral, Length: 10001, dtype: float64,\n",
       " 0        30695676.0\n",
       " 1         9255416.0\n",
       " 2         3889289.0\n",
       " 3         2139575.0\n",
       " 4         1387324.0\n",
       "             ...    \n",
       " 9996        12731.0\n",
       " 9997        15805.0\n",
       " 9998        20122.0\n",
       " 9999        26517.0\n",
       " 10000       49138.0\n",
       " Name: ac_nfe_counts_neutral, Length: 10001, dtype: float64,\n",
       " 0        30685312.0\n",
       " 1         9252199.0\n",
       " 2         3891822.0\n",
       " 3         2138062.0\n",
       " 4         1387067.0\n",
       "             ...    \n",
       " 9996        12440.0\n",
       " 9997        15809.0\n",
       " 9998        20027.0\n",
       " 9999        26656.0\n",
       " 10000       49155.0\n",
       " Name: ac_nfe_counts_neutral, Length: 10001, dtype: float64,\n",
       " 0        30684621.0\n",
       " 1         9252845.0\n",
       " 2         3891849.0\n",
       " 3         2136799.0\n",
       " 4         1386545.0\n",
       "             ...    \n",
       " 9996        12561.0\n",
       " 9997        15691.0\n",
       " 9998        20227.0\n",
       " 9999        26636.0\n",
       " 10000       49112.0\n",
       " Name: ac_nfe_counts_neutral, Length: 10001, dtype: float64,\n",
       " 0        30694769.0\n",
       " 1         9254997.0\n",
       " 2         3894259.0\n",
       " 3         2139041.0\n",
       " 4         1388647.0\n",
       "             ...    \n",
       " 9996        12677.0\n",
       " 9997        15757.0\n",
       " 9998        19862.0\n",
       " 9999        26707.0\n",
       " 10000       49131.0\n",
       " Name: ac_nfe_counts_neutral, Length: 10001, dtype: float64,\n",
       " 0        30690745.0\n",
       " 1         9261169.0\n",
       " 2         3888890.0\n",
       " 3         2135712.0\n",
       " 4         1387094.0\n",
       "             ...    \n",
       " 9996        12557.0\n",
       " 9997        15786.0\n",
       " 9998        20150.0\n",
       " 9999        26612.0\n",
       " 10000       49045.0\n",
       " Name: ac_nfe_counts_neutral, Length: 10001, dtype: float64,\n",
       " 0        30685541.0\n",
       " 1         9252771.0\n",
       " 2         3892092.0\n",
       " 3         2139884.0\n",
       " 4         1386985.0\n",
       "             ...    \n",
       " 9996        12656.0\n",
       " 9997        15710.0\n",
       " 9998        20187.0\n",
       " 9999        26573.0\n",
       " 10000       49113.0\n",
       " Name: ac_nfe_counts_neutral, Length: 10001, dtype: float64,\n",
       " 0        30695479.0\n",
       " 1         9257746.0\n",
       " 2         3894476.0\n",
       " 3         2137843.0\n",
       " 4         1387402.0\n",
       "             ...    \n",
       " 9996        12633.0\n",
       " 9997        15760.0\n",
       " 9998        20083.0\n",
       " 9999        26547.0\n",
       " 10000       49070.0\n",
       " Name: ac_nfe_counts_neutral, Length: 10001, dtype: float64,\n",
       " 0        30697952.0\n",
       " 1         9253203.0\n",
       " 2         3890477.0\n",
       " 3         2138389.0\n",
       " 4         1388593.0\n",
       "             ...    \n",
       " 9996        12620.0\n",
       " 9997        15686.0\n",
       " 9998        20084.0\n",
       " 9999        26757.0\n",
       " 10000       49107.0\n",
       " Name: ac_nfe_counts_neutral, Length: 10001, dtype: float64,\n",
       " 0        30688968.0\n",
       " 1         9251591.0\n",
       " 2         3892430.0\n",
       " 3         2136705.0\n",
       " 4         1385526.0\n",
       "             ...    \n",
       " 9996        12702.0\n",
       " 9997        15694.0\n",
       " 9998        20174.0\n",
       " 9999        26542.0\n",
       " 10000       49092.0\n",
       " Name: ac_nfe_counts_neutral, Length: 10001, dtype: float64,\n",
       " 0        30684621.0\n",
       " 1         9257603.0\n",
       " 2         3892447.0\n",
       " 3         2137238.0\n",
       " 4         1386830.0\n",
       "             ...    \n",
       " 9996        12651.0\n",
       " 9997        15594.0\n",
       " 9998        20240.0\n",
       " 9999        26688.0\n",
       " 10000       48922.0\n",
       " Name: ac_nfe_counts_neutral, Length: 10001, dtype: float64,\n",
       " 0        30684294.0\n",
       " 1         9257474.0\n",
       " 2         3893108.0\n",
       " 3         2138457.0\n",
       " 4         1387124.0\n",
       "             ...    \n",
       " 9996        12736.0\n",
       " 9997        15805.0\n",
       " 9998        20157.0\n",
       " 9999        26591.0\n",
       " 10000       49009.0\n",
       " Name: ac_nfe_counts_neutral, Length: 10001, dtype: float64,\n",
       " 0        30691282.0\n",
       " 1         9260493.0\n",
       " 2         3894236.0\n",
       " 3         2139951.0\n",
       " 4         1385483.0\n",
       "             ...    \n",
       " 9996        12415.0\n",
       " 9997        15862.0\n",
       " 9998        20266.0\n",
       " 9999        26498.0\n",
       " 10000       49145.0\n",
       " Name: ac_nfe_counts_neutral, Length: 10001, dtype: float64,\n",
       " 0        30696235.0\n",
       " 1         9258576.0\n",
       " 2         3894039.0\n",
       " 3         2136537.0\n",
       " 4         1385814.0\n",
       "             ...    \n",
       " 9996        12586.0\n",
       " 9997        15727.0\n",
       " 9998        19775.0\n",
       " 9999        26756.0\n",
       " 10000       49071.0\n",
       " Name: ac_nfe_counts_neutral, Length: 10001, dtype: float64,\n",
       " 0        30696332.0\n",
       " 1         9253540.0\n",
       " 2         3892563.0\n",
       " 3         2138568.0\n",
       " 4         1386223.0\n",
       "             ...    \n",
       " 9996        12690.0\n",
       " 9997        15753.0\n",
       " 9998        20161.0\n",
       " 9999        26447.0\n",
       " 10000       49119.0\n",
       " Name: ac_nfe_counts_neutral, Length: 10001, dtype: float64,\n",
       " 0        30689988.0\n",
       " 1         9257364.0\n",
       " 2         3894765.0\n",
       " 3         2136919.0\n",
       " 4         1385141.0\n",
       "             ...    \n",
       " 9996        12676.0\n",
       " 9997        15656.0\n",
       " 9998        19843.0\n",
       " 9999        26778.0\n",
       " 10000       49215.0\n",
       " Name: ac_nfe_counts_neutral, Length: 10001, dtype: float64,\n",
       " 0        30693158.0\n",
       " 1         9251000.0\n",
       " 2         3894526.0\n",
       " 3         2137338.0\n",
       " 4         1384452.0\n",
       "             ...    \n",
       " 9996        12500.0\n",
       " 9997        15805.0\n",
       " 9998        20039.0\n",
       " 9999        26614.0\n",
       " 10000       49080.0\n",
       " Name: ac_nfe_counts_neutral, Length: 10001, dtype: float64,\n",
       " 0        30693242.0\n",
       " 1         9261049.0\n",
       " 2         3892141.0\n",
       " 3         2136451.0\n",
       " 4         1387600.0\n",
       "             ...    \n",
       " 9996        12485.0\n",
       " 9997        15857.0\n",
       " 9998        20229.0\n",
       " 9999        26401.0\n",
       " 10000       49240.0\n",
       " Name: ac_nfe_counts_neutral, Length: 10001, dtype: float64,\n",
       " 0        30694390.0\n",
       " 1         9255664.0\n",
       " 2         3891560.0\n",
       " 3         2139035.0\n",
       " 4         1385364.0\n",
       "             ...    \n",
       " 9996        12589.0\n",
       " 9997        16004.0\n",
       " 9998        19953.0\n",
       " 9999        26673.0\n",
       " 10000       48961.0\n",
       " Name: ac_nfe_counts_neutral, Length: 10001, dtype: float64]"
      ]
     },
     "execution_count": 36,
     "metadata": {},
     "output_type": "execute_result"
    }
   ],
   "source": [
    "nfe_neutral"
   ]
  },
  {
   "cell_type": "code",
   "execution_count": 37,
   "id": "32aedac1",
   "metadata": {},
   "outputs": [],
   "source": [
    "# nfe_high_list = [x.tolist() for x in nfe_high]\n",
    "# eur_high_list = [x.tolist() for x in eur_high]\n",
    "\n",
    "nfe_all_list = [x.tolist() for x in nfe_all]\n",
    "eur_all_list = [x.tolist() for x in eur_all]"
   ]
  },
  {
   "cell_type": "code",
   "execution_count": 38,
   "id": "be47d8fd",
   "metadata": {},
   "outputs": [],
   "source": [
    "def get_zs(beta,Vp,n,a=1e-8):\n",
    "    vs = 2*erfinv(1-a)**2\n",
    "    return(0.5 - (0.5)*math.sqrt(1-(2*vs*(Vp/n))/((beta)**2)))\n",
    "\n",
    "def get_etaell_empirical(emp_sfs,beta,n=10000):\n",
    "    Vp = 1#Vg+Ve\n",
    "    xstar = get_zs(beta,Vp,n,a=1e-8)\n",
    "    upper_lim = math.floor(n*xstar)\n",
    "    sum_total = 0\n",
    "    sum_sfs = sum([0 if np.isnan(x) else x for x in emp_sfs])\n",
    "    for i in range(upper_lim+1):\n",
    "        if np.isnan(emp_sfs[i]):\n",
    "            sum_total+=0\n",
    "        else:\n",
    "            sum_total+=emp_sfs[i]/sum_sfs\n",
    "    result = 1 - min(sum_total,1)\n",
    "#     print(result)\n",
    "    return max(result,0)\n",
    "\n",
    "\n",
    "def burden_ncp_empirical(mean,var,n,\n",
    "               gamma=2,prop_cases=0.5,num_snps=100,num_assoc=100):\n",
    "    num_cases = math.floor(prop_cases*n) # round to integer\n",
    "    num_controls = n-num_cases\n",
    "    ncp = np.sqrt((2*num_cases*num_controls)/(num_cases+num_controls))*(num_assoc/np.sqrt(num_snps))*(mean/(np.sqrt(var+mean-mean**2)))*(gamma-1)\n",
    "    return ncp\n",
    "\n",
    "def power_from_ncp(ncp,alpha,df=1):\n",
    "    power = 1 - stats.ncx2.cdf(stats.chi2.ppf(1 - alpha, df=1), df=1, nc=ncp)\n",
    "    return power\n",
    "\n",
    "def power_all_burden_empirical(mean,var,n,gamma=2,prop_cases=0.1,num_snps=100,num_assoc=100,alpha=5e-8,df=1):\n",
    "    ncp_temp = burden_ncp_empirical(mean,var,n,gamma=gamma,prop_cases=prop_cases,\n",
    "                         num_snps=num_snps,num_assoc=num_assoc)\n",
    "    power_temp = power_from_ncp(ncp_temp,alpha,df)\n",
    "    return power_temp\n",
    "\n"
   ]
  },
  {
   "cell_type": "code",
   "execution_count": 39,
   "id": "3b2e73cf",
   "metadata": {},
   "outputs": [],
   "source": [
    "beta = 0.1\n",
    "nfe_pow_beta01 = [get_etaell_empirical(sfs_temp,beta) for sfs_temp in nfe_all_list]\n",
    "eur_pow_beta01 = [get_etaell_empirical(sfs_temp,beta) for sfs_temp in eur_all_list]\n",
    "\n",
    "beta = 1\n",
    "nfe_pow_beta1 = [get_etaell_empirical(sfs_temp,beta) for sfs_temp in nfe_all_list]\n",
    "eur_pow_beta1 = [get_etaell_empirical(sfs_temp,beta) for sfs_temp in eur_all_list]\n",
    "\n",
    "beta = 10\n",
    "nfe_pow_beta10 = [get_etaell_empirical(sfs_temp,beta) for sfs_temp in nfe_all_list]\n",
    "eur_pow_beta10 = [get_etaell_empirical(sfs_temp,beta) for sfs_temp in eur_all_list]"
   ]
  },
  {
   "cell_type": "code",
   "execution_count": 40,
   "id": "c5032d85",
   "metadata": {},
   "outputs": [],
   "source": [
    "L = 1000\n",
    "n = 100000\n",
    "\n",
    "g_list = [1.2,1.4,2]\n",
    "\n",
    "ccratio=1e-3\n",
    "pairs_nfe = sumstats.iloc[:, [1,6]].values\n",
    "pairs_eur = sumstats.iloc[:, [4,7]].values\n",
    "\n",
    "nfe_pow_gamma0 = [power_all_burden_empirical(pair[0],pair[1], n, prop_cases=ccratio, gamma=g_list[0],num_snps=L,num_assoc=L) for pair in pairs_nfe]\n",
    "nfe_pow_gamma1 = [power_all_burden_empirical(pair[0],pair[1], n, prop_cases=ccratio, gamma=g_list[1],num_snps=L,num_assoc=L) for pair in pairs_nfe]\n",
    "nfe_pow_gamma2 = [power_all_burden_empirical(pair[0],pair[1], n, prop_cases=ccratio, gamma=g_list[2],num_snps=L,num_assoc=L) for pair in pairs_nfe]\n",
    "\n",
    "\n",
    "eur_pow_gamma0 = [power_all_burden_empirical(pair[0],pair[1], n, prop_cases=ccratio, gamma=g_list[0],num_snps=L,num_assoc=L) for pair in pairs_eur]\n",
    "eur_pow_gamma1 = [power_all_burden_empirical(pair[0],pair[1], n, prop_cases=ccratio, gamma=g_list[1],num_snps=L,num_assoc=L) for pair in pairs_eur]\n",
    "eur_pow_gamma2 = [power_all_burden_empirical(pair[0],pair[1], n, prop_cases=ccratio, gamma=g_list[2],num_snps=L,num_assoc=L) for pair in pairs_eur]\n",
    "\n",
    "# pairs_eur"
   ]
  },
  {
   "cell_type": "code",
   "execution_count": 41,
   "id": "c3d3b940",
   "metadata": {},
   "outputs": [
    {
     "data": {
      "text/plain": [
       "array([[0.04269167, 0.02100609],\n",
       "       [0.0426977 , 0.02100917],\n",
       "       [0.04269547, 0.02100797],\n",
       "       [0.04270997, 0.0210146 ],\n",
       "       [0.04270391, 0.02101176],\n",
       "       [0.04270328, 0.02101131],\n",
       "       [0.04270621, 0.02101295],\n",
       "       [0.04269749, 0.02100876],\n",
       "       [0.04270203, 0.02101109],\n",
       "       [0.04270205, 0.02101094],\n",
       "       [0.04269517, 0.02100774],\n",
       "       [0.04269335, 0.02100704],\n",
       "       [0.0427029 , 0.02101141],\n",
       "       [0.04269521, 0.02100786],\n",
       "       [0.04269572, 0.02100807],\n",
       "       [0.04269093, 0.02100575],\n",
       "       [0.04270009, 0.02101016],\n",
       "       [0.04269317, 0.02100669],\n",
       "       [0.04269416, 0.02100745],\n",
       "       [0.0426948 , 0.02100763]])"
      ]
     },
     "execution_count": 41,
     "metadata": {},
     "output_type": "execute_result"
    }
   ],
   "source": [
    "pairs_eur"
   ]
  },
  {
   "cell_type": "code",
   "execution_count": 42,
   "id": "c2292061",
   "metadata": {},
   "outputs": [
    {
     "data": {
      "text/plain": [
       "[0.5351408148272343,\n",
       " 0.5352198128267056,\n",
       " 0.5351911561009923,\n",
       " 0.5353880687399741,\n",
       " 0.5353063689867954,\n",
       " 0.5352992750134404,\n",
       " 0.535336459281286,\n",
       " 0.5352197265914644,\n",
       " 0.5352792173550416,\n",
       " 0.535280741193821,\n",
       " 0.5351878726498217,\n",
       " 0.5351620039339811,\n",
       " 0.5352916259054465,\n",
       " 0.5351874957722728,\n",
       " 0.5351946030815906,\n",
       " 0.5351308491331335,\n",
       " 0.5352531014895396,\n",
       " 0.5351620172367467,\n",
       " 0.5351727302750627,\n",
       " 0.5351823547418074]"
      ]
     },
     "execution_count": 42,
     "metadata": {},
     "output_type": "execute_result"
    }
   ],
   "source": [
    "eur_pow_gamma1"
   ]
  },
  {
   "cell_type": "code",
   "execution_count": 43,
   "id": "5d805a3e",
   "metadata": {},
   "outputs": [],
   "source": [
    "data_list = [nfe_pow_beta01, eur_pow_beta01, nfe_pow_beta1, eur_pow_beta1, nfe_pow_beta10, eur_pow_beta10]\n",
    "means = [np.mean(data) for data in data_list]\n",
    "errors = [np.std(data,ddof=1) for data in data_list]"
   ]
  },
  {
   "cell_type": "code",
   "execution_count": 47,
   "id": "1b52240c",
   "metadata": {},
   "outputs": [
    {
     "data": {
      "text/plain": [
       "[4.773959005888173e-16,\n",
       " 3.3861802251067273e-16,\n",
       " 0.1332391909965535,\n",
       " 0.2026258667298504,\n",
       " 0.4928631582719628,\n",
       " 0.8793232231431751]"
      ]
     },
     "execution_count": 47,
     "metadata": {},
     "output_type": "execute_result"
    }
   ],
   "source": [
    "means"
   ]
  },
  {
   "cell_type": "code",
   "execution_count": 44,
   "id": "cee477be",
   "metadata": {},
   "outputs": [],
   "source": [
    "data_list_burden = [nfe_pow_gamma0,eur_pow_gamma0,nfe_pow_gamma1,eur_pow_gamma1,nfe_pow_gamma2,eur_pow_gamma2]\n",
    "means_burden = [np.mean(data) for data in data_list_burden]\n",
    "errors_burden = [np.std(data,ddof=1) for data in data_list_burden]\n"
   ]
  },
  {
   "cell_type": "code",
   "execution_count": 45,
   "id": "9b905bd8",
   "metadata": {},
   "outputs": [
    {
     "data": {
      "text/plain": [
       "[0.1626630071553116,\n",
       " 0.06249906631570595,\n",
       " 0.8070360783448829,\n",
       " 0.5352293147568079,\n",
       " 0.9999971719895214,\n",
       " 0.9995297988771294]"
      ]
     },
     "execution_count": 45,
     "metadata": {},
     "output_type": "execute_result"
    }
   ],
   "source": [
    "means_burden"
   ]
  },
  {
   "cell_type": "code",
   "execution_count": 46,
   "id": "a509d58c",
   "metadata": {},
   "outputs": [
    {
     "data": {
      "image/png": "[encoded data removed]",
      "text/plain": [
       "<Figure size 1008x432 with 2 Axes>"
      ]
     },
     "metadata": {
      "needs_background": "light"
     },
     "output_type": "display_data"
    }
   ],
   "source": [
    "import matplotlib.pyplot as plt\n",
    "import numpy as np\n",
    "\n",
    "# Sample data\n",
    "samps = [r'narrow, $\\beta=0.1$', r'broad, $\\beta=0.1$', r'narrow, $\\beta=1$', r'broad, $\\beta=1$', r'narrow, $\\beta=10$', r'broad, $\\beta=10$']\n",
    "# means = [your_mean_values_here]\n",
    "# errors = [your_error_values_here]\n",
    "\n",
    "# Create a bar plot with alternating colors\n",
    "fig, ax = plt.subplots(1, 2, figsize=(14, 6))\n",
    "bars = ax[0].bar(np.arange(len(samps)), means, yerr=errors, capsize=10, error_kw={'linewidth': 1.2}, align='center')\n",
    "\n",
    "# Set colors based on \"broad\" or \"narrow\"\n",
    "colors = [ color_palette_original[1] if 'narrow' in samp.lower() else color_palette_original[6] for samp in samps]\n",
    "\n",
    "# Add labels for mean values on top of each bar with custom colors\n",
    "for i, (bar, mean_value) in enumerate(zip(bars, means)):\n",
    "    bar.set_color(colors[i])\n",
    "    ax[0].annotate(f'{mean_value:.2f}', xy=(bar.get_x() + bar.get_width() / 2, bar.get_height()),\n",
    "                   xytext=(0, 3),  # 3 points vertical offset\n",
    "                   textcoords=\"offset points\",\n",
    "                   ha='center', va='bottom', fontsize=12, color='black')\n",
    "\n",
    "# Add legend for bar colors\n",
    "legend_labels = ['Narrow', 'Broad']\n",
    "ax[0].legend(handles=[plt.Line2D([0], [0], color=color_palette_original[1], linewidth=8),\n",
    "                      plt.Line2D([0], [0], color=color_palette_original[6], linewidth=8)],\n",
    "            labels=legend_labels,frameon=False,loc='upper left')\n",
    "\n",
    "# Label each pair of bars by beta\n",
    "beta_labels = [r'$\\beta=0.1$', r'$\\beta=1$', r'$\\beta=10$']\n",
    "ax[0].set_xticks(np.arange(0, len(samps), 2))\n",
    "ax[0].set_xticklabels([])  # Clear existing labels\n",
    "\n",
    "# Calculate the center position for beta labels\n",
    "center_positions = np.arange(0, len(samps), 2) + 0.5\n",
    "ax[0].set_xticks(center_positions)\n",
    "ax[0].set_xticklabels(beta_labels)\n",
    "\n",
    "# Customize the plot\n",
    "ax[0].set_ylabel('Mean Power (20 Replicates)')\n",
    "ax[0].set_xlabel('Sample')\n",
    "ax[0].tick_params(axis='x', rotation=0)\n",
    "ax[0].set_title(\"Single-variant GWAS power\")\n",
    "ax[0].set_ylim(0,1.2)\n",
    "\n",
    "samps = [r'narrow, $\\gamma=1.2$', r'broad, $\\gamma=1.2$', r'narrow, $\\gamma=1.4$', r'broad, $\\gamma=1.4$', r'narrow, $\\beta=2$', r'broad, $\\beta=2$']\n",
    "bars = ax[1].bar(np.arange(len(samps)), means_burden, yerr=errors_burden, capsize=10, error_kw={'linewidth': 1.2}, align='center')\n",
    "\n",
    "# Set colors based on \"broad\" or \"narrow\"\n",
    "colors = [ color_palette_original[1] if 'narrow' in samp.lower() else color_palette_original[6] for samp in samps]\n",
    "\n",
    "# Add labels for mean values on top of each bar with custom colors\n",
    "for i, (bar, mean_value) in enumerate(zip(bars, means_burden)):\n",
    "    bar.set_color(colors[i])\n",
    "    ax[1].annotate(f'{mean_value:.2f}', xy=(bar.get_x() + bar.get_width() / 2, bar.get_height()),\n",
    "                   xytext=(0, 3),  # 3 points vertical offset\n",
    "                   textcoords=\"offset points\",\n",
    "                   ha='center', va='bottom', fontsize=12, color='black')\n",
    "\n",
    "# Add legend for bar colors\n",
    "legend_labels = ['Narrow', 'Broad']\n",
    "ax[1].legend(handles=[plt.Line2D([0], [0], color=color_palette_original[1], linewidth=8),\n",
    "                      plt.Line2D([0], [0], color=color_palette_original[6], linewidth=8)],\n",
    "            labels=legend_labels,frameon=False,loc='upper left')\n",
    "\n",
    "# Label each pair of bars by beta\n",
    "beta_labels = [r'$\\gamma=1.2$', r'$\\gamma=1.4$', r'$\\gamma=2$']\n",
    "ax[1].set_xticks(np.arange(0, len(samps), 2))\n",
    "ax[1].set_xticklabels([])  # Clear existing labels\n",
    "\n",
    "# Calculate the center position for beta labels\n",
    "center_positions = np.arange(0, len(samps), 2) + 0.5\n",
    "ax[1].set_xticks(center_positions)\n",
    "ax[1].set_xticklabels(beta_labels)\n",
    "\n",
    "# Customize the plot\n",
    "ax[1].set_ylabel('Mean Power (20 Replicates)')\n",
    "ax[1].set_xlabel('Sample')\n",
    "ax[1].tick_params(axis='x', rotation=0)\n",
    "ax[1].set_title(\"Burden test power\")\n",
    "ax[1].set_ylim(0,1.2)\n",
    "\n",
    "# Show the plot\n",
    "plt.savefig(\"power_empirical_gnomad.pdf\")"
   ]
  },
  {
   "cell_type": "code",
   "execution_count": 48,
   "id": "67d8c40f",
   "metadata": {},
   "outputs": [
    {
     "data": {
      "image/png": "[encoded data removed]",
      "text/plain": [
       "<Figure size 720x576 with 1 Axes>"
      ]
     },
     "metadata": {
      "needs_background": "light"
     },
     "output_type": "display_data"
    }
   ],
   "source": [
    "fig, ax = plt.subplots()\n",
    "bars = ax.bar(np.arange(2), means[0:1], yerr=errors[0:1], capsize=10, error_kw={'linewidth': 1.2}, align='center')\n"
   ]
  },
  {
   "cell_type": "code",
   "execution_count": 50,
   "id": "c0e9aa6a",
   "metadata": {},
   "outputs": [
    {
     "data": {
      "text/plain": [
       "[6.863751499891398e-16,\n",
       " 2.801150000071654e-16,\n",
       " 0.00020666406283563702,\n",
       " 0.00023380828248312007,\n",
       " 0.0001335244724881928,\n",
       " 3.2442123236727266e-05]"
      ]
     },
     "execution_count": 50,
     "metadata": {},
     "output_type": "execute_result"
    }
   ],
   "source": []
  },
  {
   "cell_type": "code",
   "execution_count": 206,
   "id": "467e70a8",
   "metadata": {},
   "outputs": [
    {
     "data": {
      "text/plain": [
       "<BarContainer object of 2 artists>"
      ]
     },
     "execution_count": 206,
     "metadata": {},
     "output_type": "execute_result"
    },
    {
     "data": {
      "image/png": "[encoded data removed]",
      "text/plain": [
       "<Figure size 720x576 with 1 Axes>"
      ]
     },
     "metadata": {
      "needs_background": "light"
     },
     "output_type": "display_data"
    }
   ],
   "source": [
    "plt.bar(['nfe','eur'],[np.mean(sumstats['af_var_nfe']),np.mean(sumstats['af_var_eur'])])"
   ]
  },
  {
   "cell_type": "code",
   "execution_count": 207,
   "id": "a759794f",
   "metadata": {},
   "outputs": [
    {
     "data": {
      "image/png": "[encoded data removed]",
      "text/plain": [
       "<Figure size 1008x432 with 2 Axes>"
      ]
     },
     "metadata": {
      "needs_background": "light"
     },
     "output_type": "display_data"
    }
   ],
   "source": [
    "import matplotlib.pyplot as plt\n",
    "import numpy as np\n",
    "\n",
    "# Sample data\n",
    "samps = [r'narrow, $\\beta=0.1$', r'broad, $\\beta=0.1$', r'narrow, $\\beta=1$', r'broad, $\\beta=1$', r'narrow, $\\beta=10$', r'broad, $\\beta=10$']\n",
    "# means = [your_mean_values_here]\n",
    "# errors = [your_error_values_here]\n",
    "\n",
    "# Create a bar plot with alternating colors\n",
    "fig, ax = plt.subplots(1, 2, figsize=(14, 6))\n",
    "bars = ax[0].bar(np.arange(len(samps)), means, yerr=errors, capsize=10, error_kw={'linewidth': 1.2}, align='center')\n",
    "\n",
    "# Set colors based on \"broad\" or \"narrow\"\n",
    "colors = [ color_palette_original[1] if 'narrow' in samp.lower() else color_palette_original[6] for samp in samps]\n",
    "\n",
    "# Add labels for mean values on top of each bar with custom colors\n",
    "for i, (bar, mean_value) in enumerate(zip(bars, means)):\n",
    "    bar.set_color(colors[i])\n",
    "    ax[0].annotate(f'{mean_value:.2f}', xy=(bar.get_x() + bar.get_width() / 2, bar.get_height()),\n",
    "                   xytext=(0, 3),  # 3 points vertical offset\n",
    "                   textcoords=\"offset points\",\n",
    "                   ha='center', va='bottom', fontsize=12, color='black')\n",
    "\n",
    "# Add legend for bar colors\n",
    "legend_labels = ['Narrow', 'Broad']\n",
    "ax[0].legend(handles=[plt.Line2D([0], [0], color=color_palette_original[1], linewidth=8),\n",
    "                      plt.Line2D([0], [0], color=color_palette_original[6], linewidth=8)],\n",
    "            labels=legend_labels,frameon=False,loc='upper left')\n",
    "\n",
    "# Label each pair of bars by beta\n",
    "beta_labels = [r'$\\beta=0.1$', r'$\\beta=1$', r'$\\beta=10$']\n",
    "ax[0].set_xticks(np.arange(0, len(samps), 2))\n",
    "ax[0].set_xticklabels([])  # Clear existing labels\n",
    "\n",
    "# Calculate the center position for beta labels\n",
    "center_positions = np.arange(0, len(samps), 2) + 0.5\n",
    "ax[0].set_xticks(center_positions)\n",
    "ax[0].set_xticklabels(beta_labels)\n",
    "\n",
    "# Customize the plot\n",
    "ax[0].set_ylabel('Mean Power (20 Replicates)')\n",
    "ax[0].set_xlabel('Sample')\n",
    "ax[0].tick_params(axis='x', rotation=0)\n",
    "ax[0].set_title(\"Single-variant GWAS power\")\n",
    "ax[0].set_ylim(0,1.2)\n",
    "\n",
    "samps = [r'narrow, $\\gamma=1.2$', r'broad, $\\gamma=1.2$', r'narrow, $\\gamma=1.4$', r'broad, $\\gamma=1.4$', r'narrow, $\\beta=2$', r'broad, $\\beta=2$']\n",
    "bars = ax[1].bar(np.arange(len(samps)), means_burden, yerr=errors_burden, capsize=10, error_kw={'linewidth': 1.2}, align='center')\n",
    "\n",
    "# Set colors based on \"broad\" or \"narrow\"\n",
    "colors = [ color_palette_original[1] if 'narrow' in samp.lower() else color_palette_original[6] for samp in samps]\n",
    "\n",
    "# Add labels for mean values on top of each bar with custom colors\n",
    "for i, (bar, mean_value) in enumerate(zip(bars, means_burden)):\n",
    "    bar.set_color(colors[i])\n",
    "    ax[1].annotate(f'{mean_value:.2f}', xy=(bar.get_x() + bar.get_width() / 2, bar.get_height()),\n",
    "                   xytext=(0, 3),  # 3 points vertical offset\n",
    "                   textcoords=\"offset points\",\n",
    "                   ha='center', va='bottom', fontsize=12, color='black')\n",
    "\n",
    "# Add legend for bar colors\n",
    "legend_labels = ['Narrow', 'Broad']\n",
    "ax[1].legend(handles=[plt.Line2D([0], [0], color=color_palette_original[1], linewidth=8),\n",
    "                      plt.Line2D([0], [0], color=color_palette_original[6], linewidth=8)],\n",
    "            labels=legend_labels,frameon=False,loc='upper left')\n",
    "\n",
    "# Label each pair of bars by beta\n",
    "beta_labels = [r'$\\gamma=1.2$', r'$\\gamma=1.4$', r'$\\gamma=2$']\n",
    "ax[1].set_xticks(np.arange(0, len(samps), 2))\n",
    "ax[1].set_xticklabels([])  # Clear existing labels\n",
    "\n",
    "# Calculate the center position for beta labels\n",
    "center_positions = np.arange(0, len(samps), 2) + 0.5\n",
    "ax[1].set_xticks(center_positions)\n",
    "ax[1].set_xticklabels(beta_labels)\n",
    "\n",
    "# Customize the plot\n",
    "ax[1].set_ylabel('Mean Power (20 Replicates)')\n",
    "ax[1].set_xlabel('Sample')\n",
    "ax[1].tick_params(axis='x', rotation=0)\n",
    "ax[1].set_title(\"Burden test power\")\n",
    "ax[1].set_ylim(0,1.2)\n",
    "\n",
    "# Show the plot\n",
    "plt.savefig(\"power_empirical_gnomad.pdf\")"
   ]
  }
 ],
 "metadata": {
  "kernelspec": {
   "display_name": "Python 3",
   "language": "python",
   "name": "python3"
  },
  "language_info": {
   "codemirror_mode": {
    "name": "ipython",
    "version": 3
   },
   "file_extension": ".py",
   "mimetype": "text/x-python",
   "name": "python",
   "nbconvert_exporter": "python",
   "pygments_lexer": "ipython3",
   "version": "3.9.2"
  }
 },
 "nbformat": 4,
 "nbformat_minor": 5
}
