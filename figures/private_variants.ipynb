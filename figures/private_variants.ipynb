{
 "cells": [
  {
   "cell_type": "code",
   "execution_count": 1,
   "id": "8908c584-70a7-4148-897f-dd8cfaf68130",
   "metadata": {},
   "outputs": [
    {
     "name": "stdout",
     "output_type": "stream",
     "text": [
      "Intel MKL WARNING: Support of Intel(R) Streaming SIMD Extensions 4.2 (Intel(R) SSE4.2) enabled only processors has been deprecated. Intel oneAPI Math Kernel Library 2025.0 will require Intel(R) Advanced Vector Extensions (Intel(R) AVX) instructions.\n",
      "Intel MKL WARNING: Support of Intel(R) Streaming SIMD Extensions 4.2 (Intel(R) SSE4.2) enabled only processors has been deprecated. Intel oneAPI Math Kernel Library 2025.0 will require Intel(R) Advanced Vector Extensions (Intel(R) AVX) instructions.\n"
     ]
    }
   ],
   "source": [
    "import numpy as np\n",
    "import pandas as pd\n",
    "from matplotlib import pyplot as plt\n",
    "import seaborn as sns\n",
    "import matplotlib.gridspec as gridspec"
   ]
  },
  {
   "cell_type": "markdown",
   "id": "89c48220-d710-4d55-8ff0-aea7136fa23f",
   "metadata": {},
   "source": [
    "### Step 1: generate list of private variants"
   ]
  },
  {
   "cell_type": "code",
   "execution_count": 2,
   "id": "6076bb72-9ade-4cbc-a014-0278e8f51e24",
   "metadata": {},
   "outputs": [
    {
     "name": "stdout",
     "output_type": "stream",
     "text": [
      "1\n"
     ]
    },
    {
     "name": "stderr",
     "output_type": "stream",
     "text": [
      "/var/folders/r0/wf2xsjdx3h366x3_hj3b7xdc0000gp/T/ipykernel_3452/2222876257.py:4: FutureWarning: The 'delim_whitespace' keyword in pd.read_csv is deprecated and will be removed in a future version. Use ``sep='\\s+'`` instead\n",
      "  df = pd.read_csv(f'../empirical/subsampling_vF/data/frq/merged_chr{chr}_withingroups_all.tsv',delim_whitespace=True)\n"
     ]
    },
    {
     "name": "stdout",
     "output_type": "stream",
     "text": [
      "2\n"
     ]
    },
    {
     "name": "stderr",
     "output_type": "stream",
     "text": [
      "/var/folders/r0/wf2xsjdx3h366x3_hj3b7xdc0000gp/T/ipykernel_3452/2222876257.py:4: FutureWarning: The 'delim_whitespace' keyword in pd.read_csv is deprecated and will be removed in a future version. Use ``sep='\\s+'`` instead\n",
      "  df = pd.read_csv(f'../empirical/subsampling_vF/data/frq/merged_chr{chr}_withingroups_all.tsv',delim_whitespace=True)\n"
     ]
    },
    {
     "name": "stdout",
     "output_type": "stream",
     "text": [
      "3\n"
     ]
    },
    {
     "name": "stderr",
     "output_type": "stream",
     "text": [
      "/var/folders/r0/wf2xsjdx3h366x3_hj3b7xdc0000gp/T/ipykernel_3452/2222876257.py:4: FutureWarning: The 'delim_whitespace' keyword in pd.read_csv is deprecated and will be removed in a future version. Use ``sep='\\s+'`` instead\n",
      "  df = pd.read_csv(f'../empirical/subsampling_vF/data/frq/merged_chr{chr}_withingroups_all.tsv',delim_whitespace=True)\n"
     ]
    },
    {
     "name": "stdout",
     "output_type": "stream",
     "text": [
      "4\n"
     ]
    },
    {
     "name": "stderr",
     "output_type": "stream",
     "text": [
      "/var/folders/r0/wf2xsjdx3h366x3_hj3b7xdc0000gp/T/ipykernel_3452/2222876257.py:4: FutureWarning: The 'delim_whitespace' keyword in pd.read_csv is deprecated and will be removed in a future version. Use ``sep='\\s+'`` instead\n",
      "  df = pd.read_csv(f'../empirical/subsampling_vF/data/frq/merged_chr{chr}_withingroups_all.tsv',delim_whitespace=True)\n"
     ]
    },
    {
     "name": "stdout",
     "output_type": "stream",
     "text": [
      "5\n"
     ]
    },
    {
     "name": "stderr",
     "output_type": "stream",
     "text": [
      "/var/folders/r0/wf2xsjdx3h366x3_hj3b7xdc0000gp/T/ipykernel_3452/2222876257.py:4: FutureWarning: The 'delim_whitespace' keyword in pd.read_csv is deprecated and will be removed in a future version. Use ``sep='\\s+'`` instead\n",
      "  df = pd.read_csv(f'../empirical/subsampling_vF/data/frq/merged_chr{chr}_withingroups_all.tsv',delim_whitespace=True)\n"
     ]
    },
    {
     "name": "stdout",
     "output_type": "stream",
     "text": [
      "6\n"
     ]
    },
    {
     "name": "stderr",
     "output_type": "stream",
     "text": [
      "/var/folders/r0/wf2xsjdx3h366x3_hj3b7xdc0000gp/T/ipykernel_3452/2222876257.py:4: FutureWarning: The 'delim_whitespace' keyword in pd.read_csv is deprecated and will be removed in a future version. Use ``sep='\\s+'`` instead\n",
      "  df = pd.read_csv(f'../empirical/subsampling_vF/data/frq/merged_chr{chr}_withingroups_all.tsv',delim_whitespace=True)\n"
     ]
    },
    {
     "name": "stdout",
     "output_type": "stream",
     "text": [
      "7\n"
     ]
    },
    {
     "name": "stderr",
     "output_type": "stream",
     "text": [
      "/var/folders/r0/wf2xsjdx3h366x3_hj3b7xdc0000gp/T/ipykernel_3452/2222876257.py:4: FutureWarning: The 'delim_whitespace' keyword in pd.read_csv is deprecated and will be removed in a future version. Use ``sep='\\s+'`` instead\n",
      "  df = pd.read_csv(f'../empirical/subsampling_vF/data/frq/merged_chr{chr}_withingroups_all.tsv',delim_whitespace=True)\n"
     ]
    },
    {
     "name": "stdout",
     "output_type": "stream",
     "text": [
      "8\n"
     ]
    },
    {
     "name": "stderr",
     "output_type": "stream",
     "text": [
      "/var/folders/r0/wf2xsjdx3h366x3_hj3b7xdc0000gp/T/ipykernel_3452/2222876257.py:4: FutureWarning: The 'delim_whitespace' keyword in pd.read_csv is deprecated and will be removed in a future version. Use ``sep='\\s+'`` instead\n",
      "  df = pd.read_csv(f'../empirical/subsampling_vF/data/frq/merged_chr{chr}_withingroups_all.tsv',delim_whitespace=True)\n"
     ]
    },
    {
     "name": "stdout",
     "output_type": "stream",
     "text": [
      "9\n"
     ]
    },
    {
     "name": "stderr",
     "output_type": "stream",
     "text": [
      "/var/folders/r0/wf2xsjdx3h366x3_hj3b7xdc0000gp/T/ipykernel_3452/2222876257.py:4: FutureWarning: The 'delim_whitespace' keyword in pd.read_csv is deprecated and will be removed in a future version. Use ``sep='\\s+'`` instead\n",
      "  df = pd.read_csv(f'../empirical/subsampling_vF/data/frq/merged_chr{chr}_withingroups_all.tsv',delim_whitespace=True)\n"
     ]
    },
    {
     "name": "stdout",
     "output_type": "stream",
     "text": [
      "10\n"
     ]
    },
    {
     "name": "stderr",
     "output_type": "stream",
     "text": [
      "/var/folders/r0/wf2xsjdx3h366x3_hj3b7xdc0000gp/T/ipykernel_3452/2222876257.py:4: FutureWarning: The 'delim_whitespace' keyword in pd.read_csv is deprecated and will be removed in a future version. Use ``sep='\\s+'`` instead\n",
      "  df = pd.read_csv(f'../empirical/subsampling_vF/data/frq/merged_chr{chr}_withingroups_all.tsv',delim_whitespace=True)\n"
     ]
    },
    {
     "name": "stdout",
     "output_type": "stream",
     "text": [
      "11\n"
     ]
    },
    {
     "name": "stderr",
     "output_type": "stream",
     "text": [
      "/var/folders/r0/wf2xsjdx3h366x3_hj3b7xdc0000gp/T/ipykernel_3452/2222876257.py:4: FutureWarning: The 'delim_whitespace' keyword in pd.read_csv is deprecated and will be removed in a future version. Use ``sep='\\s+'`` instead\n",
      "  df = pd.read_csv(f'../empirical/subsampling_vF/data/frq/merged_chr{chr}_withingroups_all.tsv',delim_whitespace=True)\n"
     ]
    },
    {
     "name": "stdout",
     "output_type": "stream",
     "text": [
      "12\n"
     ]
    },
    {
     "name": "stderr",
     "output_type": "stream",
     "text": [
      "/var/folders/r0/wf2xsjdx3h366x3_hj3b7xdc0000gp/T/ipykernel_3452/2222876257.py:4: FutureWarning: The 'delim_whitespace' keyword in pd.read_csv is deprecated and will be removed in a future version. Use ``sep='\\s+'`` instead\n",
      "  df = pd.read_csv(f'../empirical/subsampling_vF/data/frq/merged_chr{chr}_withingroups_all.tsv',delim_whitespace=True)\n"
     ]
    },
    {
     "name": "stdout",
     "output_type": "stream",
     "text": [
      "13\n"
     ]
    },
    {
     "name": "stderr",
     "output_type": "stream",
     "text": [
      "/var/folders/r0/wf2xsjdx3h366x3_hj3b7xdc0000gp/T/ipykernel_3452/2222876257.py:4: FutureWarning: The 'delim_whitespace' keyword in pd.read_csv is deprecated and will be removed in a future version. Use ``sep='\\s+'`` instead\n",
      "  df = pd.read_csv(f'../empirical/subsampling_vF/data/frq/merged_chr{chr}_withingroups_all.tsv',delim_whitespace=True)\n"
     ]
    },
    {
     "name": "stdout",
     "output_type": "stream",
     "text": [
      "14\n"
     ]
    },
    {
     "name": "stderr",
     "output_type": "stream",
     "text": [
      "/var/folders/r0/wf2xsjdx3h366x3_hj3b7xdc0000gp/T/ipykernel_3452/2222876257.py:4: FutureWarning: The 'delim_whitespace' keyword in pd.read_csv is deprecated and will be removed in a future version. Use ``sep='\\s+'`` instead\n",
      "  df = pd.read_csv(f'../empirical/subsampling_vF/data/frq/merged_chr{chr}_withingroups_all.tsv',delim_whitespace=True)\n"
     ]
    },
    {
     "name": "stdout",
     "output_type": "stream",
     "text": [
      "15\n"
     ]
    },
    {
     "name": "stderr",
     "output_type": "stream",
     "text": [
      "/var/folders/r0/wf2xsjdx3h366x3_hj3b7xdc0000gp/T/ipykernel_3452/2222876257.py:4: FutureWarning: The 'delim_whitespace' keyword in pd.read_csv is deprecated and will be removed in a future version. Use ``sep='\\s+'`` instead\n",
      "  df = pd.read_csv(f'../empirical/subsampling_vF/data/frq/merged_chr{chr}_withingroups_all.tsv',delim_whitespace=True)\n"
     ]
    },
    {
     "name": "stdout",
     "output_type": "stream",
     "text": [
      "16\n"
     ]
    },
    {
     "name": "stderr",
     "output_type": "stream",
     "text": [
      "/var/folders/r0/wf2xsjdx3h366x3_hj3b7xdc0000gp/T/ipykernel_3452/2222876257.py:4: FutureWarning: The 'delim_whitespace' keyword in pd.read_csv is deprecated and will be removed in a future version. Use ``sep='\\s+'`` instead\n",
      "  df = pd.read_csv(f'../empirical/subsampling_vF/data/frq/merged_chr{chr}_withingroups_all.tsv',delim_whitespace=True)\n"
     ]
    },
    {
     "name": "stdout",
     "output_type": "stream",
     "text": [
      "17\n"
     ]
    },
    {
     "name": "stderr",
     "output_type": "stream",
     "text": [
      "/var/folders/r0/wf2xsjdx3h366x3_hj3b7xdc0000gp/T/ipykernel_3452/2222876257.py:4: FutureWarning: The 'delim_whitespace' keyword in pd.read_csv is deprecated and will be removed in a future version. Use ``sep='\\s+'`` instead\n",
      "  df = pd.read_csv(f'../empirical/subsampling_vF/data/frq/merged_chr{chr}_withingroups_all.tsv',delim_whitespace=True)\n"
     ]
    },
    {
     "name": "stdout",
     "output_type": "stream",
     "text": [
      "18\n"
     ]
    },
    {
     "name": "stderr",
     "output_type": "stream",
     "text": [
      "/var/folders/r0/wf2xsjdx3h366x3_hj3b7xdc0000gp/T/ipykernel_3452/2222876257.py:4: FutureWarning: The 'delim_whitespace' keyword in pd.read_csv is deprecated and will be removed in a future version. Use ``sep='\\s+'`` instead\n",
      "  df = pd.read_csv(f'../empirical/subsampling_vF/data/frq/merged_chr{chr}_withingroups_all.tsv',delim_whitespace=True)\n"
     ]
    },
    {
     "name": "stdout",
     "output_type": "stream",
     "text": [
      "19\n"
     ]
    },
    {
     "name": "stderr",
     "output_type": "stream",
     "text": [
      "/var/folders/r0/wf2xsjdx3h366x3_hj3b7xdc0000gp/T/ipykernel_3452/2222876257.py:4: FutureWarning: The 'delim_whitespace' keyword in pd.read_csv is deprecated and will be removed in a future version. Use ``sep='\\s+'`` instead\n",
      "  df = pd.read_csv(f'../empirical/subsampling_vF/data/frq/merged_chr{chr}_withingroups_all.tsv',delim_whitespace=True)\n"
     ]
    },
    {
     "name": "stdout",
     "output_type": "stream",
     "text": [
      "20\n"
     ]
    },
    {
     "name": "stderr",
     "output_type": "stream",
     "text": [
      "/var/folders/r0/wf2xsjdx3h366x3_hj3b7xdc0000gp/T/ipykernel_3452/2222876257.py:4: FutureWarning: The 'delim_whitespace' keyword in pd.read_csv is deprecated and will be removed in a future version. Use ``sep='\\s+'`` instead\n",
      "  df = pd.read_csv(f'../empirical/subsampling_vF/data/frq/merged_chr{chr}_withingroups_all.tsv',delim_whitespace=True)\n"
     ]
    },
    {
     "name": "stdout",
     "output_type": "stream",
     "text": [
      "21\n"
     ]
    },
    {
     "name": "stderr",
     "output_type": "stream",
     "text": [
      "/var/folders/r0/wf2xsjdx3h366x3_hj3b7xdc0000gp/T/ipykernel_3452/2222876257.py:4: FutureWarning: The 'delim_whitespace' keyword in pd.read_csv is deprecated and will be removed in a future version. Use ``sep='\\s+'`` instead\n",
      "  df = pd.read_csv(f'../empirical/subsampling_vF/data/frq/merged_chr{chr}_withingroups_all.tsv',delim_whitespace=True)\n"
     ]
    },
    {
     "name": "stdout",
     "output_type": "stream",
     "text": [
      "22\n"
     ]
    },
    {
     "name": "stderr",
     "output_type": "stream",
     "text": [
      "/var/folders/r0/wf2xsjdx3h366x3_hj3b7xdc0000gp/T/ipykernel_3452/2222876257.py:4: FutureWarning: The 'delim_whitespace' keyword in pd.read_csv is deprecated and will be removed in a future version. Use ``sep='\\s+'`` instead\n",
      "  df = pd.read_csv(f'../empirical/subsampling_vF/data/frq/merged_chr{chr}_withingroups_all.tsv',delim_whitespace=True)\n"
     ]
    }
   ],
   "source": [
    "private_vars_list = []\n",
    "for chr in np.arange(23)[1:]:\n",
    "    print(chr)\n",
    "    df = pd.read_csv(f'../empirical/subsampling_vF/data/frq/merged_chr{chr}_withingroups_all.tsv',delim_whitespace=True)\n",
    "    df_zero = df[(df['CLST']=='notwithin_1epsilon_pca_all')&(df['MAC']==0)]\n",
    "    df_present = df[(df['CLST']=='within_1epsilon_pca_all')&(df['MAC']>0)]\n",
    "    private_vars_temp = pd.merge(df_zero,df_present,on='SNP',how='inner')\n",
    "    private_vars_list.append(private_vars_temp)\n",
    "private_vars_pca = pd.concat(private_vars_list,ignore_index=True)"
   ]
  },
  {
   "cell_type": "code",
   "execution_count": 3,
   "id": "874de593-20f6-43ff-b4a5-6b12f92a1831",
   "metadata": {},
   "outputs": [
    {
     "data": {
      "text/html": [
       "<div>\n",
       "<style scoped>\n",
       "    .dataframe tbody tr th:only-of-type {\n",
       "        vertical-align: middle;\n",
       "    }\n",
       "\n",
       "    .dataframe tbody tr th {\n",
       "        vertical-align: top;\n",
       "    }\n",
       "\n",
       "    .dataframe thead th {\n",
       "        text-align: right;\n",
       "    }\n",
       "</style>\n",
       "<table border=\"1\" class=\"dataframe\">\n",
       "  <thead>\n",
       "    <tr style=\"text-align: right;\">\n",
       "      <th></th>\n",
       "      <th>CHR_x</th>\n",
       "      <th>SNP</th>\n",
       "      <th>CLST_x</th>\n",
       "      <th>A1_x</th>\n",
       "      <th>A2_x</th>\n",
       "      <th>MAF_x</th>\n",
       "      <th>MAC_x</th>\n",
       "      <th>NCHROBS_x</th>\n",
       "      <th>CHR_y</th>\n",
       "      <th>CLST_y</th>\n",
       "      <th>A1_y</th>\n",
       "      <th>A2_y</th>\n",
       "      <th>MAF_y</th>\n",
       "      <th>MAC_y</th>\n",
       "      <th>NCHROBS_y</th>\n",
       "    </tr>\n",
       "  </thead>\n",
       "  <tbody>\n",
       "    <tr>\n",
       "      <th>0</th>\n",
       "      <td>1</td>\n",
       "      <td>1:69026:T:G</td>\n",
       "      <td>notwithin_1epsilon_pca_all</td>\n",
       "      <td>G</td>\n",
       "      <td>T</td>\n",
       "      <td>0.0</td>\n",
       "      <td>0</td>\n",
       "      <td>292548</td>\n",
       "      <td>1</td>\n",
       "      <td>within_1epsilon_pca_all</td>\n",
       "      <td>G</td>\n",
       "      <td>T</td>\n",
       "      <td>0.000004</td>\n",
       "      <td>2</td>\n",
       "      <td>490748</td>\n",
       "    </tr>\n",
       "    <tr>\n",
       "      <th>1</th>\n",
       "      <td>1</td>\n",
       "      <td>1:69095:T:G</td>\n",
       "      <td>notwithin_1epsilon_pca_all</td>\n",
       "      <td>G</td>\n",
       "      <td>T</td>\n",
       "      <td>0.0</td>\n",
       "      <td>0</td>\n",
       "      <td>292290</td>\n",
       "      <td>1</td>\n",
       "      <td>within_1epsilon_pca_all</td>\n",
       "      <td>G</td>\n",
       "      <td>T</td>\n",
       "      <td>0.000004</td>\n",
       "      <td>2</td>\n",
       "      <td>490346</td>\n",
       "    </tr>\n",
       "    <tr>\n",
       "      <th>2</th>\n",
       "      <td>1</td>\n",
       "      <td>1:69144:C:T</td>\n",
       "      <td>notwithin_1epsilon_pca_all</td>\n",
       "      <td>T</td>\n",
       "      <td>C</td>\n",
       "      <td>0.0</td>\n",
       "      <td>0</td>\n",
       "      <td>291598</td>\n",
       "      <td>1</td>\n",
       "      <td>within_1epsilon_pca_all</td>\n",
       "      <td>T</td>\n",
       "      <td>C</td>\n",
       "      <td>0.000002</td>\n",
       "      <td>1</td>\n",
       "      <td>489220</td>\n",
       "    </tr>\n",
       "    <tr>\n",
       "      <th>3</th>\n",
       "      <td>1</td>\n",
       "      <td>1:69237:C:T</td>\n",
       "      <td>notwithin_1epsilon_pca_all</td>\n",
       "      <td>T</td>\n",
       "      <td>C</td>\n",
       "      <td>0.0</td>\n",
       "      <td>0</td>\n",
       "      <td>292048</td>\n",
       "      <td>1</td>\n",
       "      <td>within_1epsilon_pca_all</td>\n",
       "      <td>T</td>\n",
       "      <td>C</td>\n",
       "      <td>0.000002</td>\n",
       "      <td>1</td>\n",
       "      <td>489930</td>\n",
       "    </tr>\n",
       "    <tr>\n",
       "      <th>4</th>\n",
       "      <td>1</td>\n",
       "      <td>1:69263:A:G</td>\n",
       "      <td>notwithin_1epsilon_pca_all</td>\n",
       "      <td>G</td>\n",
       "      <td>A</td>\n",
       "      <td>0.0</td>\n",
       "      <td>0</td>\n",
       "      <td>292422</td>\n",
       "      <td>1</td>\n",
       "      <td>within_1epsilon_pca_all</td>\n",
       "      <td>G</td>\n",
       "      <td>A</td>\n",
       "      <td>0.000010</td>\n",
       "      <td>5</td>\n",
       "      <td>490516</td>\n",
       "    </tr>\n",
       "    <tr>\n",
       "      <th>...</th>\n",
       "      <td>...</td>\n",
       "      <td>...</td>\n",
       "      <td>...</td>\n",
       "      <td>...</td>\n",
       "      <td>...</td>\n",
       "      <td>...</td>\n",
       "      <td>...</td>\n",
       "      <td>...</td>\n",
       "      <td>...</td>\n",
       "      <td>...</td>\n",
       "      <td>...</td>\n",
       "      <td>...</td>\n",
       "      <td>...</td>\n",
       "      <td>...</td>\n",
       "      <td>...</td>\n",
       "    </tr>\n",
       "    <tr>\n",
       "      <th>6013798</th>\n",
       "      <td>22</td>\n",
       "      <td>22:50782272:G:A</td>\n",
       "      <td>notwithin_1epsilon_pca_all</td>\n",
       "      <td>A</td>\n",
       "      <td>G</td>\n",
       "      <td>0.0</td>\n",
       "      <td>0</td>\n",
       "      <td>292624</td>\n",
       "      <td>22</td>\n",
       "      <td>within_1epsilon_pca_all</td>\n",
       "      <td>A</td>\n",
       "      <td>G</td>\n",
       "      <td>0.000004</td>\n",
       "      <td>2</td>\n",
       "      <td>490866</td>\n",
       "    </tr>\n",
       "    <tr>\n",
       "      <th>6013799</th>\n",
       "      <td>22</td>\n",
       "      <td>22:50782327:A:G</td>\n",
       "      <td>notwithin_1epsilon_pca_all</td>\n",
       "      <td>G</td>\n",
       "      <td>A</td>\n",
       "      <td>0.0</td>\n",
       "      <td>0</td>\n",
       "      <td>292090</td>\n",
       "      <td>22</td>\n",
       "      <td>within_1epsilon_pca_all</td>\n",
       "      <td>G</td>\n",
       "      <td>A</td>\n",
       "      <td>0.000006</td>\n",
       "      <td>3</td>\n",
       "      <td>489910</td>\n",
       "    </tr>\n",
       "    <tr>\n",
       "      <th>6013800</th>\n",
       "      <td>22</td>\n",
       "      <td>22:50782344:G:T</td>\n",
       "      <td>notwithin_1epsilon_pca_all</td>\n",
       "      <td>T</td>\n",
       "      <td>G</td>\n",
       "      <td>0.0</td>\n",
       "      <td>0</td>\n",
       "      <td>291966</td>\n",
       "      <td>22</td>\n",
       "      <td>within_1epsilon_pca_all</td>\n",
       "      <td>T</td>\n",
       "      <td>G</td>\n",
       "      <td>0.000004</td>\n",
       "      <td>2</td>\n",
       "      <td>489838</td>\n",
       "    </tr>\n",
       "    <tr>\n",
       "      <th>6013801</th>\n",
       "      <td>22</td>\n",
       "      <td>22:50782379:C:T</td>\n",
       "      <td>notwithin_1epsilon_pca_all</td>\n",
       "      <td>T</td>\n",
       "      <td>C</td>\n",
       "      <td>0.0</td>\n",
       "      <td>0</td>\n",
       "      <td>292470</td>\n",
       "      <td>22</td>\n",
       "      <td>within_1epsilon_pca_all</td>\n",
       "      <td>T</td>\n",
       "      <td>C</td>\n",
       "      <td>0.000006</td>\n",
       "      <td>3</td>\n",
       "      <td>490618</td>\n",
       "    </tr>\n",
       "    <tr>\n",
       "      <th>6013802</th>\n",
       "      <td>22</td>\n",
       "      <td>22:50782404:C:A</td>\n",
       "      <td>notwithin_1epsilon_pca_all</td>\n",
       "      <td>A</td>\n",
       "      <td>C</td>\n",
       "      <td>0.0</td>\n",
       "      <td>0</td>\n",
       "      <td>292628</td>\n",
       "      <td>22</td>\n",
       "      <td>within_1epsilon_pca_all</td>\n",
       "      <td>A</td>\n",
       "      <td>C</td>\n",
       "      <td>0.000004</td>\n",
       "      <td>2</td>\n",
       "      <td>490838</td>\n",
       "    </tr>\n",
       "  </tbody>\n",
       "</table>\n",
       "<p>6013803 rows × 15 columns</p>\n",
       "</div>"
      ],
      "text/plain": [
       "         CHR_x              SNP                      CLST_x A1_x A2_x  MAF_x  \\\n",
       "0            1      1:69026:T:G  notwithin_1epsilon_pca_all    G    T    0.0   \n",
       "1            1      1:69095:T:G  notwithin_1epsilon_pca_all    G    T    0.0   \n",
       "2            1      1:69144:C:T  notwithin_1epsilon_pca_all    T    C    0.0   \n",
       "3            1      1:69237:C:T  notwithin_1epsilon_pca_all    T    C    0.0   \n",
       "4            1      1:69263:A:G  notwithin_1epsilon_pca_all    G    A    0.0   \n",
       "...        ...              ...                         ...  ...  ...    ...   \n",
       "6013798     22  22:50782272:G:A  notwithin_1epsilon_pca_all    A    G    0.0   \n",
       "6013799     22  22:50782327:A:G  notwithin_1epsilon_pca_all    G    A    0.0   \n",
       "6013800     22  22:50782344:G:T  notwithin_1epsilon_pca_all    T    G    0.0   \n",
       "6013801     22  22:50782379:C:T  notwithin_1epsilon_pca_all    T    C    0.0   \n",
       "6013802     22  22:50782404:C:A  notwithin_1epsilon_pca_all    A    C    0.0   \n",
       "\n",
       "         MAC_x  NCHROBS_x  CHR_y                   CLST_y A1_y A2_y     MAF_y  \\\n",
       "0            0     292548      1  within_1epsilon_pca_all    G    T  0.000004   \n",
       "1            0     292290      1  within_1epsilon_pca_all    G    T  0.000004   \n",
       "2            0     291598      1  within_1epsilon_pca_all    T    C  0.000002   \n",
       "3            0     292048      1  within_1epsilon_pca_all    T    C  0.000002   \n",
       "4            0     292422      1  within_1epsilon_pca_all    G    A  0.000010   \n",
       "...        ...        ...    ...                      ...  ...  ...       ...   \n",
       "6013798      0     292624     22  within_1epsilon_pca_all    A    G  0.000004   \n",
       "6013799      0     292090     22  within_1epsilon_pca_all    G    A  0.000006   \n",
       "6013800      0     291966     22  within_1epsilon_pca_all    T    G  0.000004   \n",
       "6013801      0     292470     22  within_1epsilon_pca_all    T    C  0.000006   \n",
       "6013802      0     292628     22  within_1epsilon_pca_all    A    C  0.000004   \n",
       "\n",
       "         MAC_y  NCHROBS_y  \n",
       "0            2     490748  \n",
       "1            2     490346  \n",
       "2            1     489220  \n",
       "3            1     489930  \n",
       "4            5     490516  \n",
       "...        ...        ...  \n",
       "6013798      2     490866  \n",
       "6013799      3     489910  \n",
       "6013800      2     489838  \n",
       "6013801      3     490618  \n",
       "6013802      2     490838  \n",
       "\n",
       "[6013803 rows x 15 columns]"
      ]
     },
     "execution_count": 3,
     "metadata": {},
     "output_type": "execute_result"
    }
   ],
   "source": [
    "private_vars_pca"
   ]
  },
  {
   "cell_type": "code",
   "execution_count": 4,
   "id": "fc5ce376-f766-408a-adb7-97c7c9e886f7",
   "metadata": {},
   "outputs": [
    {
     "data": {
      "text/plain": [
       "0"
      ]
     },
     "execution_count": 4,
     "metadata": {},
     "output_type": "execute_result"
    }
   ],
   "source": [
    "private_vars_pca.duplicated().sum()"
   ]
  },
  {
   "cell_type": "code",
   "execution_count": 5,
   "id": "8216a742-df36-400b-b934-d1d5efd56178",
   "metadata": {},
   "outputs": [
    {
     "data": {
      "text/plain": [
       "MAC_y\n",
       "1     4234525\n",
       "2     1047374\n",
       "3      385328\n",
       "4      169375\n",
       "5       82394\n",
       "6       42582\n",
       "7       22653\n",
       "8       12503\n",
       "9        7075\n",
       "10       4046\n",
       "11       2402\n",
       "12       1389\n",
       "13        811\n",
       "14        499\n",
       "15        325\n",
       "16        201\n",
       "17        131\n",
       "18         79\n",
       "19         50\n",
       "20         25\n",
       "21         14\n",
       "24          6\n",
       "25          6\n",
       "23          4\n",
       "22          3\n",
       "31          1\n",
       "32          1\n",
       "27          1\n",
       "Name: count, dtype: int64"
      ]
     },
     "execution_count": 5,
     "metadata": {},
     "output_type": "execute_result"
    }
   ],
   "source": [
    "private_vars_pca['MAC_y'].value_counts()"
   ]
  },
  {
   "cell_type": "code",
   "execution_count": 6,
   "id": "5b574814-7c11-4b5c-8040-49b564ed71e9",
   "metadata": {},
   "outputs": [
    {
     "data": {
      "text/plain": [
       "(array([5.836602e+06, 1.476290e+05, 2.362400e+04, 4.602000e+03,\n",
       "        1.025000e+03, 2.600000e+02, 4.200000e+01, 1.600000e+01,\n",
       "        1.000000e+00, 2.000000e+00]),\n",
       " array([ 1. ,  4.1,  7.2, 10.3, 13.4, 16.5, 19.6, 22.7, 25.8, 28.9, 32. ]),\n",
       " <BarContainer object of 10 artists>)"
      ]
     },
     "execution_count": 6,
     "metadata": {},
     "output_type": "execute_result"
    },
    {
     "data": {
      "image/png": "[encoded data removed]",
      "text/plain": [
       "<Figure size 640x480 with 1 Axes>"
      ]
     },
     "metadata": {},
     "output_type": "display_data"
    }
   ],
   "source": [
    "plt.hist(private_vars_pca['MAC_y'])"
   ]
  },
  {
   "cell_type": "code",
   "execution_count": 7,
   "id": "eaee25e2-ea45-4491-98a6-d034e707285a",
   "metadata": {},
   "outputs": [
    {
     "data": {
      "text/plain": [
       "1"
      ]
     },
     "execution_count": 7,
     "metadata": {},
     "output_type": "execute_result"
    }
   ],
   "source": [
    "private_vars_pca['MAC_y'].min()"
   ]
  },
  {
   "cell_type": "code",
   "execution_count": 8,
   "id": "fd752713-98d8-40dd-b294-30459e1c0aaf",
   "metadata": {},
   "outputs": [
    {
     "data": {
      "text/plain": [
       "32"
      ]
     },
     "execution_count": 8,
     "metadata": {},
     "output_type": "execute_result"
    }
   ],
   "source": [
    "private_vars_pca['MAC_y'].max()"
   ]
  },
  {
   "cell_type": "code",
   "execution_count": 9,
   "id": "a3ea4abd-2af6-4c27-90f8-0135889ba111",
   "metadata": {},
   "outputs": [
    {
     "data": {
      "text/plain": [
       "MAC_y\n",
       "1     4234525\n",
       "2     1047374\n",
       "3      385328\n",
       "4      169375\n",
       "5       82394\n",
       "6       42582\n",
       "7       22653\n",
       "8       12503\n",
       "9        7075\n",
       "10       4046\n",
       "11       2402\n",
       "12       1389\n",
       "13        811\n",
       "14        499\n",
       "15        325\n",
       "16        201\n",
       "17        131\n",
       "18         79\n",
       "19         50\n",
       "20         25\n",
       "21         14\n",
       "24          6\n",
       "25          6\n",
       "23          4\n",
       "22          3\n",
       "31          1\n",
       "32          1\n",
       "27          1\n",
       "Name: count, dtype: int64"
      ]
     },
     "execution_count": 9,
     "metadata": {},
     "output_type": "execute_result"
    }
   ],
   "source": [
    "private_vars_pca['MAC_y'].value_counts()"
   ]
  },
  {
   "cell_type": "code",
   "execution_count": 10,
   "id": "a4e5dfbc-6b1a-48fc-9ad4-e9d1ae3c1974",
   "metadata": {},
   "outputs": [],
   "source": [
    "private_vars_pca_geq10_leq20 = private_vars_pca[(private_vars_pca['MAC_y']>=10) & (private_vars_pca['MAC_y']<=20)]"
   ]
  },
  {
   "cell_type": "code",
   "execution_count": 11,
   "id": "34aa1b2a-2177-4e50-9d35-6f0c7fa0e49f",
   "metadata": {},
   "outputs": [
    {
     "data": {
      "text/html": [
       "<div>\n",
       "<style scoped>\n",
       "    .dataframe tbody tr th:only-of-type {\n",
       "        vertical-align: middle;\n",
       "    }\n",
       "\n",
       "    .dataframe tbody tr th {\n",
       "        vertical-align: top;\n",
       "    }\n",
       "\n",
       "    .dataframe thead th {\n",
       "        text-align: right;\n",
       "    }\n",
       "</style>\n",
       "<table border=\"1\" class=\"dataframe\">\n",
       "  <thead>\n",
       "    <tr style=\"text-align: right;\">\n",
       "      <th></th>\n",
       "      <th>CHR_x</th>\n",
       "      <th>SNP</th>\n",
       "      <th>CLST_x</th>\n",
       "      <th>A1_x</th>\n",
       "      <th>A2_x</th>\n",
       "      <th>MAF_x</th>\n",
       "      <th>MAC_x</th>\n",
       "      <th>NCHROBS_x</th>\n",
       "      <th>CHR_y</th>\n",
       "      <th>CLST_y</th>\n",
       "      <th>A1_y</th>\n",
       "      <th>A2_y</th>\n",
       "      <th>MAF_y</th>\n",
       "      <th>MAC_y</th>\n",
       "      <th>NCHROBS_y</th>\n",
       "    </tr>\n",
       "  </thead>\n",
       "  <tbody>\n",
       "    <tr>\n",
       "      <th>50</th>\n",
       "      <td>1</td>\n",
       "      <td>1:925914:G:C</td>\n",
       "      <td>notwithin_1epsilon_pca_all</td>\n",
       "      <td>C</td>\n",
       "      <td>G</td>\n",
       "      <td>0.0</td>\n",
       "      <td>0</td>\n",
       "      <td>292496</td>\n",
       "      <td>1</td>\n",
       "      <td>within_1epsilon_pca_all</td>\n",
       "      <td>C</td>\n",
       "      <td>G</td>\n",
       "      <td>0.000020</td>\n",
       "      <td>10</td>\n",
       "      <td>490684</td>\n",
       "    </tr>\n",
       "    <tr>\n",
       "      <th>863</th>\n",
       "      <td>1</td>\n",
       "      <td>1:946557:A:AG</td>\n",
       "      <td>notwithin_1epsilon_pca_all</td>\n",
       "      <td>AG</td>\n",
       "      <td>A</td>\n",
       "      <td>0.0</td>\n",
       "      <td>0</td>\n",
       "      <td>292664</td>\n",
       "      <td>1</td>\n",
       "      <td>within_1epsilon_pca_all</td>\n",
       "      <td>AG</td>\n",
       "      <td>A</td>\n",
       "      <td>0.000020</td>\n",
       "      <td>10</td>\n",
       "      <td>490948</td>\n",
       "    </tr>\n",
       "    <tr>\n",
       "      <th>976</th>\n",
       "      <td>1</td>\n",
       "      <td>1:951965:C:T</td>\n",
       "      <td>notwithin_1epsilon_pca_all</td>\n",
       "      <td>T</td>\n",
       "      <td>C</td>\n",
       "      <td>0.0</td>\n",
       "      <td>0</td>\n",
       "      <td>292660</td>\n",
       "      <td>1</td>\n",
       "      <td>within_1epsilon_pca_all</td>\n",
       "      <td>T</td>\n",
       "      <td>C</td>\n",
       "      <td>0.000022</td>\n",
       "      <td>11</td>\n",
       "      <td>490944</td>\n",
       "    </tr>\n",
       "    <tr>\n",
       "      <th>1774</th>\n",
       "      <td>1</td>\n",
       "      <td>1:964302:G:C</td>\n",
       "      <td>notwithin_1epsilon_pca_all</td>\n",
       "      <td>C</td>\n",
       "      <td>G</td>\n",
       "      <td>0.0</td>\n",
       "      <td>0</td>\n",
       "      <td>292650</td>\n",
       "      <td>1</td>\n",
       "      <td>within_1epsilon_pca_all</td>\n",
       "      <td>C</td>\n",
       "      <td>G</td>\n",
       "      <td>0.000024</td>\n",
       "      <td>12</td>\n",
       "      <td>490928</td>\n",
       "    </tr>\n",
       "    <tr>\n",
       "      <th>1775</th>\n",
       "      <td>1</td>\n",
       "      <td>1:964307:G:A</td>\n",
       "      <td>notwithin_1epsilon_pca_all</td>\n",
       "      <td>A</td>\n",
       "      <td>G</td>\n",
       "      <td>0.0</td>\n",
       "      <td>0</td>\n",
       "      <td>292646</td>\n",
       "      <td>1</td>\n",
       "      <td>within_1epsilon_pca_all</td>\n",
       "      <td>A</td>\n",
       "      <td>G</td>\n",
       "      <td>0.000029</td>\n",
       "      <td>14</td>\n",
       "      <td>490904</td>\n",
       "    </tr>\n",
       "    <tr>\n",
       "      <th>...</th>\n",
       "      <td>...</td>\n",
       "      <td>...</td>\n",
       "      <td>...</td>\n",
       "      <td>...</td>\n",
       "      <td>...</td>\n",
       "      <td>...</td>\n",
       "      <td>...</td>\n",
       "      <td>...</td>\n",
       "      <td>...</td>\n",
       "      <td>...</td>\n",
       "      <td>...</td>\n",
       "      <td>...</td>\n",
       "      <td>...</td>\n",
       "      <td>...</td>\n",
       "      <td>...</td>\n",
       "    </tr>\n",
       "    <tr>\n",
       "      <th>6011167</th>\n",
       "      <td>22</td>\n",
       "      <td>22:50556476:C:G</td>\n",
       "      <td>notwithin_1epsilon_pca_all</td>\n",
       "      <td>G</td>\n",
       "      <td>C</td>\n",
       "      <td>0.0</td>\n",
       "      <td>0</td>\n",
       "      <td>291148</td>\n",
       "      <td>22</td>\n",
       "      <td>within_1epsilon_pca_all</td>\n",
       "      <td>G</td>\n",
       "      <td>C</td>\n",
       "      <td>0.000020</td>\n",
       "      <td>10</td>\n",
       "      <td>488354</td>\n",
       "    </tr>\n",
       "    <tr>\n",
       "      <th>6011814</th>\n",
       "      <td>22</td>\n",
       "      <td>22:50582394:G:A</td>\n",
       "      <td>notwithin_1epsilon_pca_all</td>\n",
       "      <td>A</td>\n",
       "      <td>G</td>\n",
       "      <td>0.0</td>\n",
       "      <td>0</td>\n",
       "      <td>292630</td>\n",
       "      <td>22</td>\n",
       "      <td>within_1epsilon_pca_all</td>\n",
       "      <td>A</td>\n",
       "      <td>G</td>\n",
       "      <td>0.000020</td>\n",
       "      <td>10</td>\n",
       "      <td>490912</td>\n",
       "    </tr>\n",
       "    <tr>\n",
       "      <th>6011885</th>\n",
       "      <td>22</td>\n",
       "      <td>22:50600803:G:A</td>\n",
       "      <td>notwithin_1epsilon_pca_all</td>\n",
       "      <td>A</td>\n",
       "      <td>G</td>\n",
       "      <td>0.0</td>\n",
       "      <td>0</td>\n",
       "      <td>292618</td>\n",
       "      <td>22</td>\n",
       "      <td>within_1epsilon_pca_all</td>\n",
       "      <td>A</td>\n",
       "      <td>G</td>\n",
       "      <td>0.000024</td>\n",
       "      <td>12</td>\n",
       "      <td>490844</td>\n",
       "    </tr>\n",
       "    <tr>\n",
       "      <th>6012547</th>\n",
       "      <td>22</td>\n",
       "      <td>22:50627615:C:T</td>\n",
       "      <td>notwithin_1epsilon_pca_all</td>\n",
       "      <td>T</td>\n",
       "      <td>C</td>\n",
       "      <td>0.0</td>\n",
       "      <td>0</td>\n",
       "      <td>292664</td>\n",
       "      <td>22</td>\n",
       "      <td>within_1epsilon_pca_all</td>\n",
       "      <td>T</td>\n",
       "      <td>C</td>\n",
       "      <td>0.000035</td>\n",
       "      <td>17</td>\n",
       "      <td>490948</td>\n",
       "    </tr>\n",
       "    <tr>\n",
       "      <th>6013748</th>\n",
       "      <td>22</td>\n",
       "      <td>22:50775787:G:A</td>\n",
       "      <td>notwithin_1epsilon_pca_all</td>\n",
       "      <td>A</td>\n",
       "      <td>G</td>\n",
       "      <td>0.0</td>\n",
       "      <td>0</td>\n",
       "      <td>292664</td>\n",
       "      <td>22</td>\n",
       "      <td>within_1epsilon_pca_all</td>\n",
       "      <td>A</td>\n",
       "      <td>G</td>\n",
       "      <td>0.000020</td>\n",
       "      <td>10</td>\n",
       "      <td>490948</td>\n",
       "    </tr>\n",
       "  </tbody>\n",
       "</table>\n",
       "<p>9958 rows × 15 columns</p>\n",
       "</div>"
      ],
      "text/plain": [
       "         CHR_x              SNP                      CLST_x A1_x A2_x  MAF_x  \\\n",
       "50           1     1:925914:G:C  notwithin_1epsilon_pca_all    C    G    0.0   \n",
       "863          1    1:946557:A:AG  notwithin_1epsilon_pca_all   AG    A    0.0   \n",
       "976          1     1:951965:C:T  notwithin_1epsilon_pca_all    T    C    0.0   \n",
       "1774         1     1:964302:G:C  notwithin_1epsilon_pca_all    C    G    0.0   \n",
       "1775         1     1:964307:G:A  notwithin_1epsilon_pca_all    A    G    0.0   \n",
       "...        ...              ...                         ...  ...  ...    ...   \n",
       "6011167     22  22:50556476:C:G  notwithin_1epsilon_pca_all    G    C    0.0   \n",
       "6011814     22  22:50582394:G:A  notwithin_1epsilon_pca_all    A    G    0.0   \n",
       "6011885     22  22:50600803:G:A  notwithin_1epsilon_pca_all    A    G    0.0   \n",
       "6012547     22  22:50627615:C:T  notwithin_1epsilon_pca_all    T    C    0.0   \n",
       "6013748     22  22:50775787:G:A  notwithin_1epsilon_pca_all    A    G    0.0   \n",
       "\n",
       "         MAC_x  NCHROBS_x  CHR_y                   CLST_y A1_y A2_y     MAF_y  \\\n",
       "50           0     292496      1  within_1epsilon_pca_all    C    G  0.000020   \n",
       "863          0     292664      1  within_1epsilon_pca_all   AG    A  0.000020   \n",
       "976          0     292660      1  within_1epsilon_pca_all    T    C  0.000022   \n",
       "1774         0     292650      1  within_1epsilon_pca_all    C    G  0.000024   \n",
       "1775         0     292646      1  within_1epsilon_pca_all    A    G  0.000029   \n",
       "...        ...        ...    ...                      ...  ...  ...       ...   \n",
       "6011167      0     291148     22  within_1epsilon_pca_all    G    C  0.000020   \n",
       "6011814      0     292630     22  within_1epsilon_pca_all    A    G  0.000020   \n",
       "6011885      0     292618     22  within_1epsilon_pca_all    A    G  0.000024   \n",
       "6012547      0     292664     22  within_1epsilon_pca_all    T    C  0.000035   \n",
       "6013748      0     292664     22  within_1epsilon_pca_all    A    G  0.000020   \n",
       "\n",
       "         MAC_y  NCHROBS_y  \n",
       "50          10     490684  \n",
       "863         10     490948  \n",
       "976         11     490944  \n",
       "1774        12     490928  \n",
       "1775        14     490904  \n",
       "...        ...        ...  \n",
       "6011167     10     488354  \n",
       "6011814     10     490912  \n",
       "6011885     12     490844  \n",
       "6012547     17     490948  \n",
       "6013748     10     490948  \n",
       "\n",
       "[9958 rows x 15 columns]"
      ]
     },
     "execution_count": 11,
     "metadata": {},
     "output_type": "execute_result"
    }
   ],
   "source": [
    "private_vars_pca_geq10_leq20"
   ]
  },
  {
   "cell_type": "code",
   "execution_count": 12,
   "id": "1d05ca52-b8ee-47f3-895c-7f1c7bccadad",
   "metadata": {},
   "outputs": [
    {
     "data": {
      "text/plain": [
       "MAC_y\n",
       "10    4046\n",
       "11    2402\n",
       "12    1389\n",
       "13     811\n",
       "14     499\n",
       "15     325\n",
       "16     201\n",
       "17     131\n",
       "18      79\n",
       "19      50\n",
       "20      25\n",
       "Name: count, dtype: int64"
      ]
     },
     "execution_count": 12,
     "metadata": {},
     "output_type": "execute_result"
    }
   ],
   "source": [
    "private_vars_pca_geq10_leq20['MAC_y'].value_counts()"
   ]
  },
  {
   "cell_type": "code",
   "execution_count": 13,
   "id": "ad94e02f-4911-4a74-bc11-9e1d75a0a8b9",
   "metadata": {},
   "outputs": [],
   "source": [
    "private_vars_pca_geq10_leq20['SNP'].to_csv('private_vars_pca_geq10_leq20.csv',index=False)"
   ]
  },
  {
   "cell_type": "code",
   "execution_count": 78,
   "id": "f20917c6-c559-4b50-964d-229891789794",
   "metadata": {},
   "outputs": [
    {
     "data": {
      "text/html": [
       "<div>\n",
       "<style scoped>\n",
       "    .dataframe tbody tr th:only-of-type {\n",
       "        vertical-align: middle;\n",
       "    }\n",
       "\n",
       "    .dataframe tbody tr th {\n",
       "        vertical-align: top;\n",
       "    }\n",
       "\n",
       "    .dataframe thead th {\n",
       "        text-align: right;\n",
       "    }\n",
       "</style>\n",
       "<table border=\"1\" class=\"dataframe\">\n",
       "  <thead>\n",
       "    <tr style=\"text-align: right;\">\n",
       "      <th></th>\n",
       "      <th>CHR_x</th>\n",
       "      <th>SNP</th>\n",
       "      <th>CLST_x</th>\n",
       "      <th>A1_x</th>\n",
       "      <th>A2_x</th>\n",
       "      <th>MAF_x</th>\n",
       "      <th>MAC_x</th>\n",
       "      <th>NCHROBS_x</th>\n",
       "      <th>CHR_y</th>\n",
       "      <th>CLST_y</th>\n",
       "      <th>A1_y</th>\n",
       "      <th>A2_y</th>\n",
       "      <th>MAF_y</th>\n",
       "      <th>MAC_y</th>\n",
       "      <th>NCHROBS_y</th>\n",
       "    </tr>\n",
       "  </thead>\n",
       "  <tbody>\n",
       "    <tr>\n",
       "      <th>50</th>\n",
       "      <td>1</td>\n",
       "      <td>1:925914:G:C</td>\n",
       "      <td>notwithin_1epsilon_pca_all</td>\n",
       "      <td>C</td>\n",
       "      <td>G</td>\n",
       "      <td>0.0</td>\n",
       "      <td>0</td>\n",
       "      <td>292496</td>\n",
       "      <td>1</td>\n",
       "      <td>within_1epsilon_pca_all</td>\n",
       "      <td>C</td>\n",
       "      <td>G</td>\n",
       "      <td>0.000020</td>\n",
       "      <td>10</td>\n",
       "      <td>490684</td>\n",
       "    </tr>\n",
       "    <tr>\n",
       "      <th>863</th>\n",
       "      <td>1</td>\n",
       "      <td>1:946557:A:AG</td>\n",
       "      <td>notwithin_1epsilon_pca_all</td>\n",
       "      <td>AG</td>\n",
       "      <td>A</td>\n",
       "      <td>0.0</td>\n",
       "      <td>0</td>\n",
       "      <td>292664</td>\n",
       "      <td>1</td>\n",
       "      <td>within_1epsilon_pca_all</td>\n",
       "      <td>AG</td>\n",
       "      <td>A</td>\n",
       "      <td>0.000020</td>\n",
       "      <td>10</td>\n",
       "      <td>490948</td>\n",
       "    </tr>\n",
       "    <tr>\n",
       "      <th>976</th>\n",
       "      <td>1</td>\n",
       "      <td>1:951965:C:T</td>\n",
       "      <td>notwithin_1epsilon_pca_all</td>\n",
       "      <td>T</td>\n",
       "      <td>C</td>\n",
       "      <td>0.0</td>\n",
       "      <td>0</td>\n",
       "      <td>292660</td>\n",
       "      <td>1</td>\n",
       "      <td>within_1epsilon_pca_all</td>\n",
       "      <td>T</td>\n",
       "      <td>C</td>\n",
       "      <td>0.000022</td>\n",
       "      <td>11</td>\n",
       "      <td>490944</td>\n",
       "    </tr>\n",
       "    <tr>\n",
       "      <th>1774</th>\n",
       "      <td>1</td>\n",
       "      <td>1:964302:G:C</td>\n",
       "      <td>notwithin_1epsilon_pca_all</td>\n",
       "      <td>C</td>\n",
       "      <td>G</td>\n",
       "      <td>0.0</td>\n",
       "      <td>0</td>\n",
       "      <td>292650</td>\n",
       "      <td>1</td>\n",
       "      <td>within_1epsilon_pca_all</td>\n",
       "      <td>C</td>\n",
       "      <td>G</td>\n",
       "      <td>0.000024</td>\n",
       "      <td>12</td>\n",
       "      <td>490928</td>\n",
       "    </tr>\n",
       "    <tr>\n",
       "      <th>1775</th>\n",
       "      <td>1</td>\n",
       "      <td>1:964307:G:A</td>\n",
       "      <td>notwithin_1epsilon_pca_all</td>\n",
       "      <td>A</td>\n",
       "      <td>G</td>\n",
       "      <td>0.0</td>\n",
       "      <td>0</td>\n",
       "      <td>292646</td>\n",
       "      <td>1</td>\n",
       "      <td>within_1epsilon_pca_all</td>\n",
       "      <td>A</td>\n",
       "      <td>G</td>\n",
       "      <td>0.000029</td>\n",
       "      <td>14</td>\n",
       "      <td>490904</td>\n",
       "    </tr>\n",
       "    <tr>\n",
       "      <th>...</th>\n",
       "      <td>...</td>\n",
       "      <td>...</td>\n",
       "      <td>...</td>\n",
       "      <td>...</td>\n",
       "      <td>...</td>\n",
       "      <td>...</td>\n",
       "      <td>...</td>\n",
       "      <td>...</td>\n",
       "      <td>...</td>\n",
       "      <td>...</td>\n",
       "      <td>...</td>\n",
       "      <td>...</td>\n",
       "      <td>...</td>\n",
       "      <td>...</td>\n",
       "      <td>...</td>\n",
       "    </tr>\n",
       "    <tr>\n",
       "      <th>6011167</th>\n",
       "      <td>22</td>\n",
       "      <td>22:50556476:C:G</td>\n",
       "      <td>notwithin_1epsilon_pca_all</td>\n",
       "      <td>G</td>\n",
       "      <td>C</td>\n",
       "      <td>0.0</td>\n",
       "      <td>0</td>\n",
       "      <td>291148</td>\n",
       "      <td>22</td>\n",
       "      <td>within_1epsilon_pca_all</td>\n",
       "      <td>G</td>\n",
       "      <td>C</td>\n",
       "      <td>0.000020</td>\n",
       "      <td>10</td>\n",
       "      <td>488354</td>\n",
       "    </tr>\n",
       "    <tr>\n",
       "      <th>6011814</th>\n",
       "      <td>22</td>\n",
       "      <td>22:50582394:G:A</td>\n",
       "      <td>notwithin_1epsilon_pca_all</td>\n",
       "      <td>A</td>\n",
       "      <td>G</td>\n",
       "      <td>0.0</td>\n",
       "      <td>0</td>\n",
       "      <td>292630</td>\n",
       "      <td>22</td>\n",
       "      <td>within_1epsilon_pca_all</td>\n",
       "      <td>A</td>\n",
       "      <td>G</td>\n",
       "      <td>0.000020</td>\n",
       "      <td>10</td>\n",
       "      <td>490912</td>\n",
       "    </tr>\n",
       "    <tr>\n",
       "      <th>6011885</th>\n",
       "      <td>22</td>\n",
       "      <td>22:50600803:G:A</td>\n",
       "      <td>notwithin_1epsilon_pca_all</td>\n",
       "      <td>A</td>\n",
       "      <td>G</td>\n",
       "      <td>0.0</td>\n",
       "      <td>0</td>\n",
       "      <td>292618</td>\n",
       "      <td>22</td>\n",
       "      <td>within_1epsilon_pca_all</td>\n",
       "      <td>A</td>\n",
       "      <td>G</td>\n",
       "      <td>0.000024</td>\n",
       "      <td>12</td>\n",
       "      <td>490844</td>\n",
       "    </tr>\n",
       "    <tr>\n",
       "      <th>6012547</th>\n",
       "      <td>22</td>\n",
       "      <td>22:50627615:C:T</td>\n",
       "      <td>notwithin_1epsilon_pca_all</td>\n",
       "      <td>T</td>\n",
       "      <td>C</td>\n",
       "      <td>0.0</td>\n",
       "      <td>0</td>\n",
       "      <td>292664</td>\n",
       "      <td>22</td>\n",
       "      <td>within_1epsilon_pca_all</td>\n",
       "      <td>T</td>\n",
       "      <td>C</td>\n",
       "      <td>0.000035</td>\n",
       "      <td>17</td>\n",
       "      <td>490948</td>\n",
       "    </tr>\n",
       "    <tr>\n",
       "      <th>6013748</th>\n",
       "      <td>22</td>\n",
       "      <td>22:50775787:G:A</td>\n",
       "      <td>notwithin_1epsilon_pca_all</td>\n",
       "      <td>A</td>\n",
       "      <td>G</td>\n",
       "      <td>0.0</td>\n",
       "      <td>0</td>\n",
       "      <td>292664</td>\n",
       "      <td>22</td>\n",
       "      <td>within_1epsilon_pca_all</td>\n",
       "      <td>A</td>\n",
       "      <td>G</td>\n",
       "      <td>0.000020</td>\n",
       "      <td>10</td>\n",
       "      <td>490948</td>\n",
       "    </tr>\n",
       "  </tbody>\n",
       "</table>\n",
       "<p>9958 rows × 15 columns</p>\n",
       "</div>"
      ],
      "text/plain": [
       "         CHR_x              SNP                      CLST_x A1_x A2_x  MAF_x  \\\n",
       "50           1     1:925914:G:C  notwithin_1epsilon_pca_all    C    G    0.0   \n",
       "863          1    1:946557:A:AG  notwithin_1epsilon_pca_all   AG    A    0.0   \n",
       "976          1     1:951965:C:T  notwithin_1epsilon_pca_all    T    C    0.0   \n",
       "1774         1     1:964302:G:C  notwithin_1epsilon_pca_all    C    G    0.0   \n",
       "1775         1     1:964307:G:A  notwithin_1epsilon_pca_all    A    G    0.0   \n",
       "...        ...              ...                         ...  ...  ...    ...   \n",
       "6011167     22  22:50556476:C:G  notwithin_1epsilon_pca_all    G    C    0.0   \n",
       "6011814     22  22:50582394:G:A  notwithin_1epsilon_pca_all    A    G    0.0   \n",
       "6011885     22  22:50600803:G:A  notwithin_1epsilon_pca_all    A    G    0.0   \n",
       "6012547     22  22:50627615:C:T  notwithin_1epsilon_pca_all    T    C    0.0   \n",
       "6013748     22  22:50775787:G:A  notwithin_1epsilon_pca_all    A    G    0.0   \n",
       "\n",
       "         MAC_x  NCHROBS_x  CHR_y                   CLST_y A1_y A2_y     MAF_y  \\\n",
       "50           0     292496      1  within_1epsilon_pca_all    C    G  0.000020   \n",
       "863          0     292664      1  within_1epsilon_pca_all   AG    A  0.000020   \n",
       "976          0     292660      1  within_1epsilon_pca_all    T    C  0.000022   \n",
       "1774         0     292650      1  within_1epsilon_pca_all    C    G  0.000024   \n",
       "1775         0     292646      1  within_1epsilon_pca_all    A    G  0.000029   \n",
       "...        ...        ...    ...                      ...  ...  ...       ...   \n",
       "6011167      0     291148     22  within_1epsilon_pca_all    G    C  0.000020   \n",
       "6011814      0     292630     22  within_1epsilon_pca_all    A    G  0.000020   \n",
       "6011885      0     292618     22  within_1epsilon_pca_all    A    G  0.000024   \n",
       "6012547      0     292664     22  within_1epsilon_pca_all    T    C  0.000035   \n",
       "6013748      0     292664     22  within_1epsilon_pca_all    A    G  0.000020   \n",
       "\n",
       "         MAC_y  NCHROBS_y  \n",
       "50          10     490684  \n",
       "863         10     490948  \n",
       "976         11     490944  \n",
       "1774        12     490928  \n",
       "1775        14     490904  \n",
       "...        ...        ...  \n",
       "6011167     10     488354  \n",
       "6011814     10     490912  \n",
       "6011885     12     490844  \n",
       "6012547     17     490948  \n",
       "6013748     10     490948  \n",
       "\n",
       "[9958 rows x 15 columns]"
      ]
     },
     "execution_count": 78,
     "metadata": {},
     "output_type": "execute_result"
    }
   ],
   "source": [
    "private_vars_pca_geq10_leq20"
   ]
  },
  {
   "cell_type": "code",
   "execution_count": 14,
   "id": "e1227489-c082-4a49-8b8e-344eb1157126",
   "metadata": {},
   "outputs": [],
   "source": [
    "private_vars_pca['SNP'].to_csv('private_vars_pca.csv',index=False)"
   ]
  },
  {
   "cell_type": "code",
   "execution_count": 15,
   "id": "a20ec626-aecd-4038-9c7e-f3a88cdc2eef",
   "metadata": {},
   "outputs": [
    {
     "name": "stdout",
     "output_type": "stream",
     "text": [
      "1\n"
     ]
    },
    {
     "name": "stderr",
     "output_type": "stream",
     "text": [
      "/var/folders/r0/wf2xsjdx3h366x3_hj3b7xdc0000gp/T/ipykernel_3452/1324310581.py:4: FutureWarning: The 'delim_whitespace' keyword in pd.read_csv is deprecated and will be removed in a future version. Use ``sep='\\s+'`` instead\n",
      "  df = pd.read_csv(f'../empirical/subsampling_vF/data/frq/merged_chr{chr}_withingroups_all.tsv',delim_whitespace=True)\n"
     ]
    },
    {
     "name": "stdout",
     "output_type": "stream",
     "text": [
      "2\n"
     ]
    },
    {
     "name": "stderr",
     "output_type": "stream",
     "text": [
      "/var/folders/r0/wf2xsjdx3h366x3_hj3b7xdc0000gp/T/ipykernel_3452/1324310581.py:4: FutureWarning: The 'delim_whitespace' keyword in pd.read_csv is deprecated and will be removed in a future version. Use ``sep='\\s+'`` instead\n",
      "  df = pd.read_csv(f'../empirical/subsampling_vF/data/frq/merged_chr{chr}_withingroups_all.tsv',delim_whitespace=True)\n"
     ]
    },
    {
     "name": "stdout",
     "output_type": "stream",
     "text": [
      "3\n"
     ]
    },
    {
     "name": "stderr",
     "output_type": "stream",
     "text": [
      "/var/folders/r0/wf2xsjdx3h366x3_hj3b7xdc0000gp/T/ipykernel_3452/1324310581.py:4: FutureWarning: The 'delim_whitespace' keyword in pd.read_csv is deprecated and will be removed in a future version. Use ``sep='\\s+'`` instead\n",
      "  df = pd.read_csv(f'../empirical/subsampling_vF/data/frq/merged_chr{chr}_withingroups_all.tsv',delim_whitespace=True)\n"
     ]
    },
    {
     "name": "stdout",
     "output_type": "stream",
     "text": [
      "4\n"
     ]
    },
    {
     "name": "stderr",
     "output_type": "stream",
     "text": [
      "/var/folders/r0/wf2xsjdx3h366x3_hj3b7xdc0000gp/T/ipykernel_3452/1324310581.py:4: FutureWarning: The 'delim_whitespace' keyword in pd.read_csv is deprecated and will be removed in a future version. Use ``sep='\\s+'`` instead\n",
      "  df = pd.read_csv(f'../empirical/subsampling_vF/data/frq/merged_chr{chr}_withingroups_all.tsv',delim_whitespace=True)\n"
     ]
    },
    {
     "name": "stdout",
     "output_type": "stream",
     "text": [
      "5\n"
     ]
    },
    {
     "name": "stderr",
     "output_type": "stream",
     "text": [
      "/var/folders/r0/wf2xsjdx3h366x3_hj3b7xdc0000gp/T/ipykernel_3452/1324310581.py:4: FutureWarning: The 'delim_whitespace' keyword in pd.read_csv is deprecated and will be removed in a future version. Use ``sep='\\s+'`` instead\n",
      "  df = pd.read_csv(f'../empirical/subsampling_vF/data/frq/merged_chr{chr}_withingroups_all.tsv',delim_whitespace=True)\n"
     ]
    },
    {
     "name": "stdout",
     "output_type": "stream",
     "text": [
      "6\n"
     ]
    },
    {
     "name": "stderr",
     "output_type": "stream",
     "text": [
      "/var/folders/r0/wf2xsjdx3h366x3_hj3b7xdc0000gp/T/ipykernel_3452/1324310581.py:4: FutureWarning: The 'delim_whitespace' keyword in pd.read_csv is deprecated and will be removed in a future version. Use ``sep='\\s+'`` instead\n",
      "  df = pd.read_csv(f'../empirical/subsampling_vF/data/frq/merged_chr{chr}_withingroups_all.tsv',delim_whitespace=True)\n"
     ]
    },
    {
     "name": "stdout",
     "output_type": "stream",
     "text": [
      "7\n"
     ]
    },
    {
     "name": "stderr",
     "output_type": "stream",
     "text": [
      "/var/folders/r0/wf2xsjdx3h366x3_hj3b7xdc0000gp/T/ipykernel_3452/1324310581.py:4: FutureWarning: The 'delim_whitespace' keyword in pd.read_csv is deprecated and will be removed in a future version. Use ``sep='\\s+'`` instead\n",
      "  df = pd.read_csv(f'../empirical/subsampling_vF/data/frq/merged_chr{chr}_withingroups_all.tsv',delim_whitespace=True)\n"
     ]
    },
    {
     "name": "stdout",
     "output_type": "stream",
     "text": [
      "8\n"
     ]
    },
    {
     "name": "stderr",
     "output_type": "stream",
     "text": [
      "/var/folders/r0/wf2xsjdx3h366x3_hj3b7xdc0000gp/T/ipykernel_3452/1324310581.py:4: FutureWarning: The 'delim_whitespace' keyword in pd.read_csv is deprecated and will be removed in a future version. Use ``sep='\\s+'`` instead\n",
      "  df = pd.read_csv(f'../empirical/subsampling_vF/data/frq/merged_chr{chr}_withingroups_all.tsv',delim_whitespace=True)\n"
     ]
    },
    {
     "name": "stdout",
     "output_type": "stream",
     "text": [
      "9\n"
     ]
    },
    {
     "name": "stderr",
     "output_type": "stream",
     "text": [
      "/var/folders/r0/wf2xsjdx3h366x3_hj3b7xdc0000gp/T/ipykernel_3452/1324310581.py:4: FutureWarning: The 'delim_whitespace' keyword in pd.read_csv is deprecated and will be removed in a future version. Use ``sep='\\s+'`` instead\n",
      "  df = pd.read_csv(f'../empirical/subsampling_vF/data/frq/merged_chr{chr}_withingroups_all.tsv',delim_whitespace=True)\n"
     ]
    },
    {
     "name": "stdout",
     "output_type": "stream",
     "text": [
      "10\n"
     ]
    },
    {
     "name": "stderr",
     "output_type": "stream",
     "text": [
      "/var/folders/r0/wf2xsjdx3h366x3_hj3b7xdc0000gp/T/ipykernel_3452/1324310581.py:4: FutureWarning: The 'delim_whitespace' keyword in pd.read_csv is deprecated and will be removed in a future version. Use ``sep='\\s+'`` instead\n",
      "  df = pd.read_csv(f'../empirical/subsampling_vF/data/frq/merged_chr{chr}_withingroups_all.tsv',delim_whitespace=True)\n"
     ]
    },
    {
     "name": "stdout",
     "output_type": "stream",
     "text": [
      "11\n"
     ]
    },
    {
     "name": "stderr",
     "output_type": "stream",
     "text": [
      "/var/folders/r0/wf2xsjdx3h366x3_hj3b7xdc0000gp/T/ipykernel_3452/1324310581.py:4: FutureWarning: The 'delim_whitespace' keyword in pd.read_csv is deprecated and will be removed in a future version. Use ``sep='\\s+'`` instead\n",
      "  df = pd.read_csv(f'../empirical/subsampling_vF/data/frq/merged_chr{chr}_withingroups_all.tsv',delim_whitespace=True)\n"
     ]
    },
    {
     "name": "stdout",
     "output_type": "stream",
     "text": [
      "12\n"
     ]
    },
    {
     "name": "stderr",
     "output_type": "stream",
     "text": [
      "/var/folders/r0/wf2xsjdx3h366x3_hj3b7xdc0000gp/T/ipykernel_3452/1324310581.py:4: FutureWarning: The 'delim_whitespace' keyword in pd.read_csv is deprecated and will be removed in a future version. Use ``sep='\\s+'`` instead\n",
      "  df = pd.read_csv(f'../empirical/subsampling_vF/data/frq/merged_chr{chr}_withingroups_all.tsv',delim_whitespace=True)\n"
     ]
    },
    {
     "name": "stdout",
     "output_type": "stream",
     "text": [
      "13\n"
     ]
    },
    {
     "name": "stderr",
     "output_type": "stream",
     "text": [
      "/var/folders/r0/wf2xsjdx3h366x3_hj3b7xdc0000gp/T/ipykernel_3452/1324310581.py:4: FutureWarning: The 'delim_whitespace' keyword in pd.read_csv is deprecated and will be removed in a future version. Use ``sep='\\s+'`` instead\n",
      "  df = pd.read_csv(f'../empirical/subsampling_vF/data/frq/merged_chr{chr}_withingroups_all.tsv',delim_whitespace=True)\n"
     ]
    },
    {
     "name": "stdout",
     "output_type": "stream",
     "text": [
      "14\n"
     ]
    },
    {
     "name": "stderr",
     "output_type": "stream",
     "text": [
      "/var/folders/r0/wf2xsjdx3h366x3_hj3b7xdc0000gp/T/ipykernel_3452/1324310581.py:4: FutureWarning: The 'delim_whitespace' keyword in pd.read_csv is deprecated and will be removed in a future version. Use ``sep='\\s+'`` instead\n",
      "  df = pd.read_csv(f'../empirical/subsampling_vF/data/frq/merged_chr{chr}_withingroups_all.tsv',delim_whitespace=True)\n"
     ]
    },
    {
     "name": "stdout",
     "output_type": "stream",
     "text": [
      "15\n"
     ]
    },
    {
     "name": "stderr",
     "output_type": "stream",
     "text": [
      "/var/folders/r0/wf2xsjdx3h366x3_hj3b7xdc0000gp/T/ipykernel_3452/1324310581.py:4: FutureWarning: The 'delim_whitespace' keyword in pd.read_csv is deprecated and will be removed in a future version. Use ``sep='\\s+'`` instead\n",
      "  df = pd.read_csv(f'../empirical/subsampling_vF/data/frq/merged_chr{chr}_withingroups_all.tsv',delim_whitespace=True)\n"
     ]
    },
    {
     "name": "stdout",
     "output_type": "stream",
     "text": [
      "16\n"
     ]
    },
    {
     "name": "stderr",
     "output_type": "stream",
     "text": [
      "/var/folders/r0/wf2xsjdx3h366x3_hj3b7xdc0000gp/T/ipykernel_3452/1324310581.py:4: FutureWarning: The 'delim_whitespace' keyword in pd.read_csv is deprecated and will be removed in a future version. Use ``sep='\\s+'`` instead\n",
      "  df = pd.read_csv(f'../empirical/subsampling_vF/data/frq/merged_chr{chr}_withingroups_all.tsv',delim_whitespace=True)\n"
     ]
    },
    {
     "name": "stdout",
     "output_type": "stream",
     "text": [
      "17\n"
     ]
    },
    {
     "name": "stderr",
     "output_type": "stream",
     "text": [
      "/var/folders/r0/wf2xsjdx3h366x3_hj3b7xdc0000gp/T/ipykernel_3452/1324310581.py:4: FutureWarning: The 'delim_whitespace' keyword in pd.read_csv is deprecated and will be removed in a future version. Use ``sep='\\s+'`` instead\n",
      "  df = pd.read_csv(f'../empirical/subsampling_vF/data/frq/merged_chr{chr}_withingroups_all.tsv',delim_whitespace=True)\n"
     ]
    },
    {
     "name": "stdout",
     "output_type": "stream",
     "text": [
      "18\n"
     ]
    },
    {
     "name": "stderr",
     "output_type": "stream",
     "text": [
      "/var/folders/r0/wf2xsjdx3h366x3_hj3b7xdc0000gp/T/ipykernel_3452/1324310581.py:4: FutureWarning: The 'delim_whitespace' keyword in pd.read_csv is deprecated and will be removed in a future version. Use ``sep='\\s+'`` instead\n",
      "  df = pd.read_csv(f'../empirical/subsampling_vF/data/frq/merged_chr{chr}_withingroups_all.tsv',delim_whitespace=True)\n"
     ]
    },
    {
     "name": "stdout",
     "output_type": "stream",
     "text": [
      "19\n"
     ]
    },
    {
     "name": "stderr",
     "output_type": "stream",
     "text": [
      "/var/folders/r0/wf2xsjdx3h366x3_hj3b7xdc0000gp/T/ipykernel_3452/1324310581.py:4: FutureWarning: The 'delim_whitespace' keyword in pd.read_csv is deprecated and will be removed in a future version. Use ``sep='\\s+'`` instead\n",
      "  df = pd.read_csv(f'../empirical/subsampling_vF/data/frq/merged_chr{chr}_withingroups_all.tsv',delim_whitespace=True)\n"
     ]
    },
    {
     "name": "stdout",
     "output_type": "stream",
     "text": [
      "20\n"
     ]
    },
    {
     "name": "stderr",
     "output_type": "stream",
     "text": [
      "/var/folders/r0/wf2xsjdx3h366x3_hj3b7xdc0000gp/T/ipykernel_3452/1324310581.py:4: FutureWarning: The 'delim_whitespace' keyword in pd.read_csv is deprecated and will be removed in a future version. Use ``sep='\\s+'`` instead\n",
      "  df = pd.read_csv(f'../empirical/subsampling_vF/data/frq/merged_chr{chr}_withingroups_all.tsv',delim_whitespace=True)\n"
     ]
    },
    {
     "name": "stdout",
     "output_type": "stream",
     "text": [
      "21\n"
     ]
    },
    {
     "name": "stderr",
     "output_type": "stream",
     "text": [
      "/var/folders/r0/wf2xsjdx3h366x3_hj3b7xdc0000gp/T/ipykernel_3452/1324310581.py:4: FutureWarning: The 'delim_whitespace' keyword in pd.read_csv is deprecated and will be removed in a future version. Use ``sep='\\s+'`` instead\n",
      "  df = pd.read_csv(f'../empirical/subsampling_vF/data/frq/merged_chr{chr}_withingroups_all.tsv',delim_whitespace=True)\n"
     ]
    },
    {
     "name": "stdout",
     "output_type": "stream",
     "text": [
      "22\n"
     ]
    },
    {
     "name": "stderr",
     "output_type": "stream",
     "text": [
      "/var/folders/r0/wf2xsjdx3h366x3_hj3b7xdc0000gp/T/ipykernel_3452/1324310581.py:4: FutureWarning: The 'delim_whitespace' keyword in pd.read_csv is deprecated and will be removed in a future version. Use ``sep='\\s+'`` instead\n",
      "  df = pd.read_csv(f'../empirical/subsampling_vF/data/frq/merged_chr{chr}_withingroups_all.tsv',delim_whitespace=True)\n"
     ]
    }
   ],
   "source": [
    "private_vars_list = []\n",
    "for chr in np.arange(23)[1:]:\n",
    "    print(chr)\n",
    "    df = pd.read_csv(f'../empirical/subsampling_vF/data/frq/merged_chr{chr}_withingroups_all.tsv',delim_whitespace=True)\n",
    "    df_zero = df[(df['CLST']=='notwithin_5epsilon_geo_all')&(df['MAC']==0)]\n",
    "    df_present = df[(df['CLST']=='within_5epsilon_geo_all')&(df['MAC']>0)]\n",
    "    private_vars_temp = pd.merge(df_zero,df_present,on='SNP',how='inner')\n",
    "    private_vars_list.append(private_vars_temp)\n",
    "private_vars_geo = pd.concat(private_vars_list,ignore_index=True)"
   ]
  },
  {
   "cell_type": "code",
   "execution_count": 16,
   "id": "19daad47-d796-417b-a669-904364d770f6",
   "metadata": {},
   "outputs": [],
   "source": [
    "private_vars_geo_geq10_leq20 = private_vars_geo[(private_vars_geo['MAC_y']>=10) & (private_vars_geo['MAC_y']<=20)]"
   ]
  },
  {
   "cell_type": "code",
   "execution_count": 17,
   "id": "b4cf6d98-1596-446a-a79c-34678089a2a2",
   "metadata": {},
   "outputs": [
    {
     "data": {
      "text/plain": [
       "MAC_y\n",
       "10    9077\n",
       "11    6660\n",
       "12    5062\n",
       "13    4006\n",
       "14    2978\n",
       "15    2424\n",
       "16    1931\n",
       "17    1476\n",
       "18    1211\n",
       "19     961\n",
       "20     810\n",
       "Name: count, dtype: int64"
      ]
     },
     "execution_count": 17,
     "metadata": {},
     "output_type": "execute_result"
    }
   ],
   "source": [
    "private_vars_geo_geq10_leq20['MAC_y'].value_counts()"
   ]
  },
  {
   "cell_type": "code",
   "execution_count": 80,
   "id": "07a09810-b915-4bef-bf02-f9be18a0a00f",
   "metadata": {},
   "outputs": [
    {
     "data": {
      "text/plain": [
       "36596"
      ]
     },
     "execution_count": 80,
     "metadata": {},
     "output_type": "execute_result"
    }
   ],
   "source": [
    "len(private_vars_geo_geq10_leq20)"
   ]
  },
  {
   "cell_type": "code",
   "execution_count": 81,
   "id": "e20c5833-98d7-4e0e-a206-f76e3039f861",
   "metadata": {},
   "outputs": [
    {
     "data": {
      "text/plain": [
       "9958"
      ]
     },
     "execution_count": 81,
     "metadata": {},
     "output_type": "execute_result"
    }
   ],
   "source": [
    "len(private_vars_pca_geq10_leq20)"
   ]
  },
  {
   "cell_type": "code",
   "execution_count": 18,
   "id": "cc42b895-6830-4deb-af12-d8b3a17240e9",
   "metadata": {},
   "outputs": [],
   "source": [
    "private_vars_geo_geq10_leq20['SNP'].to_csv('private_vars_geo_geq10_leq20.csv',index=False)"
   ]
  },
  {
   "cell_type": "code",
   "execution_count": 19,
   "id": "69b194f5-dfb6-445f-802d-d687258a9e5e",
   "metadata": {},
   "outputs": [
    {
     "data": {
      "text/plain": [
       "(array([6.139819e+06, 1.180200e+04, 9.600000e+02, 1.210000e+02,\n",
       "        1.900000e+01, 6.000000e+00, 0.000000e+00, 0.000000e+00,\n",
       "        0.000000e+00, 2.000000e+00]),\n",
       " array([  1. ,  14.8,  28.6,  42.4,  56.2,  70. ,  83.8,  97.6, 111.4,\n",
       "        125.2, 139. ]),\n",
       " <BarContainer object of 10 artists>)"
      ]
     },
     "execution_count": 19,
     "metadata": {},
     "output_type": "execute_result"
    },
    {
     "data": {
      "image/png": "[encoded data removed]",
      "text/plain": [
       "<Figure size 640x480 with 1 Axes>"
      ]
     },
     "metadata": {},
     "output_type": "display_data"
    }
   ],
   "source": [
    "plt.hist(private_vars_geo['MAC_y'])"
   ]
  },
  {
   "cell_type": "code",
   "execution_count": 20,
   "id": "3628f289-8100-4d00-b207-2ea56d9670da",
   "metadata": {},
   "outputs": [
    {
     "data": {
      "text/html": [
       "<div>\n",
       "<style scoped>\n",
       "    .dataframe tbody tr th:only-of-type {\n",
       "        vertical-align: middle;\n",
       "    }\n",
       "\n",
       "    .dataframe tbody tr th {\n",
       "        vertical-align: top;\n",
       "    }\n",
       "\n",
       "    .dataframe thead th {\n",
       "        text-align: right;\n",
       "    }\n",
       "</style>\n",
       "<table border=\"1\" class=\"dataframe\">\n",
       "  <thead>\n",
       "    <tr style=\"text-align: right;\">\n",
       "      <th></th>\n",
       "      <th>CHR_x</th>\n",
       "      <th>SNP</th>\n",
       "      <th>CLST_x</th>\n",
       "      <th>A1_x</th>\n",
       "      <th>A2_x</th>\n",
       "      <th>MAF_x</th>\n",
       "      <th>MAC_x</th>\n",
       "      <th>NCHROBS_x</th>\n",
       "      <th>CHR_y</th>\n",
       "      <th>CLST_y</th>\n",
       "      <th>A1_y</th>\n",
       "      <th>A2_y</th>\n",
       "      <th>MAF_y</th>\n",
       "      <th>MAC_y</th>\n",
       "      <th>NCHROBS_y</th>\n",
       "    </tr>\n",
       "  </thead>\n",
       "  <tbody>\n",
       "    <tr>\n",
       "      <th>0</th>\n",
       "      <td>1</td>\n",
       "      <td>1:69173:A:T</td>\n",
       "      <td>notwithin_5epsilon_geo_all</td>\n",
       "      <td>T</td>\n",
       "      <td>A</td>\n",
       "      <td>0.0</td>\n",
       "      <td>0</td>\n",
       "      <td>560958</td>\n",
       "      <td>1</td>\n",
       "      <td>within_5epsilon_geo_all</td>\n",
       "      <td>T</td>\n",
       "      <td>A</td>\n",
       "      <td>0.000005</td>\n",
       "      <td>1</td>\n",
       "      <td>221194</td>\n",
       "    </tr>\n",
       "    <tr>\n",
       "      <th>1</th>\n",
       "      <td>1</td>\n",
       "      <td>1:69202:A:G</td>\n",
       "      <td>notwithin_5epsilon_geo_all</td>\n",
       "      <td>G</td>\n",
       "      <td>A</td>\n",
       "      <td>0.0</td>\n",
       "      <td>0</td>\n",
       "      <td>561302</td>\n",
       "      <td>1</td>\n",
       "      <td>within_5epsilon_geo_all</td>\n",
       "      <td>G</td>\n",
       "      <td>A</td>\n",
       "      <td>0.000009</td>\n",
       "      <td>2</td>\n",
       "      <td>221314</td>\n",
       "    </tr>\n",
       "    <tr>\n",
       "      <th>2</th>\n",
       "      <td>1</td>\n",
       "      <td>1:69217:G:A</td>\n",
       "      <td>notwithin_5epsilon_geo_all</td>\n",
       "      <td>A</td>\n",
       "      <td>G</td>\n",
       "      <td>0.0</td>\n",
       "      <td>0</td>\n",
       "      <td>560822</td>\n",
       "      <td>1</td>\n",
       "      <td>within_5epsilon_geo_all</td>\n",
       "      <td>A</td>\n",
       "      <td>G</td>\n",
       "      <td>0.000005</td>\n",
       "      <td>1</td>\n",
       "      <td>221124</td>\n",
       "    </tr>\n",
       "    <tr>\n",
       "      <th>3</th>\n",
       "      <td>1</td>\n",
       "      <td>1:69254:T:C</td>\n",
       "      <td>notwithin_5epsilon_geo_all</td>\n",
       "      <td>C</td>\n",
       "      <td>T</td>\n",
       "      <td>0.0</td>\n",
       "      <td>0</td>\n",
       "      <td>560744</td>\n",
       "      <td>1</td>\n",
       "      <td>within_5epsilon_geo_all</td>\n",
       "      <td>C</td>\n",
       "      <td>T</td>\n",
       "      <td>0.000005</td>\n",
       "      <td>1</td>\n",
       "      <td>221006</td>\n",
       "    </tr>\n",
       "    <tr>\n",
       "      <th>4</th>\n",
       "      <td>1</td>\n",
       "      <td>1:69315:T:C</td>\n",
       "      <td>notwithin_5epsilon_geo_all</td>\n",
       "      <td>C</td>\n",
       "      <td>T</td>\n",
       "      <td>0.0</td>\n",
       "      <td>0</td>\n",
       "      <td>560716</td>\n",
       "      <td>1</td>\n",
       "      <td>within_5epsilon_geo_all</td>\n",
       "      <td>C</td>\n",
       "      <td>T</td>\n",
       "      <td>0.000009</td>\n",
       "      <td>2</td>\n",
       "      <td>221078</td>\n",
       "    </tr>\n",
       "    <tr>\n",
       "      <th>...</th>\n",
       "      <td>...</td>\n",
       "      <td>...</td>\n",
       "      <td>...</td>\n",
       "      <td>...</td>\n",
       "      <td>...</td>\n",
       "      <td>...</td>\n",
       "      <td>...</td>\n",
       "      <td>...</td>\n",
       "      <td>...</td>\n",
       "      <td>...</td>\n",
       "      <td>...</td>\n",
       "      <td>...</td>\n",
       "      <td>...</td>\n",
       "      <td>...</td>\n",
       "      <td>...</td>\n",
       "    </tr>\n",
       "    <tr>\n",
       "      <th>6152724</th>\n",
       "      <td>22</td>\n",
       "      <td>22:50782265:C:T</td>\n",
       "      <td>notwithin_5epsilon_geo_all</td>\n",
       "      <td>T</td>\n",
       "      <td>C</td>\n",
       "      <td>0.0</td>\n",
       "      <td>0</td>\n",
       "      <td>561948</td>\n",
       "      <td>22</td>\n",
       "      <td>within_5epsilon_geo_all</td>\n",
       "      <td>T</td>\n",
       "      <td>C</td>\n",
       "      <td>0.000005</td>\n",
       "      <td>1</td>\n",
       "      <td>221592</td>\n",
       "    </tr>\n",
       "    <tr>\n",
       "      <th>6152725</th>\n",
       "      <td>22</td>\n",
       "      <td>22:50782271:C:G</td>\n",
       "      <td>notwithin_5epsilon_geo_all</td>\n",
       "      <td>G</td>\n",
       "      <td>C</td>\n",
       "      <td>0.0</td>\n",
       "      <td>0</td>\n",
       "      <td>561896</td>\n",
       "      <td>22</td>\n",
       "      <td>within_5epsilon_geo_all</td>\n",
       "      <td>G</td>\n",
       "      <td>C</td>\n",
       "      <td>0.000009</td>\n",
       "      <td>2</td>\n",
       "      <td>221562</td>\n",
       "    </tr>\n",
       "    <tr>\n",
       "      <th>6152726</th>\n",
       "      <td>22</td>\n",
       "      <td>22:50782342:T:C</td>\n",
       "      <td>notwithin_5epsilon_geo_all</td>\n",
       "      <td>C</td>\n",
       "      <td>T</td>\n",
       "      <td>0.0</td>\n",
       "      <td>0</td>\n",
       "      <td>560922</td>\n",
       "      <td>22</td>\n",
       "      <td>within_5epsilon_geo_all</td>\n",
       "      <td>C</td>\n",
       "      <td>T</td>\n",
       "      <td>0.000005</td>\n",
       "      <td>1</td>\n",
       "      <td>221136</td>\n",
       "    </tr>\n",
       "    <tr>\n",
       "      <th>6152727</th>\n",
       "      <td>22</td>\n",
       "      <td>22:50782393:C:T</td>\n",
       "      <td>notwithin_5epsilon_geo_all</td>\n",
       "      <td>T</td>\n",
       "      <td>C</td>\n",
       "      <td>0.0</td>\n",
       "      <td>0</td>\n",
       "      <td>561838</td>\n",
       "      <td>22</td>\n",
       "      <td>within_5epsilon_geo_all</td>\n",
       "      <td>T</td>\n",
       "      <td>C</td>\n",
       "      <td>0.000009</td>\n",
       "      <td>2</td>\n",
       "      <td>221548</td>\n",
       "    </tr>\n",
       "    <tr>\n",
       "      <th>6152728</th>\n",
       "      <td>22</td>\n",
       "      <td>22:50782407:C:T</td>\n",
       "      <td>notwithin_5epsilon_geo_all</td>\n",
       "      <td>T</td>\n",
       "      <td>C</td>\n",
       "      <td>0.0</td>\n",
       "      <td>0</td>\n",
       "      <td>561854</td>\n",
       "      <td>22</td>\n",
       "      <td>within_5epsilon_geo_all</td>\n",
       "      <td>T</td>\n",
       "      <td>C</td>\n",
       "      <td>0.000009</td>\n",
       "      <td>2</td>\n",
       "      <td>221546</td>\n",
       "    </tr>\n",
       "  </tbody>\n",
       "</table>\n",
       "<p>6152729 rows × 15 columns</p>\n",
       "</div>"
      ],
      "text/plain": [
       "         CHR_x              SNP                      CLST_x A1_x A2_x  MAF_x  \\\n",
       "0            1      1:69173:A:T  notwithin_5epsilon_geo_all    T    A    0.0   \n",
       "1            1      1:69202:A:G  notwithin_5epsilon_geo_all    G    A    0.0   \n",
       "2            1      1:69217:G:A  notwithin_5epsilon_geo_all    A    G    0.0   \n",
       "3            1      1:69254:T:C  notwithin_5epsilon_geo_all    C    T    0.0   \n",
       "4            1      1:69315:T:C  notwithin_5epsilon_geo_all    C    T    0.0   \n",
       "...        ...              ...                         ...  ...  ...    ...   \n",
       "6152724     22  22:50782265:C:T  notwithin_5epsilon_geo_all    T    C    0.0   \n",
       "6152725     22  22:50782271:C:G  notwithin_5epsilon_geo_all    G    C    0.0   \n",
       "6152726     22  22:50782342:T:C  notwithin_5epsilon_geo_all    C    T    0.0   \n",
       "6152727     22  22:50782393:C:T  notwithin_5epsilon_geo_all    T    C    0.0   \n",
       "6152728     22  22:50782407:C:T  notwithin_5epsilon_geo_all    T    C    0.0   \n",
       "\n",
       "         MAC_x  NCHROBS_x  CHR_y                   CLST_y A1_y A2_y     MAF_y  \\\n",
       "0            0     560958      1  within_5epsilon_geo_all    T    A  0.000005   \n",
       "1            0     561302      1  within_5epsilon_geo_all    G    A  0.000009   \n",
       "2            0     560822      1  within_5epsilon_geo_all    A    G  0.000005   \n",
       "3            0     560744      1  within_5epsilon_geo_all    C    T  0.000005   \n",
       "4            0     560716      1  within_5epsilon_geo_all    C    T  0.000009   \n",
       "...        ...        ...    ...                      ...  ...  ...       ...   \n",
       "6152724      0     561948     22  within_5epsilon_geo_all    T    C  0.000005   \n",
       "6152725      0     561896     22  within_5epsilon_geo_all    G    C  0.000009   \n",
       "6152726      0     560922     22  within_5epsilon_geo_all    C    T  0.000005   \n",
       "6152727      0     561838     22  within_5epsilon_geo_all    T    C  0.000009   \n",
       "6152728      0     561854     22  within_5epsilon_geo_all    T    C  0.000009   \n",
       "\n",
       "         MAC_y  NCHROBS_y  \n",
       "0            1     221194  \n",
       "1            2     221314  \n",
       "2            1     221124  \n",
       "3            1     221006  \n",
       "4            2     221078  \n",
       "...        ...        ...  \n",
       "6152724      1     221592  \n",
       "6152725      2     221562  \n",
       "6152726      1     221136  \n",
       "6152727      2     221548  \n",
       "6152728      2     221546  \n",
       "\n",
       "[6152729 rows x 15 columns]"
      ]
     },
     "execution_count": 20,
     "metadata": {},
     "output_type": "execute_result"
    }
   ],
   "source": [
    "private_vars_geo"
   ]
  },
  {
   "cell_type": "code",
   "execution_count": 21,
   "id": "13c55b2d-2501-47a3-88ed-27bcf601a8a4",
   "metadata": {},
   "outputs": [
    {
     "data": {
      "text/plain": [
       "MAC_y\n",
       "1      4664581\n",
       "2       884542\n",
       "3       278183\n",
       "4       123146\n",
       "5        66110\n",
       "        ...   \n",
       "66           1\n",
       "72           1\n",
       "139          1\n",
       "59           1\n",
       "69           1\n",
       "Name: count, Length: 71, dtype: int64"
      ]
     },
     "execution_count": 21,
     "metadata": {},
     "output_type": "execute_result"
    }
   ],
   "source": [
    "private_vars_geo['MAC_y'].value_counts()"
   ]
  },
  {
   "cell_type": "code",
   "execution_count": 22,
   "id": "10d5fd9e-5ef0-4568-bfcd-ed350cf7ddc1",
   "metadata": {},
   "outputs": [],
   "source": [
    "private_vars_geo['SNP'].to_csv('private_vars_geo.csv',index=False)"
   ]
  },
  {
   "cell_type": "code",
   "execution_count": 23,
   "id": "6a731b5d-e2b8-4616-ba49-76957229fa86",
   "metadata": {},
   "outputs": [],
   "source": [
    "test = pd.read_csv('private_vars_geo.csv')"
   ]
  },
  {
   "cell_type": "code",
   "execution_count": 24,
   "id": "f6c73833-7f79-49ec-8588-add9910db6a1",
   "metadata": {},
   "outputs": [
    {
     "data": {
      "text/html": [
       "<div>\n",
       "<style scoped>\n",
       "    .dataframe tbody tr th:only-of-type {\n",
       "        vertical-align: middle;\n",
       "    }\n",
       "\n",
       "    .dataframe tbody tr th {\n",
       "        vertical-align: top;\n",
       "    }\n",
       "\n",
       "    .dataframe thead th {\n",
       "        text-align: right;\n",
       "    }\n",
       "</style>\n",
       "<table border=\"1\" class=\"dataframe\">\n",
       "  <thead>\n",
       "    <tr style=\"text-align: right;\">\n",
       "      <th></th>\n",
       "      <th>SNP</th>\n",
       "    </tr>\n",
       "  </thead>\n",
       "  <tbody>\n",
       "    <tr>\n",
       "      <th>0</th>\n",
       "      <td>1:69173:A:T</td>\n",
       "    </tr>\n",
       "    <tr>\n",
       "      <th>1</th>\n",
       "      <td>1:69202:A:G</td>\n",
       "    </tr>\n",
       "    <tr>\n",
       "      <th>2</th>\n",
       "      <td>1:69217:G:A</td>\n",
       "    </tr>\n",
       "    <tr>\n",
       "      <th>3</th>\n",
       "      <td>1:69254:T:C</td>\n",
       "    </tr>\n",
       "    <tr>\n",
       "      <th>4</th>\n",
       "      <td>1:69315:T:C</td>\n",
       "    </tr>\n",
       "    <tr>\n",
       "      <th>...</th>\n",
       "      <td>...</td>\n",
       "    </tr>\n",
       "    <tr>\n",
       "      <th>6152724</th>\n",
       "      <td>22:50782265:C:T</td>\n",
       "    </tr>\n",
       "    <tr>\n",
       "      <th>6152725</th>\n",
       "      <td>22:50782271:C:G</td>\n",
       "    </tr>\n",
       "    <tr>\n",
       "      <th>6152726</th>\n",
       "      <td>22:50782342:T:C</td>\n",
       "    </tr>\n",
       "    <tr>\n",
       "      <th>6152727</th>\n",
       "      <td>22:50782393:C:T</td>\n",
       "    </tr>\n",
       "    <tr>\n",
       "      <th>6152728</th>\n",
       "      <td>22:50782407:C:T</td>\n",
       "    </tr>\n",
       "  </tbody>\n",
       "</table>\n",
       "<p>6152729 rows × 1 columns</p>\n",
       "</div>"
      ],
      "text/plain": [
       "                     SNP\n",
       "0            1:69173:A:T\n",
       "1            1:69202:A:G\n",
       "2            1:69217:G:A\n",
       "3            1:69254:T:C\n",
       "4            1:69315:T:C\n",
       "...                  ...\n",
       "6152724  22:50782265:C:T\n",
       "6152725  22:50782271:C:G\n",
       "6152726  22:50782342:T:C\n",
       "6152727  22:50782393:C:T\n",
       "6152728  22:50782407:C:T\n",
       "\n",
       "[6152729 rows x 1 columns]"
      ]
     },
     "execution_count": 24,
     "metadata": {},
     "output_type": "execute_result"
    }
   ],
   "source": [
    "test"
   ]
  },
  {
   "cell_type": "markdown",
   "id": "a9cd0035-1528-4757-b1de-ba8c1d959409",
   "metadata": {},
   "source": [
    "### Step 2: (on midway) script to count presence of private variants in n=10K subsample files"
   ]
  },
  {
   "cell_type": "markdown",
   "id": "16c7cfda-5ce1-4c05-b40e-88f5e4d01174",
   "metadata": {},
   "source": [
    "### Step 3: Plot results"
   ]
  },
  {
   "cell_type": "code",
   "execution_count": 74,
   "id": "2c71bd87-b333-4d85-8e93-0e1832d878e6",
   "metadata": {},
   "outputs": [],
   "source": [
    "res = pd.read_csv('../empirical/subsampling_vF/private_var_counts_MAC_10_20.csv')"
   ]
  },
  {
   "cell_type": "code",
   "execution_count": 75,
   "id": "a5bb3c50-f5b2-4080-add2-40b57d07e608",
   "metadata": {},
   "outputs": [
    {
     "data": {
      "text/html": [
       "<div>\n",
       "<style scoped>\n",
       "    .dataframe tbody tr th:only-of-type {\n",
       "        vertical-align: middle;\n",
       "    }\n",
       "\n",
       "    .dataframe tbody tr th {\n",
       "        vertical-align: top;\n",
       "    }\n",
       "\n",
       "    .dataframe thead th {\n",
       "        text-align: right;\n",
       "    }\n",
       "</style>\n",
       "<table border=\"1\" class=\"dataframe\">\n",
       "  <thead>\n",
       "    <tr style=\"text-align: right;\">\n",
       "      <th></th>\n",
       "      <th>chrom</th>\n",
       "      <th>scenario</th>\n",
       "      <th>seed</th>\n",
       "      <th>priv_pca_count</th>\n",
       "      <th>priv_geo_count</th>\n",
       "    </tr>\n",
       "  </thead>\n",
       "  <tbody>\n",
       "    <tr>\n",
       "      <th>0</th>\n",
       "      <td>1</td>\n",
       "      <td>uniform</td>\n",
       "      <td>1</td>\n",
       "      <td>255.0</td>\n",
       "      <td>NaN</td>\n",
       "    </tr>\n",
       "    <tr>\n",
       "      <th>1</th>\n",
       "      <td>1</td>\n",
       "      <td>uniform</td>\n",
       "      <td>2</td>\n",
       "      <td>268.0</td>\n",
       "      <td>NaN</td>\n",
       "    </tr>\n",
       "    <tr>\n",
       "      <th>2</th>\n",
       "      <td>1</td>\n",
       "      <td>uniform</td>\n",
       "      <td>3</td>\n",
       "      <td>256.0</td>\n",
       "      <td>NaN</td>\n",
       "    </tr>\n",
       "    <tr>\n",
       "      <th>3</th>\n",
       "      <td>1</td>\n",
       "      <td>uniform</td>\n",
       "      <td>4</td>\n",
       "      <td>294.0</td>\n",
       "      <td>NaN</td>\n",
       "    </tr>\n",
       "    <tr>\n",
       "      <th>4</th>\n",
       "      <td>1</td>\n",
       "      <td>uniform</td>\n",
       "      <td>5</td>\n",
       "      <td>298.0</td>\n",
       "      <td>NaN</td>\n",
       "    </tr>\n",
       "    <tr>\n",
       "      <th>...</th>\n",
       "      <td>...</td>\n",
       "      <td>...</td>\n",
       "      <td>...</td>\n",
       "      <td>...</td>\n",
       "      <td>...</td>\n",
       "    </tr>\n",
       "    <tr>\n",
       "      <th>2415</th>\n",
       "      <td>22</td>\n",
       "      <td>uniformgeo</td>\n",
       "      <td>6</td>\n",
       "      <td>NaN</td>\n",
       "      <td>4.0</td>\n",
       "    </tr>\n",
       "    <tr>\n",
       "      <th>2416</th>\n",
       "      <td>22</td>\n",
       "      <td>uniformgeo</td>\n",
       "      <td>7</td>\n",
       "      <td>NaN</td>\n",
       "      <td>2.0</td>\n",
       "    </tr>\n",
       "    <tr>\n",
       "      <th>2417</th>\n",
       "      <td>22</td>\n",
       "      <td>uniformgeo</td>\n",
       "      <td>8</td>\n",
       "      <td>NaN</td>\n",
       "      <td>3.0</td>\n",
       "    </tr>\n",
       "    <tr>\n",
       "      <th>2418</th>\n",
       "      <td>22</td>\n",
       "      <td>uniformgeo</td>\n",
       "      <td>9</td>\n",
       "      <td>NaN</td>\n",
       "      <td>2.0</td>\n",
       "    </tr>\n",
       "    <tr>\n",
       "      <th>2419</th>\n",
       "      <td>22</td>\n",
       "      <td>uniformgeo</td>\n",
       "      <td>10</td>\n",
       "      <td>NaN</td>\n",
       "      <td>2.0</td>\n",
       "    </tr>\n",
       "  </tbody>\n",
       "</table>\n",
       "<p>2420 rows × 5 columns</p>\n",
       "</div>"
      ],
      "text/plain": [
       "      chrom    scenario  seed  priv_pca_count  priv_geo_count\n",
       "0         1     uniform     1           255.0             NaN\n",
       "1         1     uniform     2           268.0             NaN\n",
       "2         1     uniform     3           256.0             NaN\n",
       "3         1     uniform     4           294.0             NaN\n",
       "4         1     uniform     5           298.0             NaN\n",
       "...     ...         ...   ...             ...             ...\n",
       "2415     22  uniformgeo     6             NaN             4.0\n",
       "2416     22  uniformgeo     7             NaN             2.0\n",
       "2417     22  uniformgeo     8             NaN             3.0\n",
       "2418     22  uniformgeo     9             NaN             2.0\n",
       "2419     22  uniformgeo    10             NaN             2.0\n",
       "\n",
       "[2420 rows x 5 columns]"
      ]
     },
     "execution_count": 75,
     "metadata": {},
     "output_type": "execute_result"
    }
   ],
   "source": [
    "res"
   ]
  },
  {
   "cell_type": "code",
   "execution_count": 77,
   "id": "5f2d96b7-eab0-4dc0-8639-5f6e3a965949",
   "metadata": {},
   "outputs": [],
   "source": [
    "# res_grouped"
   ]
  },
  {
   "cell_type": "code",
   "execution_count": 73,
   "id": "b59a3b27-c3e0-4eea-b0c1-762a04ad6e11",
   "metadata": {},
   "outputs": [
    {
     "data": {
      "text/plain": [
       "priv_geo_count\n",
       "4.0     81\n",
       "2.0     79\n",
       "6.0     75\n",
       "3.0     72\n",
       "5.0     66\n",
       "8.0     52\n",
       "10.0    51\n",
       "7.0     51\n",
       "1.0     45\n",
       "13.0    45\n",
       "18.0    41\n",
       "15.0    40\n",
       "9.0     33\n",
       "19.0    32\n",
       "14.0    30\n",
       "0.0     30\n",
       "16.0    28\n",
       "12.0    27\n",
       "17.0    26\n",
       "11.0    25\n",
       "20.0    22\n",
       "25.0    21\n",
       "21.0    21\n",
       "28.0    15\n",
       "22.0    14\n",
       "23.0    11\n",
       "40.0    11\n",
       "47.0    10\n",
       "26.0     8\n",
       "24.0     6\n",
       "44.0     4\n",
       "36.0     4\n",
       "27.0     3\n",
       "29.0     2\n",
       "30.0     2\n",
       "41.0     2\n",
       "37.0     2\n",
       "35.0     2\n",
       "34.0     2\n",
       "45.0     2\n",
       "42.0     2\n",
       "38.0     2\n",
       "32.0     1\n",
       "33.0     1\n",
       "43.0     1\n",
       "Name: count, dtype: int64"
      ]
     },
     "execution_count": 73,
     "metadata": {},
     "output_type": "execute_result"
    }
   ],
   "source": [
    "res['priv_geo_count'].value_counts()"
   ]
  },
  {
   "cell_type": "code",
   "execution_count": 27,
   "id": "a2d388b4-ecce-4cb8-b221-11cd6dffd55a",
   "metadata": {},
   "outputs": [],
   "source": [
    "res_grouped = res.groupby(['scenario', 'seed'], as_index=False).sum()"
   ]
  },
  {
   "cell_type": "code",
   "execution_count": 28,
   "id": "b9cab541-4195-4fcc-a722-bdc0b1406985",
   "metadata": {},
   "outputs": [
    {
     "data": {
      "text/html": [
       "<div>\n",
       "<style scoped>\n",
       "    .dataframe tbody tr th:only-of-type {\n",
       "        vertical-align: middle;\n",
       "    }\n",
       "\n",
       "    .dataframe tbody tr th {\n",
       "        vertical-align: top;\n",
       "    }\n",
       "\n",
       "    .dataframe thead th {\n",
       "        text-align: right;\n",
       "    }\n",
       "</style>\n",
       "<table border=\"1\" class=\"dataframe\">\n",
       "  <thead>\n",
       "    <tr style=\"text-align: right;\">\n",
       "      <th></th>\n",
       "      <th>scenario</th>\n",
       "      <th>seed</th>\n",
       "      <th>chrom</th>\n",
       "      <th>priv_pca_count</th>\n",
       "      <th>priv_geo_count</th>\n",
       "    </tr>\n",
       "  </thead>\n",
       "  <tbody>\n",
       "    <tr>\n",
       "      <th>0</th>\n",
       "      <td>100epsilonpca</td>\n",
       "      <td>1</td>\n",
       "      <td>253</td>\n",
       "      <td>2593.0</td>\n",
       "      <td>0.0</td>\n",
       "    </tr>\n",
       "    <tr>\n",
       "      <th>1</th>\n",
       "      <td>100epsilonpca</td>\n",
       "      <td>2</td>\n",
       "      <td>253</td>\n",
       "      <td>2646.0</td>\n",
       "      <td>0.0</td>\n",
       "    </tr>\n",
       "    <tr>\n",
       "      <th>2</th>\n",
       "      <td>100epsilonpca</td>\n",
       "      <td>3</td>\n",
       "      <td>253</td>\n",
       "      <td>2582.0</td>\n",
       "      <td>0.0</td>\n",
       "    </tr>\n",
       "    <tr>\n",
       "      <th>3</th>\n",
       "      <td>100epsilonpca</td>\n",
       "      <td>4</td>\n",
       "      <td>253</td>\n",
       "      <td>2587.0</td>\n",
       "      <td>0.0</td>\n",
       "    </tr>\n",
       "    <tr>\n",
       "      <th>4</th>\n",
       "      <td>100epsilonpca</td>\n",
       "      <td>5</td>\n",
       "      <td>253</td>\n",
       "      <td>2531.0</td>\n",
       "      <td>0.0</td>\n",
       "    </tr>\n",
       "    <tr>\n",
       "      <th>...</th>\n",
       "      <td>...</td>\n",
       "      <td>...</td>\n",
       "      <td>...</td>\n",
       "      <td>...</td>\n",
       "      <td>...</td>\n",
       "    </tr>\n",
       "    <tr>\n",
       "      <th>105</th>\n",
       "      <td>uniformgeo</td>\n",
       "      <td>6</td>\n",
       "      <td>253</td>\n",
       "      <td>0.0</td>\n",
       "      <td>92.0</td>\n",
       "    </tr>\n",
       "    <tr>\n",
       "      <th>106</th>\n",
       "      <td>uniformgeo</td>\n",
       "      <td>7</td>\n",
       "      <td>253</td>\n",
       "      <td>0.0</td>\n",
       "      <td>79.0</td>\n",
       "    </tr>\n",
       "    <tr>\n",
       "      <th>107</th>\n",
       "      <td>uniformgeo</td>\n",
       "      <td>8</td>\n",
       "      <td>253</td>\n",
       "      <td>0.0</td>\n",
       "      <td>100.0</td>\n",
       "    </tr>\n",
       "    <tr>\n",
       "      <th>108</th>\n",
       "      <td>uniformgeo</td>\n",
       "      <td>9</td>\n",
       "      <td>253</td>\n",
       "      <td>0.0</td>\n",
       "      <td>102.0</td>\n",
       "    </tr>\n",
       "    <tr>\n",
       "      <th>109</th>\n",
       "      <td>uniformgeo</td>\n",
       "      <td>10</td>\n",
       "      <td>253</td>\n",
       "      <td>0.0</td>\n",
       "      <td>120.0</td>\n",
       "    </tr>\n",
       "  </tbody>\n",
       "</table>\n",
       "<p>110 rows × 5 columns</p>\n",
       "</div>"
      ],
      "text/plain": [
       "          scenario  seed  chrom  priv_pca_count  priv_geo_count\n",
       "0    100epsilonpca     1    253          2593.0             0.0\n",
       "1    100epsilonpca     2    253          2646.0             0.0\n",
       "2    100epsilonpca     3    253          2582.0             0.0\n",
       "3    100epsilonpca     4    253          2587.0             0.0\n",
       "4    100epsilonpca     5    253          2531.0             0.0\n",
       "..             ...   ...    ...             ...             ...\n",
       "105     uniformgeo     6    253             0.0            92.0\n",
       "106     uniformgeo     7    253             0.0            79.0\n",
       "107     uniformgeo     8    253             0.0           100.0\n",
       "108     uniformgeo     9    253             0.0           102.0\n",
       "109     uniformgeo    10    253             0.0           120.0\n",
       "\n",
       "[110 rows x 5 columns]"
      ]
     },
     "execution_count": 28,
     "metadata": {},
     "output_type": "execute_result"
    }
   ],
   "source": [
    "res_grouped"
   ]
  },
  {
   "cell_type": "code",
   "execution_count": 29,
   "id": "7e64a18b-90d8-4178-ad47-fd0f9a688514",
   "metadata": {},
   "outputs": [
    {
     "data": {
      "text/plain": [
       "scenario\n",
       "100epsilonpca    10\n",
       "10epsilongeo     10\n",
       "10epsilonpca     10\n",
       "50epsilongeo     10\n",
       "50epsilonpca     10\n",
       "5epsilongeo      10\n",
       "5epsilonpca      10\n",
       "closest10kgeo    10\n",
       "closest10kpca    10\n",
       "uniform          10\n",
       "uniformgeo       10\n",
       "Name: count, dtype: int64"
      ]
     },
     "execution_count": 29,
     "metadata": {},
     "output_type": "execute_result"
    }
   ],
   "source": [
    "res_grouped['scenario'].value_counts()"
   ]
  },
  {
   "cell_type": "code",
   "execution_count": 30,
   "id": "69dd7d76-869b-46e1-8d44-00e2e1f49ef5",
   "metadata": {},
   "outputs": [],
   "source": [
    "sc_pca = ['closest10kpca','5epsilonpca','10epsilonpca','50epsilonpca','100epsilonpca','uniform']\n",
    "sc_geo = ['closest10kgeo','5epsilongeo','10epsilongeo','50epsilongeo','uniformgeo']"
   ]
  },
  {
   "cell_type": "code",
   "execution_count": 31,
   "id": "99910fa7-7c0b-447b-a901-eedef04b9345",
   "metadata": {},
   "outputs": [
    {
     "data": {
      "text/plain": [
       "110"
      ]
     },
     "execution_count": 31,
     "metadata": {},
     "output_type": "execute_result"
    }
   ],
   "source": [
    "res_grouped['scenario'].count()"
   ]
  },
  {
   "cell_type": "code",
   "execution_count": 32,
   "id": "352302ab-9860-4aed-839a-cdbb2202d564",
   "metadata": {},
   "outputs": [
    {
     "data": {
      "text/html": [
       "<div>\n",
       "<style scoped>\n",
       "    .dataframe tbody tr th:only-of-type {\n",
       "        vertical-align: middle;\n",
       "    }\n",
       "\n",
       "    .dataframe tbody tr th {\n",
       "        vertical-align: top;\n",
       "    }\n",
       "\n",
       "    .dataframe thead th {\n",
       "        text-align: right;\n",
       "    }\n",
       "</style>\n",
       "<table border=\"1\" class=\"dataframe\">\n",
       "  <thead>\n",
       "    <tr style=\"text-align: right;\">\n",
       "      <th></th>\n",
       "      <th>scenario</th>\n",
       "      <th>seed</th>\n",
       "      <th>chrom</th>\n",
       "      <th>priv_pca_count</th>\n",
       "      <th>priv_geo_count</th>\n",
       "    </tr>\n",
       "  </thead>\n",
       "  <tbody>\n",
       "    <tr>\n",
       "      <th>50</th>\n",
       "      <td>5epsilongeo</td>\n",
       "      <td>1</td>\n",
       "      <td>253</td>\n",
       "      <td>0.0</td>\n",
       "      <td>436.0</td>\n",
       "    </tr>\n",
       "    <tr>\n",
       "      <th>51</th>\n",
       "      <td>5epsilongeo</td>\n",
       "      <td>2</td>\n",
       "      <td>253</td>\n",
       "      <td>0.0</td>\n",
       "      <td>441.0</td>\n",
       "    </tr>\n",
       "    <tr>\n",
       "      <th>52</th>\n",
       "      <td>5epsilongeo</td>\n",
       "      <td>3</td>\n",
       "      <td>253</td>\n",
       "      <td>0.0</td>\n",
       "      <td>444.0</td>\n",
       "    </tr>\n",
       "    <tr>\n",
       "      <th>53</th>\n",
       "      <td>5epsilongeo</td>\n",
       "      <td>4</td>\n",
       "      <td>253</td>\n",
       "      <td>0.0</td>\n",
       "      <td>428.0</td>\n",
       "    </tr>\n",
       "    <tr>\n",
       "      <th>54</th>\n",
       "      <td>5epsilongeo</td>\n",
       "      <td>5</td>\n",
       "      <td>253</td>\n",
       "      <td>0.0</td>\n",
       "      <td>426.0</td>\n",
       "    </tr>\n",
       "    <tr>\n",
       "      <th>55</th>\n",
       "      <td>5epsilongeo</td>\n",
       "      <td>6</td>\n",
       "      <td>253</td>\n",
       "      <td>0.0</td>\n",
       "      <td>455.0</td>\n",
       "    </tr>\n",
       "    <tr>\n",
       "      <th>56</th>\n",
       "      <td>5epsilongeo</td>\n",
       "      <td>7</td>\n",
       "      <td>253</td>\n",
       "      <td>0.0</td>\n",
       "      <td>425.0</td>\n",
       "    </tr>\n",
       "    <tr>\n",
       "      <th>57</th>\n",
       "      <td>5epsilongeo</td>\n",
       "      <td>8</td>\n",
       "      <td>253</td>\n",
       "      <td>0.0</td>\n",
       "      <td>426.0</td>\n",
       "    </tr>\n",
       "    <tr>\n",
       "      <th>58</th>\n",
       "      <td>5epsilongeo</td>\n",
       "      <td>9</td>\n",
       "      <td>253</td>\n",
       "      <td>0.0</td>\n",
       "      <td>415.0</td>\n",
       "    </tr>\n",
       "    <tr>\n",
       "      <th>59</th>\n",
       "      <td>5epsilongeo</td>\n",
       "      <td>10</td>\n",
       "      <td>253</td>\n",
       "      <td>0.0</td>\n",
       "      <td>411.0</td>\n",
       "    </tr>\n",
       "  </tbody>\n",
       "</table>\n",
       "</div>"
      ],
      "text/plain": [
       "       scenario  seed  chrom  priv_pca_count  priv_geo_count\n",
       "50  5epsilongeo     1    253             0.0           436.0\n",
       "51  5epsilongeo     2    253             0.0           441.0\n",
       "52  5epsilongeo     3    253             0.0           444.0\n",
       "53  5epsilongeo     4    253             0.0           428.0\n",
       "54  5epsilongeo     5    253             0.0           426.0\n",
       "55  5epsilongeo     6    253             0.0           455.0\n",
       "56  5epsilongeo     7    253             0.0           425.0\n",
       "57  5epsilongeo     8    253             0.0           426.0\n",
       "58  5epsilongeo     9    253             0.0           415.0\n",
       "59  5epsilongeo    10    253             0.0           411.0"
      ]
     },
     "execution_count": 32,
     "metadata": {},
     "output_type": "execute_result"
    }
   ],
   "source": [
    "res_grouped[res_grouped['scenario']=='5epsilongeo']"
   ]
  },
  {
   "cell_type": "code",
   "execution_count": 33,
   "id": "628b2332-e449-4633-b6b8-d4eaeccab390",
   "metadata": {},
   "outputs": [],
   "source": [
    "means_pca = []\n",
    "stds_pca = []\n",
    "for sc in sc_pca:\n",
    "    temp = res_grouped[res_grouped['scenario']==sc]\n",
    "    means_pca.append(temp['priv_pca_count'].mean())\n",
    "    stds_pca.append(temp['priv_pca_count'].std())\n",
    "\n",
    "means_geo = []\n",
    "stds_geo = []\n",
    "for sc in sc_geo:\n",
    "    temp = res_grouped[res_grouped['scenario']==sc]\n",
    "    means_geo.append(temp['priv_geo_count'].mean())\n",
    "    stds_geo.append(temp['priv_geo_count'].std())\n",
    "\n"
   ]
  },
  {
   "cell_type": "code",
   "execution_count": null,
   "id": "f2a5755b-091a-445c-831d-27077f2fbf0b",
   "metadata": {},
   "outputs": [],
   "source": []
  },
  {
   "cell_type": "code",
   "execution_count": 34,
   "id": "d514e4e4-2a5a-4a83-88e3-49b45d3a71bd",
   "metadata": {},
   "outputs": [
    {
     "data": {
      "text/plain": [
       "[3790.0, 2720.3, 2699.0, 2653.6, 2580.2, 2556.4]"
      ]
     },
     "execution_count": 34,
     "metadata": {},
     "output_type": "execute_result"
    }
   ],
   "source": [
    "means_pca"
   ]
  },
  {
   "cell_type": "code",
   "execution_count": 35,
   "id": "8d8c342d-880d-4a2b-b850-a0db54b67abf",
   "metadata": {},
   "outputs": [
    {
     "data": {
      "text/plain": [
       "[399.0, 430.7, 204.8, 101.7, 100.1]"
      ]
     },
     "execution_count": 35,
     "metadata": {},
     "output_type": "execute_result"
    }
   ],
   "source": [
    "means_geo"
   ]
  },
  {
   "cell_type": "code",
   "execution_count": 36,
   "id": "190caedf-8d40-497d-bac0-be6cdf9d3dbb",
   "metadata": {},
   "outputs": [],
   "source": [
    "frq = pd.read_csv('../empirical/subsampling_vF/private_var_mean_freq_MAC_10_20.csv')"
   ]
  },
  {
   "cell_type": "code",
   "execution_count": 37,
   "id": "c79ee761-29f4-40a7-af5b-ddcc4518ea41",
   "metadata": {},
   "outputs": [
    {
     "data": {
      "text/html": [
       "<div>\n",
       "<style scoped>\n",
       "    .dataframe tbody tr th:only-of-type {\n",
       "        vertical-align: middle;\n",
       "    }\n",
       "\n",
       "    .dataframe tbody tr th {\n",
       "        vertical-align: top;\n",
       "    }\n",
       "\n",
       "    .dataframe thead th {\n",
       "        text-align: right;\n",
       "    }\n",
       "</style>\n",
       "<table border=\"1\" class=\"dataframe\">\n",
       "  <thead>\n",
       "    <tr style=\"text-align: right;\">\n",
       "      <th></th>\n",
       "      <th>scenario</th>\n",
       "      <th>seed</th>\n",
       "      <th>priv_pca_mean</th>\n",
       "      <th>priv_geo_mean</th>\n",
       "    </tr>\n",
       "  </thead>\n",
       "  <tbody>\n",
       "    <tr>\n",
       "      <th>0</th>\n",
       "      <td>uniform</td>\n",
       "      <td>1</td>\n",
       "      <td>0.000015</td>\n",
       "      <td>NaN</td>\n",
       "    </tr>\n",
       "    <tr>\n",
       "      <th>1</th>\n",
       "      <td>uniform</td>\n",
       "      <td>2</td>\n",
       "      <td>0.000014</td>\n",
       "      <td>NaN</td>\n",
       "    </tr>\n",
       "    <tr>\n",
       "      <th>2</th>\n",
       "      <td>uniform</td>\n",
       "      <td>3</td>\n",
       "      <td>0.000014</td>\n",
       "      <td>NaN</td>\n",
       "    </tr>\n",
       "    <tr>\n",
       "      <th>3</th>\n",
       "      <td>uniform</td>\n",
       "      <td>4</td>\n",
       "      <td>0.000015</td>\n",
       "      <td>NaN</td>\n",
       "    </tr>\n",
       "    <tr>\n",
       "      <th>4</th>\n",
       "      <td>uniform</td>\n",
       "      <td>5</td>\n",
       "      <td>0.000015</td>\n",
       "      <td>NaN</td>\n",
       "    </tr>\n",
       "    <tr>\n",
       "      <th>...</th>\n",
       "      <td>...</td>\n",
       "      <td>...</td>\n",
       "      <td>...</td>\n",
       "      <td>...</td>\n",
       "    </tr>\n",
       "    <tr>\n",
       "      <th>105</th>\n",
       "      <td>uniformgeo</td>\n",
       "      <td>6</td>\n",
       "      <td>NaN</td>\n",
       "      <td>1.381566e-07</td>\n",
       "    </tr>\n",
       "    <tr>\n",
       "      <th>106</th>\n",
       "      <td>uniformgeo</td>\n",
       "      <td>7</td>\n",
       "      <td>NaN</td>\n",
       "      <td>1.179965e-07</td>\n",
       "    </tr>\n",
       "    <tr>\n",
       "      <th>107</th>\n",
       "      <td>uniformgeo</td>\n",
       "      <td>8</td>\n",
       "      <td>NaN</td>\n",
       "      <td>1.421833e-07</td>\n",
       "    </tr>\n",
       "    <tr>\n",
       "      <th>108</th>\n",
       "      <td>uniformgeo</td>\n",
       "      <td>9</td>\n",
       "      <td>NaN</td>\n",
       "      <td>1.449098e-07</td>\n",
       "    </tr>\n",
       "    <tr>\n",
       "      <th>109</th>\n",
       "      <td>uniformgeo</td>\n",
       "      <td>10</td>\n",
       "      <td>NaN</td>\n",
       "      <td>1.698636e-07</td>\n",
       "    </tr>\n",
       "  </tbody>\n",
       "</table>\n",
       "<p>110 rows × 4 columns</p>\n",
       "</div>"
      ],
      "text/plain": [
       "       scenario  seed  priv_pca_mean  priv_geo_mean\n",
       "0       uniform     1       0.000015            NaN\n",
       "1       uniform     2       0.000014            NaN\n",
       "2       uniform     3       0.000014            NaN\n",
       "3       uniform     4       0.000015            NaN\n",
       "4       uniform     5       0.000015            NaN\n",
       "..          ...   ...            ...            ...\n",
       "105  uniformgeo     6            NaN   1.381566e-07\n",
       "106  uniformgeo     7            NaN   1.179965e-07\n",
       "107  uniformgeo     8            NaN   1.421833e-07\n",
       "108  uniformgeo     9            NaN   1.449098e-07\n",
       "109  uniformgeo    10            NaN   1.698636e-07\n",
       "\n",
       "[110 rows x 4 columns]"
      ]
     },
     "execution_count": 37,
     "metadata": {},
     "output_type": "execute_result"
    }
   ],
   "source": [
    "frq"
   ]
  },
  {
   "cell_type": "code",
   "execution_count": 38,
   "id": "6a2fd5b0-e72c-499c-ac8a-120b693488f8",
   "metadata": {},
   "outputs": [],
   "source": [
    "frq_means_pca = []\n",
    "frq_stds_pca = []\n",
    "for sc in sc_pca:\n",
    "    temp = frq[frq['scenario']==sc]\n",
    "    frq_means_pca.append(temp['priv_pca_mean'].mean())\n",
    "    frq_stds_pca.append(temp['priv_pca_mean'].std())\n",
    "\n",
    "frq_means_geo = []\n",
    "frq_stds_geo = []\n",
    "for sc in sc_geo:\n",
    "    temp = frq[frq['scenario']==sc]\n",
    "    frq_means_geo.append(temp['priv_geo_mean'].mean())\n",
    "    frq_stds_geo.append(temp['priv_geo_mean'].std())"
   ]
  },
  {
   "cell_type": "code",
   "execution_count": 39,
   "id": "b8e8d47f-2162-467e-9572-8e69383e9398",
   "metadata": {},
   "outputs": [
    {
     "data": {
      "text/plain": [
       "[2.3895365535248037e-05,\n",
       " 1.593627605944969e-05,\n",
       " 1.5792281883912432e-05,\n",
       " 1.5496929905603537e-05,\n",
       " 1.5026214802169112e-05,\n",
       " 1.4787536754368348e-05]"
      ]
     },
     "execution_count": 39,
     "metadata": {},
     "output_type": "execute_result"
    }
   ],
   "source": [
    "frq_means_pca"
   ]
  },
  {
   "cell_type": "code",
   "execution_count": 40,
   "id": "cc9b979a-93c9-4442-8cc6-22b991290f4a",
   "metadata": {},
   "outputs": [
    {
     "data": {
      "text/plain": [
       "[9.922756585419177e-07,\n",
       " 7.627857142857144e-07,\n",
       " 3.21711935730681e-07,\n",
       " 1.4915009837140674e-07,\n",
       " 1.4615979888512406e-07]"
      ]
     },
     "execution_count": 40,
     "metadata": {},
     "output_type": "execute_result"
    }
   ],
   "source": [
    "frq_means_geo"
   ]
  },
  {
   "cell_type": "code",
   "execution_count": 41,
   "id": "bec25d92-22ed-4a18-8da5-be60a4d1b348",
   "metadata": {},
   "outputs": [
    {
     "data": {
      "text/plain": [
       "36596"
      ]
     },
     "execution_count": 41,
     "metadata": {},
     "output_type": "execute_result"
    }
   ],
   "source": [
    "len(private_vars_geo_geq10_leq20)"
   ]
  },
  {
   "cell_type": "code",
   "execution_count": 42,
   "id": "f76c9c64-8ae2-4e42-9df5-69b548d1a259",
   "metadata": {},
   "outputs": [],
   "source": [
    "frq25 = pd.read_csv('../empirical/subsampling_vF/random_25_snps_freq_MAC_10_20.csv')"
   ]
  },
  {
   "cell_type": "code",
   "execution_count": 43,
   "id": "55c716b3-d793-4632-85eb-56183af1d11d",
   "metadata": {},
   "outputs": [
    {
     "data": {
      "text/html": [
       "<div>\n",
       "<style scoped>\n",
       "    .dataframe tbody tr th:only-of-type {\n",
       "        vertical-align: middle;\n",
       "    }\n",
       "\n",
       "    .dataframe tbody tr th {\n",
       "        vertical-align: top;\n",
       "    }\n",
       "\n",
       "    .dataframe thead th {\n",
       "        text-align: right;\n",
       "    }\n",
       "</style>\n",
       "<table border=\"1\" class=\"dataframe\">\n",
       "  <thead>\n",
       "    <tr style=\"text-align: right;\">\n",
       "      <th></th>\n",
       "      <th>snp</th>\n",
       "      <th>scenario</th>\n",
       "      <th>seed</th>\n",
       "      <th>freq</th>\n",
       "    </tr>\n",
       "  </thead>\n",
       "  <tbody>\n",
       "    <tr>\n",
       "      <th>0</th>\n",
       "      <td>4:142029201:G:C</td>\n",
       "      <td>uniform</td>\n",
       "      <td>1</td>\n",
       "      <td>0.0000</td>\n",
       "    </tr>\n",
       "    <tr>\n",
       "      <th>1</th>\n",
       "      <td>6:32976837:C:T</td>\n",
       "      <td>uniform</td>\n",
       "      <td>1</td>\n",
       "      <td>0.0000</td>\n",
       "    </tr>\n",
       "    <tr>\n",
       "      <th>2</th>\n",
       "      <td>12:64222257:G:A</td>\n",
       "      <td>uniform</td>\n",
       "      <td>1</td>\n",
       "      <td>0.0000</td>\n",
       "    </tr>\n",
       "    <tr>\n",
       "      <th>3</th>\n",
       "      <td>6:46825518:T:C</td>\n",
       "      <td>uniform</td>\n",
       "      <td>1</td>\n",
       "      <td>0.0000</td>\n",
       "    </tr>\n",
       "    <tr>\n",
       "      <th>4</th>\n",
       "      <td>4:47626401:T:C</td>\n",
       "      <td>uniform</td>\n",
       "      <td>1</td>\n",
       "      <td>0.0000</td>\n",
       "    </tr>\n",
       "    <tr>\n",
       "      <th>...</th>\n",
       "      <td>...</td>\n",
       "      <td>...</td>\n",
       "      <td>...</td>\n",
       "      <td>...</td>\n",
       "    </tr>\n",
       "    <tr>\n",
       "      <th>2745</th>\n",
       "      <td>4:118833785:G:A</td>\n",
       "      <td>uniformgeo</td>\n",
       "      <td>10</td>\n",
       "      <td>0.0000</td>\n",
       "    </tr>\n",
       "    <tr>\n",
       "      <th>2746</th>\n",
       "      <td>2:65104686:A:G</td>\n",
       "      <td>uniformgeo</td>\n",
       "      <td>10</td>\n",
       "      <td>0.0000</td>\n",
       "    </tr>\n",
       "    <tr>\n",
       "      <th>2747</th>\n",
       "      <td>9:134045218:G:A</td>\n",
       "      <td>uniformgeo</td>\n",
       "      <td>10</td>\n",
       "      <td>0.0001</td>\n",
       "    </tr>\n",
       "    <tr>\n",
       "      <th>2748</th>\n",
       "      <td>5:129654328:C:T</td>\n",
       "      <td>uniformgeo</td>\n",
       "      <td>10</td>\n",
       "      <td>0.0000</td>\n",
       "    </tr>\n",
       "    <tr>\n",
       "      <th>2749</th>\n",
       "      <td>19:48837433:C:A</td>\n",
       "      <td>uniformgeo</td>\n",
       "      <td>10</td>\n",
       "      <td>0.0000</td>\n",
       "    </tr>\n",
       "  </tbody>\n",
       "</table>\n",
       "<p>2750 rows × 4 columns</p>\n",
       "</div>"
      ],
      "text/plain": [
       "                  snp    scenario  seed    freq\n",
       "0     4:142029201:G:C     uniform     1  0.0000\n",
       "1      6:32976837:C:T     uniform     1  0.0000\n",
       "2     12:64222257:G:A     uniform     1  0.0000\n",
       "3      6:46825518:T:C     uniform     1  0.0000\n",
       "4      4:47626401:T:C     uniform     1  0.0000\n",
       "...               ...         ...   ...     ...\n",
       "2745  4:118833785:G:A  uniformgeo    10  0.0000\n",
       "2746   2:65104686:A:G  uniformgeo    10  0.0000\n",
       "2747  9:134045218:G:A  uniformgeo    10  0.0001\n",
       "2748  5:129654328:C:T  uniformgeo    10  0.0000\n",
       "2749  19:48837433:C:A  uniformgeo    10  0.0000\n",
       "\n",
       "[2750 rows x 4 columns]"
      ]
     },
     "execution_count": 43,
     "metadata": {},
     "output_type": "execute_result"
    }
   ],
   "source": [
    "frq25"
   ]
  },
  {
   "cell_type": "code",
   "execution_count": 44,
   "id": "12e7148b-2169-412f-831f-664c15ed4228",
   "metadata": {},
   "outputs": [
    {
     "data": {
      "text/html": [
       "<div>\n",
       "<style scoped>\n",
       "    .dataframe tbody tr th:only-of-type {\n",
       "        vertical-align: middle;\n",
       "    }\n",
       "\n",
       "    .dataframe tbody tr th {\n",
       "        vertical-align: top;\n",
       "    }\n",
       "\n",
       "    .dataframe thead th {\n",
       "        text-align: right;\n",
       "    }\n",
       "</style>\n",
       "<table border=\"1\" class=\"dataframe\">\n",
       "  <thead>\n",
       "    <tr style=\"text-align: right;\">\n",
       "      <th></th>\n",
       "      <th>snp</th>\n",
       "      <th>scenario</th>\n",
       "      <th>seed</th>\n",
       "      <th>freq</th>\n",
       "    </tr>\n",
       "  </thead>\n",
       "  <tbody>\n",
       "    <tr>\n",
       "      <th>0</th>\n",
       "      <td>4:142029201:G:C</td>\n",
       "      <td>uniform</td>\n",
       "      <td>1</td>\n",
       "      <td>0.00000</td>\n",
       "    </tr>\n",
       "    <tr>\n",
       "      <th>1</th>\n",
       "      <td>6:32976837:C:T</td>\n",
       "      <td>uniform</td>\n",
       "      <td>1</td>\n",
       "      <td>0.00000</td>\n",
       "    </tr>\n",
       "    <tr>\n",
       "      <th>2</th>\n",
       "      <td>12:64222257:G:A</td>\n",
       "      <td>uniform</td>\n",
       "      <td>1</td>\n",
       "      <td>0.00000</td>\n",
       "    </tr>\n",
       "    <tr>\n",
       "      <th>3</th>\n",
       "      <td>6:46825518:T:C</td>\n",
       "      <td>uniform</td>\n",
       "      <td>1</td>\n",
       "      <td>0.00000</td>\n",
       "    </tr>\n",
       "    <tr>\n",
       "      <th>4</th>\n",
       "      <td>4:47626401:T:C</td>\n",
       "      <td>uniform</td>\n",
       "      <td>1</td>\n",
       "      <td>0.00000</td>\n",
       "    </tr>\n",
       "    <tr>\n",
       "      <th>...</th>\n",
       "      <td>...</td>\n",
       "      <td>...</td>\n",
       "      <td>...</td>\n",
       "      <td>...</td>\n",
       "    </tr>\n",
       "    <tr>\n",
       "      <th>1495</th>\n",
       "      <td>4:118833785:G:A</td>\n",
       "      <td>closest10kpca</td>\n",
       "      <td>10</td>\n",
       "      <td>0.00000</td>\n",
       "    </tr>\n",
       "    <tr>\n",
       "      <th>1496</th>\n",
       "      <td>2:65104686:A:G</td>\n",
       "      <td>closest10kpca</td>\n",
       "      <td>10</td>\n",
       "      <td>0.00005</td>\n",
       "    </tr>\n",
       "    <tr>\n",
       "      <th>1497</th>\n",
       "      <td>9:134045218:G:A</td>\n",
       "      <td>closest10kpca</td>\n",
       "      <td>10</td>\n",
       "      <td>0.00010</td>\n",
       "    </tr>\n",
       "    <tr>\n",
       "      <th>1498</th>\n",
       "      <td>5:129654328:C:T</td>\n",
       "      <td>closest10kpca</td>\n",
       "      <td>10</td>\n",
       "      <td>0.00005</td>\n",
       "    </tr>\n",
       "    <tr>\n",
       "      <th>1499</th>\n",
       "      <td>19:48837433:C:A</td>\n",
       "      <td>closest10kpca</td>\n",
       "      <td>10</td>\n",
       "      <td>0.00000</td>\n",
       "    </tr>\n",
       "  </tbody>\n",
       "</table>\n",
       "<p>1500 rows × 4 columns</p>\n",
       "</div>"
      ],
      "text/plain": [
       "                  snp       scenario  seed     freq\n",
       "0     4:142029201:G:C        uniform     1  0.00000\n",
       "1      6:32976837:C:T        uniform     1  0.00000\n",
       "2     12:64222257:G:A        uniform     1  0.00000\n",
       "3      6:46825518:T:C        uniform     1  0.00000\n",
       "4      4:47626401:T:C        uniform     1  0.00000\n",
       "...               ...            ...   ...      ...\n",
       "1495  4:118833785:G:A  closest10kpca    10  0.00000\n",
       "1496   2:65104686:A:G  closest10kpca    10  0.00005\n",
       "1497  9:134045218:G:A  closest10kpca    10  0.00010\n",
       "1498  5:129654328:C:T  closest10kpca    10  0.00005\n",
       "1499  19:48837433:C:A  closest10kpca    10  0.00000\n",
       "\n",
       "[1500 rows x 4 columns]"
      ]
     },
     "execution_count": 44,
     "metadata": {},
     "output_type": "execute_result"
    }
   ],
   "source": [
    "frq25_pca = frq25[frq25['scenario'].isin(sc_pca)]\n",
    "frq25_pca"
   ]
  },
  {
   "cell_type": "code",
   "execution_count": 45,
   "id": "bffeb102-fde5-4068-b704-3b44fb66c470",
   "metadata": {},
   "outputs": [
    {
     "data": {
      "text/html": [
       "<div>\n",
       "<style scoped>\n",
       "    .dataframe tbody tr th:only-of-type {\n",
       "        vertical-align: middle;\n",
       "    }\n",
       "\n",
       "    .dataframe tbody tr th {\n",
       "        vertical-align: top;\n",
       "    }\n",
       "\n",
       "    .dataframe thead th {\n",
       "        text-align: right;\n",
       "    }\n",
       "</style>\n",
       "<table border=\"1\" class=\"dataframe\">\n",
       "  <thead>\n",
       "    <tr style=\"text-align: right;\">\n",
       "      <th></th>\n",
       "      <th>snp</th>\n",
       "      <th>scenario</th>\n",
       "      <th>seed</th>\n",
       "      <th>freq</th>\n",
       "    </tr>\n",
       "  </thead>\n",
       "  <tbody>\n",
       "    <tr>\n",
       "      <th>1500</th>\n",
       "      <td>4:142029201:G:C</td>\n",
       "      <td>5epsilongeo</td>\n",
       "      <td>1</td>\n",
       "      <td>0.0000</td>\n",
       "    </tr>\n",
       "    <tr>\n",
       "      <th>1501</th>\n",
       "      <td>6:32976837:C:T</td>\n",
       "      <td>5epsilongeo</td>\n",
       "      <td>1</td>\n",
       "      <td>0.0001</td>\n",
       "    </tr>\n",
       "    <tr>\n",
       "      <th>1502</th>\n",
       "      <td>12:64222257:G:A</td>\n",
       "      <td>5epsilongeo</td>\n",
       "      <td>1</td>\n",
       "      <td>0.0001</td>\n",
       "    </tr>\n",
       "    <tr>\n",
       "      <th>1503</th>\n",
       "      <td>6:46825518:T:C</td>\n",
       "      <td>5epsilongeo</td>\n",
       "      <td>1</td>\n",
       "      <td>0.0000</td>\n",
       "    </tr>\n",
       "    <tr>\n",
       "      <th>1504</th>\n",
       "      <td>4:47626401:T:C</td>\n",
       "      <td>5epsilongeo</td>\n",
       "      <td>1</td>\n",
       "      <td>0.0000</td>\n",
       "    </tr>\n",
       "    <tr>\n",
       "      <th>...</th>\n",
       "      <td>...</td>\n",
       "      <td>...</td>\n",
       "      <td>...</td>\n",
       "      <td>...</td>\n",
       "    </tr>\n",
       "    <tr>\n",
       "      <th>2745</th>\n",
       "      <td>4:118833785:G:A</td>\n",
       "      <td>uniformgeo</td>\n",
       "      <td>10</td>\n",
       "      <td>0.0000</td>\n",
       "    </tr>\n",
       "    <tr>\n",
       "      <th>2746</th>\n",
       "      <td>2:65104686:A:G</td>\n",
       "      <td>uniformgeo</td>\n",
       "      <td>10</td>\n",
       "      <td>0.0000</td>\n",
       "    </tr>\n",
       "    <tr>\n",
       "      <th>2747</th>\n",
       "      <td>9:134045218:G:A</td>\n",
       "      <td>uniformgeo</td>\n",
       "      <td>10</td>\n",
       "      <td>0.0001</td>\n",
       "    </tr>\n",
       "    <tr>\n",
       "      <th>2748</th>\n",
       "      <td>5:129654328:C:T</td>\n",
       "      <td>uniformgeo</td>\n",
       "      <td>10</td>\n",
       "      <td>0.0000</td>\n",
       "    </tr>\n",
       "    <tr>\n",
       "      <th>2749</th>\n",
       "      <td>19:48837433:C:A</td>\n",
       "      <td>uniformgeo</td>\n",
       "      <td>10</td>\n",
       "      <td>0.0000</td>\n",
       "    </tr>\n",
       "  </tbody>\n",
       "</table>\n",
       "<p>1250 rows × 4 columns</p>\n",
       "</div>"
      ],
      "text/plain": [
       "                  snp     scenario  seed    freq\n",
       "1500  4:142029201:G:C  5epsilongeo     1  0.0000\n",
       "1501   6:32976837:C:T  5epsilongeo     1  0.0001\n",
       "1502  12:64222257:G:A  5epsilongeo     1  0.0001\n",
       "1503   6:46825518:T:C  5epsilongeo     1  0.0000\n",
       "1504   4:47626401:T:C  5epsilongeo     1  0.0000\n",
       "...               ...          ...   ...     ...\n",
       "2745  4:118833785:G:A   uniformgeo    10  0.0000\n",
       "2746   2:65104686:A:G   uniformgeo    10  0.0000\n",
       "2747  9:134045218:G:A   uniformgeo    10  0.0001\n",
       "2748  5:129654328:C:T   uniformgeo    10  0.0000\n",
       "2749  19:48837433:C:A   uniformgeo    10  0.0000\n",
       "\n",
       "[1250 rows x 4 columns]"
      ]
     },
     "execution_count": 45,
     "metadata": {},
     "output_type": "execute_result"
    }
   ],
   "source": [
    "frq25_geo = frq25[frq25['scenario'].isin(sc_geo)]\n",
    "frq25_geo"
   ]
  },
  {
   "cell_type": "code",
   "execution_count": 46,
   "id": "6fcd2f4d-785e-4754-996a-ccf5d2815058",
   "metadata": {},
   "outputs": [
    {
     "data": {
      "text/html": [
       "<div>\n",
       "<style scoped>\n",
       "    .dataframe tbody tr th:only-of-type {\n",
       "        vertical-align: middle;\n",
       "    }\n",
       "\n",
       "    .dataframe tbody tr th {\n",
       "        vertical-align: top;\n",
       "    }\n",
       "\n",
       "    .dataframe thead th {\n",
       "        text-align: right;\n",
       "    }\n",
       "</style>\n",
       "<table border=\"1\" class=\"dataframe\">\n",
       "  <thead>\n",
       "    <tr style=\"text-align: right;\">\n",
       "      <th></th>\n",
       "      <th>snp</th>\n",
       "      <th>scenario</th>\n",
       "      <th>seed</th>\n",
       "      <th>freq</th>\n",
       "    </tr>\n",
       "  </thead>\n",
       "  <tbody>\n",
       "    <tr>\n",
       "      <th>75</th>\n",
       "      <td>4:142029201:G:C</td>\n",
       "      <td>uniform</td>\n",
       "      <td>4</td>\n",
       "      <td>0.00000</td>\n",
       "    </tr>\n",
       "    <tr>\n",
       "      <th>76</th>\n",
       "      <td>6:32976837:C:T</td>\n",
       "      <td>uniform</td>\n",
       "      <td>4</td>\n",
       "      <td>0.00010</td>\n",
       "    </tr>\n",
       "    <tr>\n",
       "      <th>77</th>\n",
       "      <td>12:64222257:G:A</td>\n",
       "      <td>uniform</td>\n",
       "      <td>4</td>\n",
       "      <td>0.00000</td>\n",
       "    </tr>\n",
       "    <tr>\n",
       "      <th>78</th>\n",
       "      <td>6:46825518:T:C</td>\n",
       "      <td>uniform</td>\n",
       "      <td>4</td>\n",
       "      <td>0.00000</td>\n",
       "    </tr>\n",
       "    <tr>\n",
       "      <th>79</th>\n",
       "      <td>4:47626401:T:C</td>\n",
       "      <td>uniform</td>\n",
       "      <td>4</td>\n",
       "      <td>0.00000</td>\n",
       "    </tr>\n",
       "    <tr>\n",
       "      <th>...</th>\n",
       "      <td>...</td>\n",
       "      <td>...</td>\n",
       "      <td>...</td>\n",
       "      <td>...</td>\n",
       "    </tr>\n",
       "    <tr>\n",
       "      <th>1345</th>\n",
       "      <td>4:118833785:G:A</td>\n",
       "      <td>closest10kpca</td>\n",
       "      <td>4</td>\n",
       "      <td>0.00000</td>\n",
       "    </tr>\n",
       "    <tr>\n",
       "      <th>1346</th>\n",
       "      <td>2:65104686:A:G</td>\n",
       "      <td>closest10kpca</td>\n",
       "      <td>4</td>\n",
       "      <td>0.00005</td>\n",
       "    </tr>\n",
       "    <tr>\n",
       "      <th>1347</th>\n",
       "      <td>9:134045218:G:A</td>\n",
       "      <td>closest10kpca</td>\n",
       "      <td>4</td>\n",
       "      <td>0.00010</td>\n",
       "    </tr>\n",
       "    <tr>\n",
       "      <th>1348</th>\n",
       "      <td>5:129654328:C:T</td>\n",
       "      <td>closest10kpca</td>\n",
       "      <td>4</td>\n",
       "      <td>0.00005</td>\n",
       "    </tr>\n",
       "    <tr>\n",
       "      <th>1349</th>\n",
       "      <td>19:48837433:C:A</td>\n",
       "      <td>closest10kpca</td>\n",
       "      <td>4</td>\n",
       "      <td>0.00000</td>\n",
       "    </tr>\n",
       "  </tbody>\n",
       "</table>\n",
       "<p>150 rows × 4 columns</p>\n",
       "</div>"
      ],
      "text/plain": [
       "                  snp       scenario  seed     freq\n",
       "75    4:142029201:G:C        uniform     4  0.00000\n",
       "76     6:32976837:C:T        uniform     4  0.00010\n",
       "77    12:64222257:G:A        uniform     4  0.00000\n",
       "78     6:46825518:T:C        uniform     4  0.00000\n",
       "79     4:47626401:T:C        uniform     4  0.00000\n",
       "...               ...            ...   ...      ...\n",
       "1345  4:118833785:G:A  closest10kpca     4  0.00000\n",
       "1346   2:65104686:A:G  closest10kpca     4  0.00005\n",
       "1347  9:134045218:G:A  closest10kpca     4  0.00010\n",
       "1348  5:129654328:C:T  closest10kpca     4  0.00005\n",
       "1349  19:48837433:C:A  closest10kpca     4  0.00000\n",
       "\n",
       "[150 rows x 4 columns]"
      ]
     },
     "execution_count": 46,
     "metadata": {},
     "output_type": "execute_result"
    }
   ],
   "source": [
    "frq25_pca_seed = frq25_pca[frq25_pca['seed']==4]\n",
    "frq25_pca_seed"
   ]
  },
  {
   "cell_type": "code",
   "execution_count": 47,
   "id": "09adffd1-f13c-4d1f-b4d2-5a99f1a0961e",
   "metadata": {},
   "outputs": [
    {
     "data": {
      "text/html": [
       "<div>\n",
       "<style scoped>\n",
       "    .dataframe tbody tr th:only-of-type {\n",
       "        vertical-align: middle;\n",
       "    }\n",
       "\n",
       "    .dataframe tbody tr th {\n",
       "        vertical-align: top;\n",
       "    }\n",
       "\n",
       "    .dataframe thead th {\n",
       "        text-align: right;\n",
       "    }\n",
       "</style>\n",
       "<table border=\"1\" class=\"dataframe\">\n",
       "  <thead>\n",
       "    <tr style=\"text-align: right;\">\n",
       "      <th></th>\n",
       "      <th>snp</th>\n",
       "      <th>scenario</th>\n",
       "      <th>seed</th>\n",
       "      <th>freq</th>\n",
       "    </tr>\n",
       "  </thead>\n",
       "  <tbody>\n",
       "    <tr>\n",
       "      <th>1575</th>\n",
       "      <td>4:142029201:G:C</td>\n",
       "      <td>5epsilongeo</td>\n",
       "      <td>4</td>\n",
       "      <td>0.00000</td>\n",
       "    </tr>\n",
       "    <tr>\n",
       "      <th>1576</th>\n",
       "      <td>6:32976837:C:T</td>\n",
       "      <td>5epsilongeo</td>\n",
       "      <td>4</td>\n",
       "      <td>0.00000</td>\n",
       "    </tr>\n",
       "    <tr>\n",
       "      <th>1577</th>\n",
       "      <td>12:64222257:G:A</td>\n",
       "      <td>5epsilongeo</td>\n",
       "      <td>4</td>\n",
       "      <td>0.00010</td>\n",
       "    </tr>\n",
       "    <tr>\n",
       "      <th>1578</th>\n",
       "      <td>6:46825518:T:C</td>\n",
       "      <td>5epsilongeo</td>\n",
       "      <td>4</td>\n",
       "      <td>0.00000</td>\n",
       "    </tr>\n",
       "    <tr>\n",
       "      <th>1579</th>\n",
       "      <td>4:47626401:T:C</td>\n",
       "      <td>5epsilongeo</td>\n",
       "      <td>4</td>\n",
       "      <td>0.00000</td>\n",
       "    </tr>\n",
       "    <tr>\n",
       "      <th>...</th>\n",
       "      <td>...</td>\n",
       "      <td>...</td>\n",
       "      <td>...</td>\n",
       "      <td>...</td>\n",
       "    </tr>\n",
       "    <tr>\n",
       "      <th>2595</th>\n",
       "      <td>4:118833785:G:A</td>\n",
       "      <td>uniformgeo</td>\n",
       "      <td>4</td>\n",
       "      <td>0.00005</td>\n",
       "    </tr>\n",
       "    <tr>\n",
       "      <th>2596</th>\n",
       "      <td>2:65104686:A:G</td>\n",
       "      <td>uniformgeo</td>\n",
       "      <td>4</td>\n",
       "      <td>0.00000</td>\n",
       "    </tr>\n",
       "    <tr>\n",
       "      <th>2597</th>\n",
       "      <td>9:134045218:G:A</td>\n",
       "      <td>uniformgeo</td>\n",
       "      <td>4</td>\n",
       "      <td>0.00000</td>\n",
       "    </tr>\n",
       "    <tr>\n",
       "      <th>2598</th>\n",
       "      <td>5:129654328:C:T</td>\n",
       "      <td>uniformgeo</td>\n",
       "      <td>4</td>\n",
       "      <td>0.00000</td>\n",
       "    </tr>\n",
       "    <tr>\n",
       "      <th>2599</th>\n",
       "      <td>19:48837433:C:A</td>\n",
       "      <td>uniformgeo</td>\n",
       "      <td>4</td>\n",
       "      <td>0.00000</td>\n",
       "    </tr>\n",
       "  </tbody>\n",
       "</table>\n",
       "<p>125 rows × 4 columns</p>\n",
       "</div>"
      ],
      "text/plain": [
       "                  snp     scenario  seed     freq\n",
       "1575  4:142029201:G:C  5epsilongeo     4  0.00000\n",
       "1576   6:32976837:C:T  5epsilongeo     4  0.00000\n",
       "1577  12:64222257:G:A  5epsilongeo     4  0.00010\n",
       "1578   6:46825518:T:C  5epsilongeo     4  0.00000\n",
       "1579   4:47626401:T:C  5epsilongeo     4  0.00000\n",
       "...               ...          ...   ...      ...\n",
       "2595  4:118833785:G:A   uniformgeo     4  0.00005\n",
       "2596   2:65104686:A:G   uniformgeo     4  0.00000\n",
       "2597  9:134045218:G:A   uniformgeo     4  0.00000\n",
       "2598  5:129654328:C:T   uniformgeo     4  0.00000\n",
       "2599  19:48837433:C:A   uniformgeo     4  0.00000\n",
       "\n",
       "[125 rows x 4 columns]"
      ]
     },
     "execution_count": 47,
     "metadata": {},
     "output_type": "execute_result"
    }
   ],
   "source": [
    "frq25_geo_seed = frq25_geo[frq25_geo['seed']==4]\n",
    "frq25_geo_seed"
   ]
  },
  {
   "cell_type": "code",
   "execution_count": 48,
   "id": "1d8bc246-c474-4554-b80d-1f09ed983a53",
   "metadata": {},
   "outputs": [],
   "source": [
    "# frq25_seed_pca = frq25[(frq25['seed']==7) & (frq25['scenario'].isin(sc_pca))]\n",
    "# frq25_seed_pca"
   ]
  },
  {
   "cell_type": "code",
   "execution_count": 49,
   "id": "88c98a3f-d53f-419c-83ee-e3ff48271254",
   "metadata": {},
   "outputs": [
    {
     "data": {
      "text/html": [
       "<div>\n",
       "<style scoped>\n",
       "    .dataframe tbody tr th:only-of-type {\n",
       "        vertical-align: middle;\n",
       "    }\n",
       "\n",
       "    .dataframe tbody tr th {\n",
       "        vertical-align: top;\n",
       "    }\n",
       "\n",
       "    .dataframe thead th {\n",
       "        text-align: right;\n",
       "    }\n",
       "</style>\n",
       "<table border=\"1\" class=\"dataframe\">\n",
       "  <thead>\n",
       "    <tr style=\"text-align: right;\">\n",
       "      <th></th>\n",
       "      <th>snp</th>\n",
       "      <th>scenario</th>\n",
       "      <th>freq</th>\n",
       "    </tr>\n",
       "  </thead>\n",
       "  <tbody>\n",
       "    <tr>\n",
       "      <th>0</th>\n",
       "      <td>12:112869835:G:A</td>\n",
       "      <td>100epsilonpca</td>\n",
       "      <td>0.000010</td>\n",
       "    </tr>\n",
       "    <tr>\n",
       "      <th>1</th>\n",
       "      <td>12:112869835:G:A</td>\n",
       "      <td>10epsilonpca</td>\n",
       "      <td>0.000020</td>\n",
       "    </tr>\n",
       "    <tr>\n",
       "      <th>2</th>\n",
       "      <td>12:112869835:G:A</td>\n",
       "      <td>50epsilonpca</td>\n",
       "      <td>0.000005</td>\n",
       "    </tr>\n",
       "    <tr>\n",
       "      <th>3</th>\n",
       "      <td>12:112869835:G:A</td>\n",
       "      <td>5epsilonpca</td>\n",
       "      <td>0.000025</td>\n",
       "    </tr>\n",
       "    <tr>\n",
       "      <th>4</th>\n",
       "      <td>12:112869835:G:A</td>\n",
       "      <td>closest10kpca</td>\n",
       "      <td>0.000000</td>\n",
       "    </tr>\n",
       "    <tr>\n",
       "      <th>...</th>\n",
       "      <td>...</td>\n",
       "      <td>...</td>\n",
       "      <td>...</td>\n",
       "    </tr>\n",
       "    <tr>\n",
       "      <th>145</th>\n",
       "      <td>9:65738415:A:G</td>\n",
       "      <td>10epsilonpca</td>\n",
       "      <td>0.000030</td>\n",
       "    </tr>\n",
       "    <tr>\n",
       "      <th>146</th>\n",
       "      <td>9:65738415:A:G</td>\n",
       "      <td>50epsilonpca</td>\n",
       "      <td>0.000015</td>\n",
       "    </tr>\n",
       "    <tr>\n",
       "      <th>147</th>\n",
       "      <td>9:65738415:A:G</td>\n",
       "      <td>5epsilonpca</td>\n",
       "      <td>0.000020</td>\n",
       "    </tr>\n",
       "    <tr>\n",
       "      <th>148</th>\n",
       "      <td>9:65738415:A:G</td>\n",
       "      <td>closest10kpca</td>\n",
       "      <td>0.000000</td>\n",
       "    </tr>\n",
       "    <tr>\n",
       "      <th>149</th>\n",
       "      <td>9:65738415:A:G</td>\n",
       "      <td>uniform</td>\n",
       "      <td>0.000005</td>\n",
       "    </tr>\n",
       "  </tbody>\n",
       "</table>\n",
       "<p>150 rows × 3 columns</p>\n",
       "</div>"
      ],
      "text/plain": [
       "                  snp       scenario      freq\n",
       "0    12:112869835:G:A  100epsilonpca  0.000010\n",
       "1    12:112869835:G:A   10epsilonpca  0.000020\n",
       "2    12:112869835:G:A   50epsilonpca  0.000005\n",
       "3    12:112869835:G:A    5epsilonpca  0.000025\n",
       "4    12:112869835:G:A  closest10kpca  0.000000\n",
       "..                ...            ...       ...\n",
       "145    9:65738415:A:G   10epsilonpca  0.000030\n",
       "146    9:65738415:A:G   50epsilonpca  0.000015\n",
       "147    9:65738415:A:G    5epsilonpca  0.000020\n",
       "148    9:65738415:A:G  closest10kpca  0.000000\n",
       "149    9:65738415:A:G        uniform  0.000005\n",
       "\n",
       "[150 rows x 3 columns]"
      ]
     },
     "execution_count": 49,
     "metadata": {},
     "output_type": "execute_result"
    }
   ],
   "source": [
    "frq25_average_pca = frq25_pca.groupby(['snp','scenario'])['freq'].mean().reset_index()\n",
    "frq25_average_pca"
   ]
  },
  {
   "cell_type": "code",
   "execution_count": 50,
   "id": "3b46ad9e-3d20-41bb-9029-eca5b1494fd4",
   "metadata": {},
   "outputs": [
    {
     "data": {
      "text/html": [
       "<div>\n",
       "<style scoped>\n",
       "    .dataframe tbody tr th:only-of-type {\n",
       "        vertical-align: middle;\n",
       "    }\n",
       "\n",
       "    .dataframe tbody tr th {\n",
       "        vertical-align: top;\n",
       "    }\n",
       "\n",
       "    .dataframe thead th {\n",
       "        text-align: right;\n",
       "    }\n",
       "</style>\n",
       "<table border=\"1\" class=\"dataframe\">\n",
       "  <thead>\n",
       "    <tr style=\"text-align: right;\">\n",
       "      <th></th>\n",
       "      <th>snp</th>\n",
       "      <th>scenario</th>\n",
       "      <th>freq</th>\n",
       "    </tr>\n",
       "  </thead>\n",
       "  <tbody>\n",
       "    <tr>\n",
       "      <th>0</th>\n",
       "      <td>12:112869835:G:A</td>\n",
       "      <td>10epsilongeo</td>\n",
       "      <td>0.00001</td>\n",
       "    </tr>\n",
       "    <tr>\n",
       "      <th>1</th>\n",
       "      <td>12:112869835:G:A</td>\n",
       "      <td>50epsilongeo</td>\n",
       "      <td>0.00004</td>\n",
       "    </tr>\n",
       "    <tr>\n",
       "      <th>2</th>\n",
       "      <td>12:112869835:G:A</td>\n",
       "      <td>5epsilongeo</td>\n",
       "      <td>0.00000</td>\n",
       "    </tr>\n",
       "    <tr>\n",
       "      <th>3</th>\n",
       "      <td>12:112869835:G:A</td>\n",
       "      <td>closest10kgeo</td>\n",
       "      <td>0.00000</td>\n",
       "    </tr>\n",
       "    <tr>\n",
       "      <th>4</th>\n",
       "      <td>12:112869835:G:A</td>\n",
       "      <td>uniformgeo</td>\n",
       "      <td>0.00004</td>\n",
       "    </tr>\n",
       "    <tr>\n",
       "      <th>...</th>\n",
       "      <td>...</td>\n",
       "      <td>...</td>\n",
       "      <td>...</td>\n",
       "    </tr>\n",
       "    <tr>\n",
       "      <th>120</th>\n",
       "      <td>9:65738415:A:G</td>\n",
       "      <td>10epsilongeo</td>\n",
       "      <td>0.00003</td>\n",
       "    </tr>\n",
       "    <tr>\n",
       "      <th>121</th>\n",
       "      <td>9:65738415:A:G</td>\n",
       "      <td>50epsilongeo</td>\n",
       "      <td>0.00004</td>\n",
       "    </tr>\n",
       "    <tr>\n",
       "      <th>122</th>\n",
       "      <td>9:65738415:A:G</td>\n",
       "      <td>5epsilongeo</td>\n",
       "      <td>0.00003</td>\n",
       "    </tr>\n",
       "    <tr>\n",
       "      <th>123</th>\n",
       "      <td>9:65738415:A:G</td>\n",
       "      <td>closest10kgeo</td>\n",
       "      <td>0.00000</td>\n",
       "    </tr>\n",
       "    <tr>\n",
       "      <th>124</th>\n",
       "      <td>9:65738415:A:G</td>\n",
       "      <td>uniformgeo</td>\n",
       "      <td>0.00000</td>\n",
       "    </tr>\n",
       "  </tbody>\n",
       "</table>\n",
       "<p>125 rows × 3 columns</p>\n",
       "</div>"
      ],
      "text/plain": [
       "                  snp       scenario     freq\n",
       "0    12:112869835:G:A   10epsilongeo  0.00001\n",
       "1    12:112869835:G:A   50epsilongeo  0.00004\n",
       "2    12:112869835:G:A    5epsilongeo  0.00000\n",
       "3    12:112869835:G:A  closest10kgeo  0.00000\n",
       "4    12:112869835:G:A     uniformgeo  0.00004\n",
       "..                ...            ...      ...\n",
       "120    9:65738415:A:G   10epsilongeo  0.00003\n",
       "121    9:65738415:A:G   50epsilongeo  0.00004\n",
       "122    9:65738415:A:G    5epsilongeo  0.00003\n",
       "123    9:65738415:A:G  closest10kgeo  0.00000\n",
       "124    9:65738415:A:G     uniformgeo  0.00000\n",
       "\n",
       "[125 rows x 3 columns]"
      ]
     },
     "execution_count": 50,
     "metadata": {},
     "output_type": "execute_result"
    }
   ],
   "source": [
    "frq25_average_geo = frq25_geo.groupby(['snp','scenario'])['freq'].mean().reset_index()\n",
    "frq25_average_geo"
   ]
  },
  {
   "cell_type": "code",
   "execution_count": 51,
   "id": "20aac205-f3a7-4a4a-960c-06fd89fdc478",
   "metadata": {},
   "outputs": [
    {
     "data": {
      "image/png": "[encoded data removed]",
      "text/plain": [
       "<Figure size 800x800 with 4 Axes>"
      ]
     },
     "metadata": {},
     "output_type": "display_data"
    }
   ],
   "source": [
    "fig, axs = plt.subplots(2,2,figsize=(8,8))\n",
    "colors = ['#1E90FF','salmon']\n",
    "labs_pca=['Closest 10K',r'Within 5$\\varepsilon$',r'Within 10$\\varepsilon$',r'Within 50$\\varepsilon$',r'Within 100$\\varepsilon$','Uniform']\n",
    "labs_geo = ['Closest 10K',r'Within 50km',r'Within 100km',r'Within 500km','Uniform']#,r'Within 100$\\varepsilon_{PCA}$','Uniform']\n",
    "\n",
    "num_pca = len(private_vars_pca_geq10_leq20)\n",
    "num_geo = len(private_vars_geo_geq10_leq20)\n",
    "\n",
    "axs[1,0].plot(labs_pca[0], means_pca[0]/num_pca, 'o', color=colors[0],markersize=7)\n",
    "axs[1,0].errorbar(labs_pca[1:], [x/num_pca for x in means_pca[1:]], yerr=[y/num_pca for y in stds_pca[1:]], fmt='o', color=colors[0], ecolor='black', capsize=6, markersize=7)\n",
    "axs[1,0].set_xticks(labs_pca)\n",
    "axs[1,0].set_xticklabels(labs_pca, rotation=45, ha='right')\n",
    "axs[1,0].set_ylabel(r'Proportion segregating in sample')\n",
    "axs[1,0].set_title(r'1$\\varepsilon$-private variants',loc='left',fontstyle='italic',fontsize=14)\n",
    "\n",
    "axs[0,0].plot(labs_geo[0], means_geo[0]/num_geo, 'o', color=colors[1],markersize=7)\n",
    "axs[0,0].errorbar(labs_geo[1:], [x/num_geo for x in means_geo[1:]], yerr=[y/num_geo for y in stds_geo[1:]], fmt='o', color=colors[1], ecolor='black', capsize=6, markersize=7)\n",
    "axs[0,0].set_xticks(labs_geo)\n",
    "axs[0,0].set_xticklabels(labs_geo, rotation=45, ha='right')\n",
    "axs[0,0].set_ylabel(r'Proportion segregating in sample')\n",
    "axs[0,0].set_title(r'50km-private variants',loc='left',fontstyle='italic',fontsize=14)\n",
    "\n",
    "axs[1,1].plot(labs_pca[0], frq_means_pca[0], 'o', color=colors[0],markersize=7)\n",
    "axs[1,1].errorbar(labs_pca[1:], frq_means_pca[1:], yerr=frq_stds_pca[1:], fmt='o', color=colors[0], ecolor='black', capsize=6, markersize=7)\n",
    "axs[1,1].set_xticks(labs_pca)\n",
    "axs[1,1].set_xticklabels(labs_pca, rotation=45, ha='right')\n",
    "axs[1,1].set_ylabel(r'Average frequency')\n",
    "axs[1,1].set_title(r'1$\\varepsilon$-private variants',loc='left',fontstyle='italic',fontsize=14)\n",
    "axs[1,1].set_yscale('log')\n",
    "\n",
    "axs[0,1].plot(labs_geo[0], frq_means_geo[0], 'o', color=colors[1],markersize=7)\n",
    "axs[0,1].errorbar(labs_geo[1:], frq_means_geo[1:], yerr=frq_stds_geo[1:], fmt='o', color=colors[1], ecolor='black', capsize=6, markersize=7)\n",
    "axs[0,1].set_xticks(labs_geo)\n",
    "axs[0,1].set_xticklabels(labs_geo, rotation=45, ha='right')\n",
    "axs[0,1].set_ylabel(r'Average frequency')\n",
    "axs[0,1].set_title(r'50km-private variants',loc='left',fontstyle='italic',fontsize=14)\n",
    "axs[0,1].set_yscale('log')\n",
    "\n",
    "\n",
    "# cmap = plt.get_cmap('hsv')  # You can choose another colormap if needed\n",
    "# colors = [cmap(i) for i in np.linspace(0, 1, len(frq25_average_pca['snp'].unique()))]\n",
    "# color_map = dict(zip(frq25_pca_seed['snp'].unique(), colors))\n",
    "# frq25_pca_seed['scenario'] = pd.Categorical(frq25_pca_seed['scenario'], categories=sc_pca, ordered=True)\n",
    "# frq25_pca_seed = frq25_pca_seed.sort_values('scenario')\n",
    "# for snp, color in color_map.items():\n",
    "#     subset = frq25_pca_seed[frq25_pca_seed['snp'] == snp]\n",
    "#     axs[0, 2].plot(subset['scenario'], subset['freq'], label=f'SNP {snp}', color=color,alpha=0.5,marker='o',linestyle='-')\n",
    "# axs[0,2].set_xticklabels(labs_pca, rotation=45, ha='right')\n",
    "# # axs[0,2].set_yscale('symlog')\n",
    "\n",
    "# cmap = plt.get_cmap('hsv')  # You can choose another colormap if needed\n",
    "# colors = [cmap(i) for i in np.linspace(0, 1, len(frq25_geo_seed['snp'].unique()))]\n",
    "# color_map = dict(zip(frq25_average_geo['snp'].unique(), colors))\n",
    "# frq25_geo_seed['scenario'] = pd.Categorical(frq25_geo_seed['scenario'], categories=sc_geo, ordered=True)\n",
    "# frq25_geo_seed = frq25_geo_seed.sort_values('scenario')\n",
    "# for snp, color in color_map.items():\n",
    "#     subset = frq25_geo_seed[frq25_geo_seed['snp'] == snp]\n",
    "#     axs[1, 2].plot(subset['scenario'], subset['freq'], label=f'SNP {snp}', color=color,alpha=0.5,marker='o',linestyle='-')\n",
    "# axs[1,2].set_xticklabels(labs_geo, rotation=45, ha='right')\n",
    "# # axs[1,2].set_yscale('symlog')\n",
    "# # axs[0,2].plot(frq25_average_pca['scenario'],frq25_average_pca['freq'],c=frq25_average_pca['snp'])\n",
    "# # axs[0,2].legend()\n",
    "\n",
    "plt.tight_layout()\n",
    "plt.savefig('priv_vars.pdf')\n",
    "plt.show()"
   ]
  },
  {
   "cell_type": "code",
   "execution_count": 52,
   "id": "f4aba939-33d5-4691-bb41-e5f1c9c15a1b",
   "metadata": {},
   "outputs": [],
   "source": [
    "rand100 = pd.read_csv('../empirical/subsampling_vF/random_100_snps_freq_MAC_10_20.csv')"
   ]
  },
  {
   "cell_type": "code",
   "execution_count": 53,
   "id": "67bb6892-e268-4c13-948d-bd7937aecde7",
   "metadata": {},
   "outputs": [
    {
     "data": {
      "text/html": [
       "<div>\n",
       "<style scoped>\n",
       "    .dataframe tbody tr th:only-of-type {\n",
       "        vertical-align: middle;\n",
       "    }\n",
       "\n",
       "    .dataframe tbody tr th {\n",
       "        vertical-align: top;\n",
       "    }\n",
       "\n",
       "    .dataframe thead th {\n",
       "        text-align: right;\n",
       "    }\n",
       "</style>\n",
       "<table border=\"1\" class=\"dataframe\">\n",
       "  <thead>\n",
       "    <tr style=\"text-align: right;\">\n",
       "      <th></th>\n",
       "      <th>snp</th>\n",
       "      <th>scenario</th>\n",
       "      <th>seed</th>\n",
       "      <th>freq</th>\n",
       "    </tr>\n",
       "  </thead>\n",
       "  <tbody>\n",
       "    <tr>\n",
       "      <th>500</th>\n",
       "      <td>4:142029201:G:C</td>\n",
       "      <td>uniform</td>\n",
       "      <td>6</td>\n",
       "      <td>0.00000</td>\n",
       "    </tr>\n",
       "    <tr>\n",
       "      <th>501</th>\n",
       "      <td>6:32976837:C:T</td>\n",
       "      <td>uniform</td>\n",
       "      <td>6</td>\n",
       "      <td>0.00000</td>\n",
       "    </tr>\n",
       "    <tr>\n",
       "      <th>502</th>\n",
       "      <td>12:64222257:G:A</td>\n",
       "      <td>uniform</td>\n",
       "      <td>6</td>\n",
       "      <td>0.00000</td>\n",
       "    </tr>\n",
       "    <tr>\n",
       "      <th>503</th>\n",
       "      <td>6:46825518:T:C</td>\n",
       "      <td>uniform</td>\n",
       "      <td>6</td>\n",
       "      <td>0.00000</td>\n",
       "    </tr>\n",
       "    <tr>\n",
       "      <th>504</th>\n",
       "      <td>4:47626401:T:C</td>\n",
       "      <td>uniform</td>\n",
       "      <td>6</td>\n",
       "      <td>0.00000</td>\n",
       "    </tr>\n",
       "    <tr>\n",
       "      <th>...</th>\n",
       "      <td>...</td>\n",
       "      <td>...</td>\n",
       "      <td>...</td>\n",
       "      <td>...</td>\n",
       "    </tr>\n",
       "    <tr>\n",
       "      <th>10595</th>\n",
       "      <td>13:38846499:T:C</td>\n",
       "      <td>uniformgeo</td>\n",
       "      <td>6</td>\n",
       "      <td>0.00000</td>\n",
       "    </tr>\n",
       "    <tr>\n",
       "      <th>10596</th>\n",
       "      <td>15:59618542:C:T</td>\n",
       "      <td>uniformgeo</td>\n",
       "      <td>6</td>\n",
       "      <td>0.00000</td>\n",
       "    </tr>\n",
       "    <tr>\n",
       "      <th>10597</th>\n",
       "      <td>8:17558477:G:A</td>\n",
       "      <td>uniformgeo</td>\n",
       "      <td>6</td>\n",
       "      <td>0.00000</td>\n",
       "    </tr>\n",
       "    <tr>\n",
       "      <th>10598</th>\n",
       "      <td>11:534254:C:T</td>\n",
       "      <td>uniformgeo</td>\n",
       "      <td>6</td>\n",
       "      <td>0.00005</td>\n",
       "    </tr>\n",
       "    <tr>\n",
       "      <th>10599</th>\n",
       "      <td>6:143190177:G:A</td>\n",
       "      <td>uniformgeo</td>\n",
       "      <td>6</td>\n",
       "      <td>0.00000</td>\n",
       "    </tr>\n",
       "  </tbody>\n",
       "</table>\n",
       "<p>1100 rows × 4 columns</p>\n",
       "</div>"
      ],
      "text/plain": [
       "                   snp    scenario  seed     freq\n",
       "500    4:142029201:G:C     uniform     6  0.00000\n",
       "501     6:32976837:C:T     uniform     6  0.00000\n",
       "502    12:64222257:G:A     uniform     6  0.00000\n",
       "503     6:46825518:T:C     uniform     6  0.00000\n",
       "504     4:47626401:T:C     uniform     6  0.00000\n",
       "...                ...         ...   ...      ...\n",
       "10595  13:38846499:T:C  uniformgeo     6  0.00000\n",
       "10596  15:59618542:C:T  uniformgeo     6  0.00000\n",
       "10597   8:17558477:G:A  uniformgeo     6  0.00000\n",
       "10598    11:534254:C:T  uniformgeo     6  0.00005\n",
       "10599  6:143190177:G:A  uniformgeo     6  0.00000\n",
       "\n",
       "[1100 rows x 4 columns]"
      ]
     },
     "execution_count": 53,
     "metadata": {},
     "output_type": "execute_result"
    }
   ],
   "source": [
    "seed = 6\n",
    "rand100_seed = rand100[rand100['seed']==seed]\n",
    "rand100_seed"
   ]
  },
  {
   "cell_type": "code",
   "execution_count": 54,
   "id": "f210adbc-315e-4513-8b5a-d82c79161e9b",
   "metadata": {},
   "outputs": [
    {
     "data": {
      "text/html": [
       "<div>\n",
       "<style scoped>\n",
       "    .dataframe tbody tr th:only-of-type {\n",
       "        vertical-align: middle;\n",
       "    }\n",
       "\n",
       "    .dataframe tbody tr th {\n",
       "        vertical-align: top;\n",
       "    }\n",
       "\n",
       "    .dataframe thead th {\n",
       "        text-align: right;\n",
       "    }\n",
       "</style>\n",
       "<table border=\"1\" class=\"dataframe\">\n",
       "  <thead>\n",
       "    <tr style=\"text-align: right;\">\n",
       "      <th></th>\n",
       "      <th>snp</th>\n",
       "      <th>scenario</th>\n",
       "      <th>seed</th>\n",
       "      <th>freq</th>\n",
       "    </tr>\n",
       "  </thead>\n",
       "  <tbody>\n",
       "    <tr>\n",
       "      <th>500</th>\n",
       "      <td>4:142029201:G:C</td>\n",
       "      <td>uniform</td>\n",
       "      <td>6</td>\n",
       "      <td>0.00000</td>\n",
       "    </tr>\n",
       "    <tr>\n",
       "      <th>501</th>\n",
       "      <td>6:32976837:C:T</td>\n",
       "      <td>uniform</td>\n",
       "      <td>6</td>\n",
       "      <td>0.00000</td>\n",
       "    </tr>\n",
       "    <tr>\n",
       "      <th>502</th>\n",
       "      <td>12:64222257:G:A</td>\n",
       "      <td>uniform</td>\n",
       "      <td>6</td>\n",
       "      <td>0.00000</td>\n",
       "    </tr>\n",
       "    <tr>\n",
       "      <th>503</th>\n",
       "      <td>6:46825518:T:C</td>\n",
       "      <td>uniform</td>\n",
       "      <td>6</td>\n",
       "      <td>0.00000</td>\n",
       "    </tr>\n",
       "    <tr>\n",
       "      <th>504</th>\n",
       "      <td>4:47626401:T:C</td>\n",
       "      <td>uniform</td>\n",
       "      <td>6</td>\n",
       "      <td>0.00000</td>\n",
       "    </tr>\n",
       "    <tr>\n",
       "      <th>...</th>\n",
       "      <td>...</td>\n",
       "      <td>...</td>\n",
       "      <td>...</td>\n",
       "      <td>...</td>\n",
       "    </tr>\n",
       "    <tr>\n",
       "      <th>5595</th>\n",
       "      <td>13:38846499:T:C</td>\n",
       "      <td>closest10kpca</td>\n",
       "      <td>6</td>\n",
       "      <td>0.00010</td>\n",
       "    </tr>\n",
       "    <tr>\n",
       "      <th>5596</th>\n",
       "      <td>15:59618542:C:T</td>\n",
       "      <td>closest10kpca</td>\n",
       "      <td>6</td>\n",
       "      <td>0.00010</td>\n",
       "    </tr>\n",
       "    <tr>\n",
       "      <th>5597</th>\n",
       "      <td>8:17558477:G:A</td>\n",
       "      <td>closest10kpca</td>\n",
       "      <td>6</td>\n",
       "      <td>0.00000</td>\n",
       "    </tr>\n",
       "    <tr>\n",
       "      <th>5598</th>\n",
       "      <td>11:534254:C:T</td>\n",
       "      <td>closest10kpca</td>\n",
       "      <td>6</td>\n",
       "      <td>0.00005</td>\n",
       "    </tr>\n",
       "    <tr>\n",
       "      <th>5599</th>\n",
       "      <td>6:143190177:G:A</td>\n",
       "      <td>closest10kpca</td>\n",
       "      <td>6</td>\n",
       "      <td>0.00000</td>\n",
       "    </tr>\n",
       "  </tbody>\n",
       "</table>\n",
       "<p>600 rows × 4 columns</p>\n",
       "</div>"
      ],
      "text/plain": [
       "                  snp       scenario  seed     freq\n",
       "500   4:142029201:G:C        uniform     6  0.00000\n",
       "501    6:32976837:C:T        uniform     6  0.00000\n",
       "502   12:64222257:G:A        uniform     6  0.00000\n",
       "503    6:46825518:T:C        uniform     6  0.00000\n",
       "504    4:47626401:T:C        uniform     6  0.00000\n",
       "...               ...            ...   ...      ...\n",
       "5595  13:38846499:T:C  closest10kpca     6  0.00010\n",
       "5596  15:59618542:C:T  closest10kpca     6  0.00010\n",
       "5597   8:17558477:G:A  closest10kpca     6  0.00000\n",
       "5598    11:534254:C:T  closest10kpca     6  0.00005\n",
       "5599  6:143190177:G:A  closest10kpca     6  0.00000\n",
       "\n",
       "[600 rows x 4 columns]"
      ]
     },
     "execution_count": 54,
     "metadata": {},
     "output_type": "execute_result"
    }
   ],
   "source": [
    "rand100_seed_pca = rand100_seed[rand100_seed['scenario'].isin(sc_pca)]\n",
    "rand100_seed_pca"
   ]
  },
  {
   "cell_type": "code",
   "execution_count": 55,
   "id": "302004cb-2cef-4cae-b0c1-99a4b73c2a02",
   "metadata": {},
   "outputs": [
    {
     "data": {
      "text/plain": [
       "['closest10kpca',\n",
       " '5epsilonpca',\n",
       " '10epsilonpca',\n",
       " '50epsilonpca',\n",
       " '100epsilonpca',\n",
       " 'uniform']"
      ]
     },
     "execution_count": 55,
     "metadata": {},
     "output_type": "execute_result"
    }
   ],
   "source": [
    "sc_pca"
   ]
  },
  {
   "cell_type": "code",
   "execution_count": 56,
   "id": "76915098-a842-4f7a-ad24-497eb24bf5a4",
   "metadata": {},
   "outputs": [
    {
     "name": "stderr",
     "output_type": "stream",
     "text": [
      "/var/folders/r0/wf2xsjdx3h366x3_hj3b7xdc0000gp/T/ipykernel_3452/3275117905.py:2: SettingWithCopyWarning: \n",
      "A value is trying to be set on a copy of a slice from a DataFrame.\n",
      "Try using .loc[row_indexer,col_indexer] = value instead\n",
      "\n",
      "See the caveats in the documentation: https://pandas.pydata.org/pandas-docs/stable/user_guide/indexing.html#returning-a-view-versus-a-copy\n",
      "  rand100_seed_pca['scenario'] = pd.Categorical(rand100_seed_pca['scenario'], categories=sc_pca, ordered=True)\n"
     ]
    },
    {
     "data": {
      "text/plain": [
       "5599    closest10kpca\n",
       "5526    closest10kpca\n",
       "5527    closest10kpca\n",
       "5528    closest10kpca\n",
       "5529    closest10kpca\n",
       "            ...      \n",
       "571           uniform\n",
       "572           uniform\n",
       "574           uniform\n",
       "563           uniform\n",
       "500           uniform\n",
       "Name: scenario, Length: 600, dtype: category\n",
       "Categories (6, object): ['closest10kpca' < '5epsilonpca' < '10epsilonpca' < '50epsilonpca' < '100epsilonpca' < 'uniform']"
      ]
     },
     "execution_count": 56,
     "metadata": {},
     "output_type": "execute_result"
    }
   ],
   "source": [
    "# rand100_seed_pca.loc[:, 'scenario'] = pd.Categorical(rand100_seed_pca['scenario'], categories=sc_pca, ordered=True)\n",
    "rand100_seed_pca['scenario'] = pd.Categorical(rand100_seed_pca['scenario'], categories=sc_pca, ordered=True)\n",
    "rand100_seed_pca = rand100_seed_pca.sort_values('scenario')\n",
    "rand100_seed_pca['scenario']"
   ]
  },
  {
   "cell_type": "code",
   "execution_count": 57,
   "id": "1b197436-d909-42c9-8f14-ee38cc75f6f1",
   "metadata": {},
   "outputs": [
    {
     "data": {
      "text/html": [
       "<div>\n",
       "<style scoped>\n",
       "    .dataframe tbody tr th:only-of-type {\n",
       "        vertical-align: middle;\n",
       "    }\n",
       "\n",
       "    .dataframe tbody tr th {\n",
       "        vertical-align: top;\n",
       "    }\n",
       "\n",
       "    .dataframe thead th {\n",
       "        text-align: right;\n",
       "    }\n",
       "</style>\n",
       "<table border=\"1\" class=\"dataframe\">\n",
       "  <thead>\n",
       "    <tr style=\"text-align: right;\">\n",
       "      <th></th>\n",
       "      <th>snp</th>\n",
       "      <th>scenario</th>\n",
       "      <th>seed</th>\n",
       "      <th>freq</th>\n",
       "    </tr>\n",
       "  </thead>\n",
       "  <tbody>\n",
       "    <tr>\n",
       "      <th>5528</th>\n",
       "      <td>2:227298780:A:G</td>\n",
       "      <td>closest10kpca</td>\n",
       "      <td>6</td>\n",
       "      <td>0.00005</td>\n",
       "    </tr>\n",
       "    <tr>\n",
       "      <th>5533</th>\n",
       "      <td>9:123367670:C:A</td>\n",
       "      <td>closest10kpca</td>\n",
       "      <td>6</td>\n",
       "      <td>0.00005</td>\n",
       "    </tr>\n",
       "    <tr>\n",
       "      <th>5534</th>\n",
       "      <td>12:110376022:C:T</td>\n",
       "      <td>closest10kpca</td>\n",
       "      <td>6</td>\n",
       "      <td>0.00005</td>\n",
       "    </tr>\n",
       "    <tr>\n",
       "      <th>5536</th>\n",
       "      <td>3:123146067:G:A</td>\n",
       "      <td>closest10kpca</td>\n",
       "      <td>6</td>\n",
       "      <td>0.00005</td>\n",
       "    </tr>\n",
       "    <tr>\n",
       "      <th>5537</th>\n",
       "      <td>8:3142473:G:A</td>\n",
       "      <td>closest10kpca</td>\n",
       "      <td>6</td>\n",
       "      <td>0.00010</td>\n",
       "    </tr>\n",
       "    <tr>\n",
       "      <th>...</th>\n",
       "      <td>...</td>\n",
       "      <td>...</td>\n",
       "      <td>...</td>\n",
       "      <td>...</td>\n",
       "    </tr>\n",
       "    <tr>\n",
       "      <th>554</th>\n",
       "      <td>3:108757123:C:T</td>\n",
       "      <td>uniform</td>\n",
       "      <td>6</td>\n",
       "      <td>0.00000</td>\n",
       "    </tr>\n",
       "    <tr>\n",
       "      <th>557</th>\n",
       "      <td>2:84624679:T:A</td>\n",
       "      <td>uniform</td>\n",
       "      <td>6</td>\n",
       "      <td>0.00005</td>\n",
       "    </tr>\n",
       "    <tr>\n",
       "      <th>565</th>\n",
       "      <td>5:151534696:C:A</td>\n",
       "      <td>uniform</td>\n",
       "      <td>6</td>\n",
       "      <td>0.00005</td>\n",
       "    </tr>\n",
       "    <tr>\n",
       "      <th>569</th>\n",
       "      <td>2:218892916:TCCGG:T</td>\n",
       "      <td>uniform</td>\n",
       "      <td>6</td>\n",
       "      <td>0.00005</td>\n",
       "    </tr>\n",
       "    <tr>\n",
       "      <th>570</th>\n",
       "      <td>1:21880813:A:C</td>\n",
       "      <td>uniform</td>\n",
       "      <td>6</td>\n",
       "      <td>0.00005</td>\n",
       "    </tr>\n",
       "  </tbody>\n",
       "</table>\n",
       "<p>180 rows × 4 columns</p>\n",
       "</div>"
      ],
      "text/plain": [
       "                      snp       scenario  seed     freq\n",
       "5528      2:227298780:A:G  closest10kpca     6  0.00005\n",
       "5533      9:123367670:C:A  closest10kpca     6  0.00005\n",
       "5534     12:110376022:C:T  closest10kpca     6  0.00005\n",
       "5536      3:123146067:G:A  closest10kpca     6  0.00005\n",
       "5537        8:3142473:G:A  closest10kpca     6  0.00010\n",
       "...                   ...            ...   ...      ...\n",
       "554       3:108757123:C:T        uniform     6  0.00000\n",
       "557        2:84624679:T:A        uniform     6  0.00005\n",
       "565       5:151534696:C:A        uniform     6  0.00005\n",
       "569   2:218892916:TCCGG:T        uniform     6  0.00005\n",
       "570        1:21880813:A:C        uniform     6  0.00005\n",
       "\n",
       "[180 rows x 4 columns]"
      ]
     },
     "execution_count": 57,
     "metadata": {},
     "output_type": "execute_result"
    }
   ],
   "source": [
    "valid_snps = rand100_seed_pca[(rand100_seed_pca['scenario'] == 'closest10kpca') & (rand100_seed_pca['freq'] > 0)]['snp']\n",
    "filtered_df = rand100_seed_pca[rand100_seed_pca['snp'].isin(valid_snps)]\n",
    "sampled_snps = filtered_df['snp'].drop_duplicates().sample(n=30, random_state=42)\n",
    "sampled_df = filtered_df[filtered_df['snp'].isin(sampled_snps)]\n",
    "sampled_df"
   ]
  },
  {
   "cell_type": "code",
   "execution_count": 58,
   "id": "8bded1de-3ae6-4ed9-a1ba-b44a8fc424e6",
   "metadata": {},
   "outputs": [
    {
     "data": {
      "text/plain": [
       "30"
      ]
     },
     "execution_count": 58,
     "metadata": {},
     "output_type": "execute_result"
    }
   ],
   "source": [
    "len(sampled_df['snp'].unique())"
   ]
  },
  {
   "cell_type": "code",
   "execution_count": 60,
   "id": "6f08d9a0-3398-46b2-bd53-bfae68e6c55e",
   "metadata": {},
   "outputs": [
    {
     "name": "stderr",
     "output_type": "stream",
     "text": [
      "/var/folders/r0/wf2xsjdx3h366x3_hj3b7xdc0000gp/T/ipykernel_3452/4161869348.py:4: SettingWithCopyWarning: \n",
      "A value is trying to be set on a copy of a slice from a DataFrame.\n",
      "Try using .loc[row_indexer,col_indexer] = value instead\n",
      "\n",
      "See the caveats in the documentation: https://pandas.pydata.org/pandas-docs/stable/user_guide/indexing.html#returning-a-view-versus-a-copy\n",
      "  sampled_df['scenario_numeric'] = sampled_df['scenario'].map(scenario_map)\n"
     ]
    },
    {
     "data": {
      "image/png": "[encoded data removed]",
      "text/plain": [
       "<Figure size 640x480 with 1 Axes>"
      ]
     },
     "metadata": {},
     "output_type": "display_data"
    }
   ],
   "source": [
    "from statsmodels.nonparametric.smoothers_lowess import lowess\n",
    "# Map scenarios to numeric values\n",
    "scenario_map = {scenario: i for i, scenario in enumerate(sampled_df['scenario'].unique())}\n",
    "sampled_df['scenario_numeric'] = sampled_df['scenario'].map(scenario_map)\n",
    "\n",
    "# Plot individual SNPs\n",
    "for snp in sampled_df['snp'].unique():\n",
    "    subset = sampled_df[sampled_df['snp'] == snp]\n",
    "    plt.plot(subset['scenario_numeric'], subset['freq'], color='steelblue', alpha=0.1,marker='o')\n",
    "\n",
    "# Apply LOESS smoothing\n",
    "smoothed = lowess(sampled_df['freq'], sampled_df['scenario_numeric'], frac=0.3)\n",
    "plt.plot(smoothed[:, 0], smoothed[:, 1], color='darkorange', linewidth=2, label='LOESS Trend')\n",
    "\n",
    "# Adjust x-axis ticks and labels\n",
    "plt.xticks(ticks=np.arange(len(scenario_map)), labels=sampled_df['scenario'].unique(), rotation=45)\n",
    "plt.ylabel('Frequency')\n",
    "plt.title('SNP Frequencies with LOESS Trend')\n",
    "# plt.legend()\n",
    "plt.show()"
   ]
  },
  {
   "cell_type": "code",
   "execution_count": 61,
   "id": "3d3293e0-6e89-447d-8a58-b087d7c02c29",
   "metadata": {},
   "outputs": [
    {
     "name": "stderr",
     "output_type": "stream",
     "text": [
      "/var/folders/r0/wf2xsjdx3h366x3_hj3b7xdc0000gp/T/ipykernel_3452/1458716075.py:3: SettingWithCopyWarning: \n",
      "A value is trying to be set on a copy of a slice from a DataFrame.\n",
      "Try using .loc[row_indexer,col_indexer] = value instead\n",
      "\n",
      "See the caveats in the documentation: https://pandas.pydata.org/pandas-docs/stable/user_guide/indexing.html#returning-a-view-versus-a-copy\n",
      "  rand100_seed_geo['scenario'] = pd.Categorical(rand100_seed_geo['scenario'], categories=sc_geo, ordered=True)\n",
      "/var/folders/r0/wf2xsjdx3h366x3_hj3b7xdc0000gp/T/ipykernel_3452/1458716075.py:13: SettingWithCopyWarning: \n",
      "A value is trying to be set on a copy of a slice from a DataFrame.\n",
      "Try using .loc[row_indexer,col_indexer] = value instead\n",
      "\n",
      "See the caveats in the documentation: https://pandas.pydata.org/pandas-docs/stable/user_guide/indexing.html#returning-a-view-versus-a-copy\n",
      "  sampled_df_geo['scenario_numeric'] = sampled_df_geo['scenario'].map(scenario_map_geo)\n"
     ]
    }
   ],
   "source": [
    "rand100_seed_geo = rand100_seed[rand100_seed['scenario'].isin(sc_geo)]\n",
    "# rand100_seed_pca.loc[:, 'scenario'] = pd.Categorical(rand100_seed_pca['scenario'], categories=sc_pca, ordered=True)\n",
    "rand100_seed_geo['scenario'] = pd.Categorical(rand100_seed_geo['scenario'], categories=sc_geo, ordered=True)\n",
    "rand100_seed_geo = rand100_seed_geo.sort_values('scenario')\n",
    "\n",
    "valid_snps = rand100_seed_geo[(rand100_seed_geo['scenario'] == 'closest10kgeo') & (rand100_seed_geo['freq'] > 0)]['snp']\n",
    "filtered_df = rand100_seed_geo[rand100_seed_geo['snp'].isin(valid_snps)]\n",
    "sampled_snps = filtered_df['snp'].drop_duplicates().sample(n=30, random_state=42)\n",
    "sampled_df_geo = filtered_df[filtered_df['snp'].isin(sampled_snps)]\n",
    "sampled_df_geo\n",
    "\n",
    "scenario_map_geo = {scenario: i for i, scenario in enumerate(sampled_df_geo['scenario'].unique())}\n",
    "sampled_df_geo['scenario_numeric'] = sampled_df_geo['scenario'].map(scenario_map_geo)"
   ]
  },
  {
   "cell_type": "code",
   "execution_count": 62,
   "id": "495254ba-4ff4-4ec7-a3d8-7dc0273ce1aa",
   "metadata": {},
   "outputs": [
    {
     "data": {
      "text/html": [
       "<div>\n",
       "<style scoped>\n",
       "    .dataframe tbody tr th:only-of-type {\n",
       "        vertical-align: middle;\n",
       "    }\n",
       "\n",
       "    .dataframe tbody tr th {\n",
       "        vertical-align: top;\n",
       "    }\n",
       "\n",
       "    .dataframe thead th {\n",
       "        text-align: right;\n",
       "    }\n",
       "</style>\n",
       "<table border=\"1\" class=\"dataframe\">\n",
       "  <thead>\n",
       "    <tr style=\"text-align: right;\">\n",
       "      <th></th>\n",
       "      <th>snp</th>\n",
       "      <th>scenario</th>\n",
       "      <th>seed</th>\n",
       "      <th>freq</th>\n",
       "      <th>scenario_numeric</th>\n",
       "    </tr>\n",
       "  </thead>\n",
       "  <tbody>\n",
       "    <tr>\n",
       "      <th>9573</th>\n",
       "      <td>9:19528041:A:C</td>\n",
       "      <td>closest10kgeo</td>\n",
       "      <td>6</td>\n",
       "      <td>0.00005</td>\n",
       "      <td>0</td>\n",
       "    </tr>\n",
       "    <tr>\n",
       "      <th>9572</th>\n",
       "      <td>16:2974513:C:T</td>\n",
       "      <td>closest10kgeo</td>\n",
       "      <td>6</td>\n",
       "      <td>0.00015</td>\n",
       "      <td>0</td>\n",
       "    </tr>\n",
       "    <tr>\n",
       "      <th>9567</th>\n",
       "      <td>15:40828547:G:A</td>\n",
       "      <td>closest10kgeo</td>\n",
       "      <td>6</td>\n",
       "      <td>0.00020</td>\n",
       "      <td>0</td>\n",
       "    </tr>\n",
       "    <tr>\n",
       "      <th>9564</th>\n",
       "      <td>11:62775794:G:A</td>\n",
       "      <td>closest10kgeo</td>\n",
       "      <td>6</td>\n",
       "      <td>0.00005</td>\n",
       "      <td>0</td>\n",
       "    </tr>\n",
       "    <tr>\n",
       "      <th>9563</th>\n",
       "      <td>9:136012034:CG:C</td>\n",
       "      <td>closest10kgeo</td>\n",
       "      <td>6</td>\n",
       "      <td>0.00005</td>\n",
       "      <td>0</td>\n",
       "    </tr>\n",
       "    <tr>\n",
       "      <th>...</th>\n",
       "      <td>...</td>\n",
       "      <td>...</td>\n",
       "      <td>...</td>\n",
       "      <td>...</td>\n",
       "      <td>...</td>\n",
       "    </tr>\n",
       "    <tr>\n",
       "      <th>10548</th>\n",
       "      <td>7:53036527:G:C</td>\n",
       "      <td>uniformgeo</td>\n",
       "      <td>6</td>\n",
       "      <td>0.00000</td>\n",
       "      <td>4</td>\n",
       "    </tr>\n",
       "    <tr>\n",
       "      <th>10533</th>\n",
       "      <td>9:123367670:C:A</td>\n",
       "      <td>uniformgeo</td>\n",
       "      <td>6</td>\n",
       "      <td>0.00005</td>\n",
       "      <td>4</td>\n",
       "    </tr>\n",
       "    <tr>\n",
       "      <th>10529</th>\n",
       "      <td>2:27523350:G:C</td>\n",
       "      <td>uniformgeo</td>\n",
       "      <td>6</td>\n",
       "      <td>0.00000</td>\n",
       "      <td>4</td>\n",
       "    </tr>\n",
       "    <tr>\n",
       "      <th>10528</th>\n",
       "      <td>2:227298780:A:G</td>\n",
       "      <td>uniformgeo</td>\n",
       "      <td>6</td>\n",
       "      <td>0.00000</td>\n",
       "      <td>4</td>\n",
       "    </tr>\n",
       "    <tr>\n",
       "      <th>10599</th>\n",
       "      <td>6:143190177:G:A</td>\n",
       "      <td>uniformgeo</td>\n",
       "      <td>6</td>\n",
       "      <td>0.00000</td>\n",
       "      <td>4</td>\n",
       "    </tr>\n",
       "  </tbody>\n",
       "</table>\n",
       "<p>150 rows × 5 columns</p>\n",
       "</div>"
      ],
      "text/plain": [
       "                    snp       scenario  seed     freq scenario_numeric\n",
       "9573     9:19528041:A:C  closest10kgeo     6  0.00005                0\n",
       "9572     16:2974513:C:T  closest10kgeo     6  0.00015                0\n",
       "9567    15:40828547:G:A  closest10kgeo     6  0.00020                0\n",
       "9564    11:62775794:G:A  closest10kgeo     6  0.00005                0\n",
       "9563   9:136012034:CG:C  closest10kgeo     6  0.00005                0\n",
       "...                 ...            ...   ...      ...              ...\n",
       "10548    7:53036527:G:C     uniformgeo     6  0.00000                4\n",
       "10533   9:123367670:C:A     uniformgeo     6  0.00005                4\n",
       "10529    2:27523350:G:C     uniformgeo     6  0.00000                4\n",
       "10528   2:227298780:A:G     uniformgeo     6  0.00000                4\n",
       "10599   6:143190177:G:A     uniformgeo     6  0.00000                4\n",
       "\n",
       "[150 rows x 5 columns]"
      ]
     },
     "execution_count": 62,
     "metadata": {},
     "output_type": "execute_result"
    }
   ],
   "source": [
    "sampled_df_geo"
   ]
  },
  {
   "cell_type": "code",
   "execution_count": 83,
   "id": "463813d2-ef3e-4f9d-8008-bea23b030e70",
   "metadata": {},
   "outputs": [
    {
     "data": {
      "image/png": "[encoded data removed]",
      "text/plain": [
       "<Figure size 1200x800 with 6 Axes>"
      ]
     },
     "metadata": {},
     "output_type": "display_data"
    }
   ],
   "source": [
    "fig, axs = plt.subplots(2,3,figsize=(12,8))\n",
    "colors = ['#1E90FF','salmon']\n",
    "labs_pca=['Closest 10K',r'Within 5$\\varepsilon$',r'Within 10$\\varepsilon$',r'Within 50$\\varepsilon$',r'Within 100$\\varepsilon$','Uniform']\n",
    "labs_geo = ['Closest 10K',r'Within 50km',r'Within 100km',r'Within 500km','Uniform']#,r'Within 100$\\varepsilon_{PCA}$','Uniform']\n",
    "\n",
    "num_pca = len(private_vars_pca_geq10_leq20)\n",
    "num_geo = len(private_vars_geo_geq10_leq20)\n",
    "\n",
    "axs[1,0].plot(labs_pca[0], means_pca[0]/num_pca, 'o', color=colors[0],markersize=7)\n",
    "axs[1,0].errorbar(labs_pca[1:], [x/num_pca for x in means_pca[1:]], yerr=[y/num_pca for y in stds_pca[1:]], fmt='o', color=colors[0], ecolor='black', capsize=6, markersize=7)\n",
    "axs[1,0].set_xticks(labs_pca)\n",
    "axs[1,0].set_xticklabels(labs_pca, rotation=45, ha='right')\n",
    "axs[1,0].set_ylabel(r'Proportion segregating in sample')\n",
    "axs[1,0].set_title(r'1$\\varepsilon$-private variants',loc='left',fontsize=14)\n",
    "\n",
    "axs[0,0].plot(labs_geo[0], means_geo[0]/num_geo, 'o', color=colors[1],markersize=7)\n",
    "axs[0,0].errorbar(labs_geo[1:], [x/num_geo for x in means_geo[1:]], yerr=[y/num_geo for y in stds_geo[1:]], fmt='o', color=colors[1], ecolor='black', capsize=6, markersize=7)\n",
    "axs[0,0].set_xticks(labs_geo)\n",
    "axs[0,0].set_xticklabels(labs_geo, rotation=45, ha='right')\n",
    "axs[0,0].set_ylabel(r'Proportion segregating in sample')\n",
    "axs[0,0].set_title(r'50km-private variants',loc='left',fontsize=14)\n",
    "\n",
    "axs[1,1].plot(labs_pca[0], frq_means_pca[0], 'o', color=colors[0],markersize=7)\n",
    "axs[1,1].errorbar(labs_pca[1:], frq_means_pca[1:], yerr=frq_stds_pca[1:], fmt='o', color=colors[0], ecolor='black', capsize=6, markersize=7)\n",
    "axs[1,1].set_xticks(labs_pca)\n",
    "axs[1,1].set_xticklabels(labs_pca, rotation=45, ha='right')\n",
    "axs[1,1].set_ylabel(r'Average frequency')\n",
    "axs[1,1].set_title(r'1$\\varepsilon$-private variants',loc='left',fontsize=14)\n",
    "axs[1,1].set_yscale('log')\n",
    "\n",
    "axs[0,1].plot(labs_geo[0], frq_means_geo[0], 'o', color=colors[1],markersize=7)\n",
    "axs[0,1].errorbar(labs_geo[1:], frq_means_geo[1:], yerr=frq_stds_geo[1:], fmt='o', color=colors[1], ecolor='black', capsize=6, markersize=7)\n",
    "axs[0,1].set_xticks(labs_geo)\n",
    "axs[0,1].set_xticklabels(labs_geo, rotation=45, ha='right')\n",
    "axs[0,1].set_ylabel(r'Average frequency')\n",
    "axs[0,1].set_title(r'50km-private variants',loc='left',fontsize=14)\n",
    "axs[0,1].set_yscale('log')\n",
    "\n",
    "for snp in sampled_df['snp'].unique():\n",
    "    subset = sampled_df[sampled_df['snp'] == snp]\n",
    "    axs[1,2].plot(subset['scenario_numeric'], subset['freq'], color=colors[0], alpha=0.1,marker='o')\n",
    "\n",
    "# Apply LOESS smoothing\n",
    "smoothed = lowess(sampled_df['freq'], sampled_df['scenario_numeric'], frac=0.3)\n",
    "axs[1,2].plot(smoothed[:, 0], smoothed[:, 1], color='black', linewidth=2,linestyle='--', label='LOESS')\n",
    "\n",
    "# Adjust x-axis ticks and labels\n",
    "axs[1,2].set_xticks(ticks=np.arange(len(scenario_map)), labels=labs_pca, rotation=45)\n",
    "axs[1,2].set_ylabel('Frequency')\n",
    "\n",
    "for snp in sampled_df_geo['snp'].unique():\n",
    "    subset = sampled_df_geo[sampled_df_geo['snp'] == snp]\n",
    "    axs[0,2].plot(subset['scenario_numeric'], subset['freq'], color=colors[1], alpha=0.1,marker='o')\n",
    "\n",
    "# Apply LOESS smoothing\n",
    "smoothed = lowess(sampled_df_geo['freq'], sampled_df_geo['scenario_numeric'], frac=0.3)\n",
    "axs[0,2].plot(smoothed[:, 0], smoothed[:, 1], color='black', linewidth=2,linestyle='--', label='LOESS')\n",
    "\n",
    "# Adjust x-axis ticks and labels\n",
    "axs[0,2].set_xticks(ticks=np.arange(len(scenario_map_geo)), labels=labs_geo, rotation=45)\n",
    "axs[0,2].set_ylabel('Frequency')\n",
    "\n",
    "axs[0,2].legend(frameon=False)\n",
    "axs[1,2].legend(frameon=False)\n",
    "\n",
    "axs[0,2].set_title(r'50km-private variants (30)',loc='left',fontsize=14)\n",
    "axs[1,2].set_title(r'1$\\varepsilon$-private variants (30)',loc='left',fontsize=14)\n",
    "\n",
    "plt.tight_layout()\n",
    "plt.savefig('priv_vars_wsinglevars.pdf')\n",
    "plt.show()"
   ]
  },
  {
   "cell_type": "code",
   "execution_count": 65,
   "id": "5d60ba7a-8306-49d6-af5a-2f142fa676dc",
   "metadata": {},
   "outputs": [
    {
     "data": {
      "text/plain": [
       "1.482553590987326"
      ]
     },
     "execution_count": 65,
     "metadata": {},
     "output_type": "execute_result"
    }
   ],
   "source": [
    "means_pca[0]/means_pca[-1]"
   ]
  },
  {
   "cell_type": "code",
   "execution_count": 66,
   "id": "f60e872c-64eb-42de-b484-703c579e0f32",
   "metadata": {},
   "outputs": [
    {
     "data": {
      "text/plain": [
       "3.9860139860139863"
      ]
     },
     "execution_count": 66,
     "metadata": {},
     "output_type": "execute_result"
    }
   ],
   "source": [
    "means_geo[0]/means_geo[-1]"
   ]
  },
  {
   "cell_type": "code",
   "execution_count": 67,
   "id": "bb93070f-1f2d-411f-82cf-f181d6ca5323",
   "metadata": {},
   "outputs": [
    {
     "data": {
      "text/plain": [
       "6.788977996075432"
      ]
     },
     "execution_count": 67,
     "metadata": {},
     "output_type": "execute_result"
    }
   ],
   "source": [
    "frq_means_geo[0]/frq_means_geo[-1]"
   ]
  },
  {
   "cell_type": "code",
   "execution_count": 68,
   "id": "30ce1d21-f75e-4089-a523-c952b2b130e7",
   "metadata": {},
   "outputs": [
    {
     "data": {
      "text/plain": [
       "1.6159125033578814"
      ]
     },
     "execution_count": 68,
     "metadata": {},
     "output_type": "execute_result"
    }
   ],
   "source": [
    "frq_means_pca[0]/frq_means_pca[-1]"
   ]
  },
  {
   "cell_type": "code",
   "execution_count": null,
   "id": "ba8511ef-71c6-468b-8878-4eb433e77926",
   "metadata": {},
   "outputs": [],
   "source": [
    "import seaborn as sns\n",
    "\n",
    "# Create a ridge plot\n",
    "sns.violinplot(x='freq', y='scenario', data=rand100_seed_pca, inner=None, orient='h', color='lightgrey')\n",
    "\n",
    "# Overlay individual SNPs\n",
    "for snp in rand100_seed_pca['snp'].unique():\n",
    "    subset = rand100_seed_pca[rand100_seed_pca['snp'] == snp]\n",
    "    plt.plot(subset['freq'], subset['scenario'], color='steelblue', alpha=0.2)\n",
    "\n",
    "plt.xlabel('Frequency')\n",
    "plt.title('SNP Frequencies with Ridge Plot')\n",
    "plt.show()\n"
   ]
  },
  {
   "cell_type": "code",
   "execution_count": null,
   "id": "a4d63bab-19f4-45ca-b19a-da9e0db0cb6a",
   "metadata": {},
   "outputs": [],
   "source": [
    "import matplotlib.pyplot as plt\n",
    "import seaborn as sns\n",
    "\n",
    "# Create a 2D histogram to show density\n",
    "sns.histplot(data=rand100_seed_pca, x='scenario', y='freq', bins=20, pthresh=0.1, cmap=\"Blues\")\n",
    "\n",
    "# Overlay individual SNPs\n",
    "for snp in rand100_seed_pca['snp'].unique():\n",
    "    subset = rand100_seed_pca[rand100_seed_pca['snp'] == snp]\n",
    "    plt.plot(subset['scenario'], subset['freq'], color='darkorange', alpha=0.2)\n",
    "\n",
    "plt.xticks(rotation=45)\n",
    "plt.ylabel('Frequency')\n",
    "plt.title('SNP Frequencies with Density Heatmap')\n",
    "plt.show()\n"
   ]
  },
  {
   "cell_type": "code",
   "execution_count": null,
   "id": "36c8b193-64d5-4923-a3bd-3cc801f3a39b",
   "metadata": {},
   "outputs": [],
   "source": []
  },
  {
   "cell_type": "markdown",
   "id": "d3dd0bee-cf02-4347-9337-51f46256567a",
   "metadata": {},
   "source": [
    "# How many private variants are LOF?"
   ]
  },
  {
   "cell_type": "code",
   "execution_count": null,
   "id": "57e83926-44c0-465d-a131-8df376e415d3",
   "metadata": {},
   "outputs": [],
   "source": [
    "private_vars_geo"
   ]
  },
  {
   "cell_type": "code",
   "execution_count": null,
   "id": "209b8138-2b1c-47da-adfd-cf93753135f1",
   "metadata": {},
   "outputs": [],
   "source": [
    "private_vars_pca"
   ]
  },
  {
   "cell_type": "code",
   "execution_count": null,
   "id": "a0273833-e8dd-4982-bec7-0bc13c505226",
   "metadata": {},
   "outputs": [],
   "source": [
    "annot = pd.read_csv('../empirical/subsampling_vF/metadata/ukb23158_500k_OQFE.annotations.txt',delim_whitespace=True,header=None)"
   ]
  },
  {
   "cell_type": "code",
   "execution_count": null,
   "id": "82b160b5-d7b1-43b4-be97-593d0cfc25c4",
   "metadata": {},
   "outputs": [],
   "source": [
    "annot"
   ]
  },
  {
   "cell_type": "code",
   "execution_count": null,
   "id": "b029da07-d8f5-4feb-b8d0-73798114cdc7",
   "metadata": {},
   "outputs": [],
   "source": [
    "annot.rename(columns={0:'SNP',2:'type'},inplace=True)"
   ]
  },
  {
   "cell_type": "code",
   "execution_count": null,
   "id": "a479061c-1d0e-4257-8a90-a85e043f91ba",
   "metadata": {},
   "outputs": [],
   "source": [
    "annot"
   ]
  },
  {
   "cell_type": "code",
   "execution_count": null,
   "id": "87ff9fa2-7104-4583-975b-cf5e09465210",
   "metadata": {},
   "outputs": [],
   "source": [
    "priv_pca_annot = pd.merge(private_vars_pca,annot,on='SNP',how='left')\n",
    "priv_pca_annot"
   ]
  },
  {
   "cell_type": "code",
   "execution_count": null,
   "id": "d0ed2705-251d-4b65-b1d4-28625a75b52d",
   "metadata": {},
   "outputs": [],
   "source": [
    "priv_pca_annot['type'].value_counts()"
   ]
  },
  {
   "cell_type": "code",
   "execution_count": null,
   "id": "07d1ab50-7f24-4eca-ba00-a8ce82805546",
   "metadata": {},
   "outputs": [],
   "source": [
    "priv_geo_annot = pd.merge(private_vars_geo,annot,on='SNP',how='left')\n",
    "priv_geo_annot"
   ]
  },
  {
   "cell_type": "code",
   "execution_count": null,
   "id": "309bb708-db70-413d-8612-ec1dac1f4083",
   "metadata": {},
   "outputs": [],
   "source": [
    "priv_geo_annot['type'].value_counts()"
   ]
  },
  {
   "cell_type": "markdown",
   "id": "412c6ffa-bf36-4307-8cc1-636b5b6f5b97",
   "metadata": {},
   "source": [
    "## Step 3 v2: using 10<=MAC<=20 files"
   ]
  },
  {
   "cell_type": "code",
   "execution_count": null,
   "id": "f09df4b1-68b4-4f3f-80f9-879d15dce7b1",
   "metadata": {},
   "outputs": [],
   "source": [
    "res = pd.read_csv('../empirical/subsampling_vF/private_var_counts_MAC_10_20.csv')"
   ]
  },
  {
   "cell_type": "code",
   "execution_count": null,
   "id": "787f4280-efdc-42c4-8ae7-904487b5375f",
   "metadata": {},
   "outputs": [],
   "source": [
    "sc_pca = ['closest10kpca','5epsilonpca','10epsilonpca','50epsilonpca','100epsilonpca','uniform']\n",
    "sc_geo = ['closest10kgeo','5epsilongeo','10epsilongeo','50epsilongeo','uniformgeo']"
   ]
  },
  {
   "cell_type": "code",
   "execution_count": null,
   "id": "6c399bf1-670a-41a2-a803-ee473bea68f4",
   "metadata": {},
   "outputs": [],
   "source": [
    "res_grouped = res.groupby(['scenario', 'seed'], as_index=False).sum()"
   ]
  },
  {
   "cell_type": "code",
   "execution_count": null,
   "id": "b76f788e-91e6-45f3-92a8-c554b4472d6d",
   "metadata": {},
   "outputs": [],
   "source": [
    "means_pca = []\n",
    "stds_pca = []\n",
    "for sc in sc_pca:\n",
    "    temp = res_grouped[res_grouped['scenario']==sc]\n",
    "    means_pca.append(temp['priv_pca_count'].mean())\n",
    "    stds_pca.append(temp['priv_pca_count'].std())\n",
    "\n",
    "means_geo = []\n",
    "stds_geo = []\n",
    "for sc in sc_geo:\n",
    "    temp = res_grouped[res_grouped['scenario']==sc]\n",
    "    means_geo.append(temp['priv_geo_count'].mean())\n",
    "    stds_geo.append(temp['priv_geo_count'].std())\n",
    "\n"
   ]
  },
  {
   "cell_type": "code",
   "execution_count": null,
   "id": "e050c7a0-4ba9-477e-9d4c-8b3fceccb167",
   "metadata": {},
   "outputs": [],
   "source": [
    "means_pca"
   ]
  },
  {
   "cell_type": "code",
   "execution_count": null,
   "id": "2ecb46af-0a07-49ce-863c-962af97dfa99",
   "metadata": {},
   "outputs": [],
   "source": [
    "means_geo"
   ]
  },
  {
   "cell_type": "code",
   "execution_count": null,
   "id": "354a55d9-bdde-4bc6-b222-dc87c4aa210a",
   "metadata": {},
   "outputs": [],
   "source": [
    "stds_geo"
   ]
  },
  {
   "cell_type": "code",
   "execution_count": null,
   "id": "e9cda7ff-186e-47ac-b6a6-66af32d8eaad",
   "metadata": {},
   "outputs": [],
   "source": [
    "frq = pd.read_csv('../empirical/subsampling_vF/private_var_mean_freq_MAC_10_20.csv')"
   ]
  },
  {
   "cell_type": "code",
   "execution_count": null,
   "id": "e495ec67-a065-4bfc-98a1-13ee49b6d789",
   "metadata": {},
   "outputs": [],
   "source": [
    "frq_means_pca = []\n",
    "frq_stds_pca = []\n",
    "for sc in sc_pca:\n",
    "    temp = frq[frq['scenario']==sc]\n",
    "    frq_means_pca.append(temp['priv_pca_mean'].mean())\n",
    "    frq_stds_pca.append(temp['priv_pca_mean'].std())\n",
    "\n",
    "frq_means_geo = []\n",
    "frq_stds_geo = []\n",
    "for sc in sc_geo:\n",
    "    temp = frq[frq['scenario']==sc]\n",
    "    frq_means_geo.append(temp['priv_geo_mean'].mean())\n",
    "    frq_stds_geo.append(temp['priv_geo_mean'].std())"
   ]
  },
  {
   "cell_type": "code",
   "execution_count": null,
   "id": "bdec3de2-f585-44d4-bc19-bba9916f9974",
   "metadata": {},
   "outputs": [],
   "source": [
    "frq_means_pca"
   ]
  },
  {
   "cell_type": "code",
   "execution_count": null,
   "id": "11288851-6ed2-4f8c-9844-b8c59b9584c0",
   "metadata": {},
   "outputs": [],
   "source": [
    "frq_means_geo"
   ]
  },
  {
   "cell_type": "code",
   "execution_count": null,
   "id": "7773a3a4-fc2e-4bd2-991f-0d7070da07a8",
   "metadata": {},
   "outputs": [],
   "source": [
    "fig, axs = plt.subplots(2,2,figsize=(8,8))\n",
    "colors = ['#1E90FF','salmon']\n",
    "labs_pca=['Closest 10K',r'Within 5$\\varepsilon_{PCA}$',r'Within 10$\\varepsilon_{PCA}$',r'Within 50$\\varepsilon_{PCA}$',r'Within 100$\\varepsilon_{PCA}$','Uniform']\n",
    "labs_geo = ['Closest 10K',r'Within 5$\\varepsilon_{Geo}$',r'Within 10$\\varepsilon_{Geo}$',r'Within 50$\\varepsilon_{Geo}$','Uniform']#,r'Within 100$\\varepsilon_{PCA}$','Uniform']\n",
    "\n",
    "axs[0,0].plot(labs_pca[0], means_pca[0], 'o', color=colors[0],markersize=7)\n",
    "axs[0,0].errorbar(labs_pca[1:], means_pca[1:], yerr=stds_pca[1:], fmt='o', color=colors[0], ecolor='black', capsize=6, markersize=7)\n",
    "axs[0,0].set_xticks(labs_pca)\n",
    "axs[0,0].set_xticklabels(labs_pca, rotation=45, ha='right')\n",
    "axs[0,0].set_ylabel(r'Count segregating in sample')\n",
    "axs[0,0].set_title(r'1$\\varepsilon_{PCA}$-private variants',loc='left',fontstyle='italic',fontsize=14)\n",
    "\n",
    "axs[0,1].plot(labs_geo[0], means_geo[0], 'o', color=colors[1],markersize=7)\n",
    "axs[0,1].errorbar(labs_geo[1:], means_geo[1:], yerr=stds_geo[1:], fmt='o', color=colors[1], ecolor='black', capsize=6, markersize=7)\n",
    "axs[0,1].set_xticks(labs_geo)\n",
    "axs[0,1].set_xticklabels(labs_geo, rotation=45, ha='right')\n",
    "axs[0,1].set_ylabel(r'Count segregating in sample')\n",
    "axs[0,1].set_title(r'5$\\varepsilon_{Geo}$-private variants',loc='left',fontstyle='italic',fontsize=14)\n",
    "\n",
    "axs[1,0].plot(labs_pca[0], frq_means_pca[0], 'o', color=colors[0],markersize=7)\n",
    "axs[1,0].errorbar(labs_pca[1:], frq_means_pca[1:], yerr=frq_stds_pca[1:], fmt='o', color=colors[0], ecolor='black', capsize=6, markersize=7)\n",
    "axs[1,0].set_xticks(labs_pca)\n",
    "axs[1,0].set_xticklabels(labs_pca, rotation=45, ha='right')\n",
    "axs[1,0].set_ylabel(r'Average frequency')\n",
    "axs[1,0].set_title(r'1$\\varepsilon_{PCA}$-private variants',loc='left',fontstyle='italic',fontsize=14)\n",
    "\n",
    "axs[1,1].plot(labs_geo[0], frq_means_geo[0], 'o', color=colors[1],markersize=7)\n",
    "axs[1,1].errorbar(labs_geo[1:], frq_means_geo[1:], yerr=frq_stds_geo[1:], fmt='o', color=colors[1], ecolor='black', capsize=6, markersize=7)\n",
    "axs[1,1].set_xticks(labs_geo)\n",
    "axs[1,1].set_xticklabels(labs_geo, rotation=45, ha='right')\n",
    "axs[1,1].set_ylabel(r'Average frequency')\n",
    "axs[1,1].set_title(r'5$\\varepsilon_{Geo}$-private variants',loc='left',fontstyle='italic',fontsize=14)\n",
    "\n",
    "\n",
    "plt.tight_layout()\n",
    "# plt.savefig('priv_vars.pdf')\n",
    "plt.show()"
   ]
  }
 ],
 "metadata": {
  "kernelspec": {
   "display_name": "Python 3 (ipykernel)",
   "language": "python",
   "name": "python3"
  },
  "language_info": {
   "codemirror_mode": {
    "name": "ipython",
    "version": 3
   },
   "file_extension": ".py",
   "mimetype": "text/x-python",
   "name": "python",
   "nbconvert_exporter": "python",
   "pygments_lexer": "ipython3",
   "version": "3.12.2"
  }
 },
 "nbformat": 4,
 "nbformat_minor": 5
}
