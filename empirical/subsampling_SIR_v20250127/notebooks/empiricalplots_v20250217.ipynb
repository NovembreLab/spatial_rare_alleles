{
 "cells": [
  {
   "cell_type": "code",
   "execution_count": 1,
   "id": "744a8771-e1fa-4143-98fe-c6bac05a79ed",
   "metadata": {},
   "outputs": [
    {
     "name": "stdout",
     "output_type": "stream",
     "text": [
      "Intel MKL WARNING: Support of Intel(R) Streaming SIMD Extensions 4.2 (Intel(R) SSE4.2) enabled only processors has been deprecated. Intel oneAPI Math Kernel Library 2025.0 will require Intel(R) Advanced Vector Extensions (Intel(R) AVX) instructions.\n",
      "Intel MKL WARNING: Support of Intel(R) Streaming SIMD Extensions 4.2 (Intel(R) SSE4.2) enabled only processors has been deprecated. Intel oneAPI Math Kernel Library 2025.0 will require Intel(R) Advanced Vector Extensions (Intel(R) AVX) instructions.\n"
     ]
    }
   ],
   "source": [
    "import numpy as np\n",
    "import pandas as pd\n",
    "from matplotlib import pyplot as plt\n",
    "import glob\n",
    "from scipy.special import exp1,factorial\n",
    "from scipy.stats import binom,nbinom"
   ]
  },
  {
   "cell_type": "markdown",
   "id": "bcb6cabd-2c1e-4709-8842-2e95704f9c0b",
   "metadata": {},
   "source": [
    "### Section 1: compute values for y axis correction\n",
    "\n",
    "Goal: compute length (in kb) of exome on chrom 1 with potential for a LoF/Missense/Synonymous site\n",
    "\n",
    "Data sources: \n",
    "- UKB BED file for WES targets (https://biobank.ndph.ox.ac.uk/ukb/refer.cgi?id=3803)\n",
    "- potential LoF sites from Zeng et al. 2023, file `gnomad_lofs_with_misannotation_probabilitites.tsv.gz` (https://zenodo.org/records/10403680)\n",
    "\n",
    "For **synonymous** sites: this is 1/3 of the total length of exome sequence \n",
    "\n",
    "For **missense** sites: this is 2/3 of the total length of exome sequence\n",
    "\n",
    "We also need to divide each SFS entry by the _proportion of snps kept_ in the downsampling procedure. E.g., for synonymous variants, chrom 1 contained 247,378 SNPs, but we downsampled to 32,320, so we will divied by 32320/247378=0.1302. Same for missense (for LoF we kept all variants, so this proportion is just 1). \n",
    "\n",
    "For **LoF** sites: we will use the list of potential LoF sites from Zeng et al. to compute # potential LoFs in sequencing targets directly."
   ]
  },
  {
   "cell_type": "code",
   "execution_count": 2,
   "id": "2330f7ee-ba71-4172-804d-80cf262842cb",
   "metadata": {},
   "outputs": [
    {
     "name": "stdout",
     "output_type": "stream",
     "text": [
      "Prop. kept for syn: 0.130650259926105\n",
      "Prop. kept for mis: 0.06387818872130967\n"
     ]
    }
   ],
   "source": [
    "## First compute the proportions...\n",
    "# proportion of sites kept\n",
    "prop_kept_syn = 32320/247378\n",
    "prop_kept_mis = 32320/505963\n",
    "print(f\"Prop. kept for syn: {prop_kept_syn}\")\n",
    "print(f\"Prop. kept for mis: {prop_kept_mis}\")"
   ]
  },
  {
   "cell_type": "code",
   "execution_count": 3,
   "id": "dcfdd62d-8bc3-435e-968d-8063499fd28a",
   "metadata": {
    "scrolled": true
   },
   "outputs": [
    {
     "data": {
      "text/html": [
       "<div>\n",
       "<style scoped>\n",
       "    .dataframe tbody tr th:only-of-type {\n",
       "        vertical-align: middle;\n",
       "    }\n",
       "\n",
       "    .dataframe tbody tr th {\n",
       "        vertical-align: top;\n",
       "    }\n",
       "\n",
       "    .dataframe thead th {\n",
       "        text-align: right;\n",
       "    }\n",
       "</style>\n",
       "<table border=\"1\" class=\"dataframe\">\n",
       "  <thead>\n",
       "    <tr style=\"text-align: right;\">\n",
       "      <th></th>\n",
       "      <th>chr</th>\n",
       "      <th>start</th>\n",
       "      <th>end</th>\n",
       "      <th>length</th>\n",
       "    </tr>\n",
       "  </thead>\n",
       "  <tbody>\n",
       "    <tr>\n",
       "      <th>0</th>\n",
       "      <td>chr1</td>\n",
       "      <td>69090</td>\n",
       "      <td>70008</td>\n",
       "      <td>918</td>\n",
       "    </tr>\n",
       "    <tr>\n",
       "      <th>1</th>\n",
       "      <td>chr1</td>\n",
       "      <td>450739</td>\n",
       "      <td>451678</td>\n",
       "      <td>939</td>\n",
       "    </tr>\n",
       "    <tr>\n",
       "      <th>2</th>\n",
       "      <td>chr1</td>\n",
       "      <td>685715</td>\n",
       "      <td>686654</td>\n",
       "      <td>939</td>\n",
       "    </tr>\n",
       "    <tr>\n",
       "      <th>3</th>\n",
       "      <td>chr1</td>\n",
       "      <td>925941</td>\n",
       "      <td>926013</td>\n",
       "      <td>72</td>\n",
       "    </tr>\n",
       "    <tr>\n",
       "      <th>4</th>\n",
       "      <td>chr1</td>\n",
       "      <td>930154</td>\n",
       "      <td>930336</td>\n",
       "      <td>182</td>\n",
       "    </tr>\n",
       "    <tr>\n",
       "      <th>...</th>\n",
       "      <td>...</td>\n",
       "      <td>...</td>\n",
       "      <td>...</td>\n",
       "      <td>...</td>\n",
       "    </tr>\n",
       "    <tr>\n",
       "      <th>204824</th>\n",
       "      <td>chrY</td>\n",
       "      <td>57190939</td>\n",
       "      <td>57191085</td>\n",
       "      <td>146</td>\n",
       "    </tr>\n",
       "    <tr>\n",
       "      <th>204825</th>\n",
       "      <td>chrY</td>\n",
       "      <td>57191797</td>\n",
       "      <td>57191999</td>\n",
       "      <td>202</td>\n",
       "    </tr>\n",
       "    <tr>\n",
       "      <th>204826</th>\n",
       "      <td>chrY</td>\n",
       "      <td>57192602</td>\n",
       "      <td>57192708</td>\n",
       "      <td>106</td>\n",
       "    </tr>\n",
       "    <tr>\n",
       "      <th>204827</th>\n",
       "      <td>chrY</td>\n",
       "      <td>57194042</td>\n",
       "      <td>57194127</td>\n",
       "      <td>85</td>\n",
       "    </tr>\n",
       "    <tr>\n",
       "      <th>204828</th>\n",
       "      <td>chrY</td>\n",
       "      <td>57196335</td>\n",
       "      <td>57196929</td>\n",
       "      <td>594</td>\n",
       "    </tr>\n",
       "  </tbody>\n",
       "</table>\n",
       "<p>204829 rows × 4 columns</p>\n",
       "</div>"
      ],
      "text/plain": [
       "         chr     start       end  length\n",
       "0       chr1     69090     70008     918\n",
       "1       chr1    450739    451678     939\n",
       "2       chr1    685715    686654     939\n",
       "3       chr1    925941    926013      72\n",
       "4       chr1    930154    930336     182\n",
       "...      ...       ...       ...     ...\n",
       "204824  chrY  57190939  57191085     146\n",
       "204825  chrY  57191797  57191999     202\n",
       "204826  chrY  57192602  57192708     106\n",
       "204827  chrY  57194042  57194127      85\n",
       "204828  chrY  57196335  57196929     594\n",
       "\n",
       "[204829 rows x 4 columns]"
      ]
     },
     "execution_count": 3,
     "metadata": {},
     "output_type": "execute_result"
    }
   ],
   "source": [
    "## Now compute length of exome sequence. Starting with  UKB target regions on chromosome 1...\n",
    "bed_file = \"../empirical/subsampling_SIR_v20250127/metadata/xgen_plus_spikein.GRCh38.bed\"\n",
    "df_bed = pd.read_csv(bed_file, sep='\\t', header=None, names=[\"chr\", \"start\", \"end\"])\n",
    "df_bed[\"length\"] = df_bed[\"end\"] - df_bed[\"start\"]\n",
    "df_bed"
   ]
  },
  {
   "cell_type": "code",
   "execution_count": 4,
   "id": "5e9c7c84-eba9-4ab2-b9f5-bf4f3443624d",
   "metadata": {},
   "outputs": [
    {
     "data": {
      "text/plain": [
       "38997831"
      ]
     },
     "execution_count": 4,
     "metadata": {},
     "output_type": "execute_result"
    }
   ],
   "source": [
    "# sanity check - sum of lengths should be around 39 Mbp\n",
    "df_bed['length'].sum()"
   ]
  },
  {
   "cell_type": "code",
   "execution_count": 5,
   "id": "c9de3c75-fa0e-4242-b828-22d6e01c3c61",
   "metadata": {},
   "outputs": [
    {
     "data": {
      "text/plain": [
       "3924065"
      ]
     },
     "execution_count": 5,
     "metadata": {},
     "output_type": "execute_result"
    }
   ],
   "source": [
    "# length of chromosome 1 regions only\n",
    "df_chr1_bed=df_bed[df_bed['chr']=='chr1']\n",
    "chr1_len = df_chr1_bed['length'].sum()\n",
    "chr1_len"
   ]
  },
  {
   "cell_type": "code",
   "execution_count": 6,
   "id": "cdb10cfe-5441-4f9c-ba96-d5f04c203197",
   "metadata": {},
   "outputs": [
    {
     "data": {
      "text/plain": [
       "1308.0216666666665"
      ]
     },
     "execution_count": 6,
     "metadata": {},
     "output_type": "execute_result"
    }
   ],
   "source": [
    "# length (in kb) of \"synonymous\" exome on chr1\n",
    "len_syn = (1/3)*chr1_len/1000\n",
    "len_syn # length factor for synonymous sites"
   ]
  },
  {
   "cell_type": "code",
   "execution_count": 7,
   "id": "a7dacdcb-b5dd-4dd2-9c6d-210564eb05c5",
   "metadata": {},
   "outputs": [
    {
     "data": {
      "text/plain": [
       "2616.043333333333"
      ]
     },
     "execution_count": 7,
     "metadata": {},
     "output_type": "execute_result"
    }
   ],
   "source": [
    "# length (in kb) of \"missense\" exome on chr1\n",
    "len_mis = (2/3)*df_chr1_bed[\"length\"].sum()/1000\n",
    "len_mis # length factor for synonymous sites"
   ]
  },
  {
   "cell_type": "code",
   "execution_count": 8,
   "id": "7a59c06e-292e-4bce-93c3-79ee0643f54f",
   "metadata": {},
   "outputs": [
    {
     "name": "stderr",
     "output_type": "stream",
     "text": [
      "/var/folders/r0/wf2xsjdx3h366x3_hj3b7xdc0000gp/T/ipykernel_79030/1845316902.py:2: DtypeWarning: Columns (16) have mixed types. Specify dtype option on import or set low_memory=False.\n",
      "  lofsites = pd.read_csv('../empirical/subsampling_SIR_v20250127/metadata/gnomad_lofs_with_misannotation_probabilities.tsv',delimiter='\\t')\n"
     ]
    }
   ],
   "source": [
    "## potential LoF sites - from Zeng et al. results\n",
    "lofsites = pd.read_csv('../empirical/subsampling_SIR_v20250127/metadata/gnomad_lofs_with_misannotation_probabilities.tsv',delimiter='\\t')"
   ]
  },
  {
   "cell_type": "code",
   "execution_count": 9,
   "id": "2c7553bf-4f1a-448b-87ae-5b83a6f54ee6",
   "metadata": {},
   "outputs": [
    {
     "data": {
      "text/html": [
       "<div>\n",
       "<style scoped>\n",
       "    .dataframe tbody tr th:only-of-type {\n",
       "        vertical-align: middle;\n",
       "    }\n",
       "\n",
       "    .dataframe tbody tr th {\n",
       "        vertical-align: top;\n",
       "    }\n",
       "\n",
       "    .dataframe thead th {\n",
       "        text-align: right;\n",
       "    }\n",
       "</style>\n",
       "<table border=\"1\" class=\"dataframe\">\n",
       "  <thead>\n",
       "    <tr style=\"text-align: right;\">\n",
       "      <th></th>\n",
       "      <th>Unnamed: 0</th>\n",
       "      <th>ensg</th>\n",
       "      <th>locus</th>\n",
       "      <th>ref</th>\n",
       "      <th>alt</th>\n",
       "      <th>lof</th>\n",
       "      <th>csq</th>\n",
       "      <th>lof_flag</th>\n",
       "      <th>mean_proportion</th>\n",
       "      <th>context</th>\n",
       "      <th>...</th>\n",
       "      <th>median_coverage</th>\n",
       "      <th>symbol</th>\n",
       "      <th>chr</th>\n",
       "      <th>start</th>\n",
       "      <th>end</th>\n",
       "      <th>low_map_or_segdup</th>\n",
       "      <th>num_gt</th>\n",
       "      <th>consequence</th>\n",
       "      <th>p_misannotation</th>\n",
       "      <th>pos_hg38</th>\n",
       "    </tr>\n",
       "  </thead>\n",
       "  <tbody>\n",
       "    <tr>\n",
       "      <th>908252</th>\n",
       "      <td>908252</td>\n",
       "      <td>ENSG00000107404</td>\n",
       "      <td>1:1271578</td>\n",
       "      <td>G</td>\n",
       "      <td>['A']</td>\n",
       "      <td>['HC']</td>\n",
       "      <td>['stop_gained']</td>\n",
       "      <td>[{'None'}]</td>\n",
       "      <td>[0.950484]</td>\n",
       "      <td>CCA</td>\n",
       "      <td>...</td>\n",
       "      <td>33.0</td>\n",
       "      <td>DVL1</td>\n",
       "      <td>1</td>\n",
       "      <td>1271577</td>\n",
       "      <td>1271578</td>\n",
       "      <td>False</td>\n",
       "      <td>250312.0</td>\n",
       "      <td>['stop_gained']</td>\n",
       "      <td>0.009288</td>\n",
       "      <td>1336198.0</td>\n",
       "    </tr>\n",
       "    <tr>\n",
       "      <th>908253</th>\n",
       "      <td>908253</td>\n",
       "      <td>ENSG00000107404</td>\n",
       "      <td>1:1271592</td>\n",
       "      <td>A</td>\n",
       "      <td>['T']</td>\n",
       "      <td>['HC']</td>\n",
       "      <td>['stop_gained']</td>\n",
       "      <td>[{'None'}]</td>\n",
       "      <td>[0.950484]</td>\n",
       "      <td>TTG</td>\n",
       "      <td>...</td>\n",
       "      <td>32.0</td>\n",
       "      <td>DVL1</td>\n",
       "      <td>1</td>\n",
       "      <td>1271591</td>\n",
       "      <td>1271592</td>\n",
       "      <td>False</td>\n",
       "      <td>250312.0</td>\n",
       "      <td>['stop_gained']</td>\n",
       "      <td>0.009494</td>\n",
       "      <td>1336212.0</td>\n",
       "    </tr>\n",
       "    <tr>\n",
       "      <th>908254</th>\n",
       "      <td>908254</td>\n",
       "      <td>ENSG00000107404</td>\n",
       "      <td>1:1271596</td>\n",
       "      <td>C</td>\n",
       "      <td>['A']</td>\n",
       "      <td>['HC']</td>\n",
       "      <td>['stop_gained']</td>\n",
       "      <td>[{'None'}]</td>\n",
       "      <td>[0.950484]</td>\n",
       "      <td>GGA</td>\n",
       "      <td>...</td>\n",
       "      <td>32.0</td>\n",
       "      <td>DVL1</td>\n",
       "      <td>1</td>\n",
       "      <td>1271595</td>\n",
       "      <td>1271596</td>\n",
       "      <td>False</td>\n",
       "      <td>250312.0</td>\n",
       "      <td>['stop_gained']</td>\n",
       "      <td>0.009434</td>\n",
       "      <td>1336216.0</td>\n",
       "    </tr>\n",
       "    <tr>\n",
       "      <th>908255</th>\n",
       "      <td>908255</td>\n",
       "      <td>ENSG00000107404</td>\n",
       "      <td>1:1271617</td>\n",
       "      <td>C</td>\n",
       "      <td>['A']</td>\n",
       "      <td>['HC']</td>\n",
       "      <td>['stop_gained']</td>\n",
       "      <td>[{'None'}]</td>\n",
       "      <td>[0.950484]</td>\n",
       "      <td>GGA</td>\n",
       "      <td>...</td>\n",
       "      <td>26.0</td>\n",
       "      <td>DVL1</td>\n",
       "      <td>1</td>\n",
       "      <td>1271616</td>\n",
       "      <td>1271617</td>\n",
       "      <td>False</td>\n",
       "      <td>250312.0</td>\n",
       "      <td>['stop_gained']</td>\n",
       "      <td>0.009434</td>\n",
       "      <td>1336237.0</td>\n",
       "    </tr>\n",
       "    <tr>\n",
       "      <th>908256</th>\n",
       "      <td>908256</td>\n",
       "      <td>ENSG00000107404</td>\n",
       "      <td>1:1271632</td>\n",
       "      <td>C</td>\n",
       "      <td>['A']</td>\n",
       "      <td>['HC']</td>\n",
       "      <td>['stop_gained']</td>\n",
       "      <td>[{'None'}]</td>\n",
       "      <td>[0.950484]</td>\n",
       "      <td>GGG</td>\n",
       "      <td>...</td>\n",
       "      <td>23.0</td>\n",
       "      <td>DVL1</td>\n",
       "      <td>1</td>\n",
       "      <td>1271631</td>\n",
       "      <td>1271632</td>\n",
       "      <td>False</td>\n",
       "      <td>250312.0</td>\n",
       "      <td>['stop_gained']</td>\n",
       "      <td>0.009419</td>\n",
       "      <td>1336252.0</td>\n",
       "    </tr>\n",
       "    <tr>\n",
       "      <th>...</th>\n",
       "      <td>...</td>\n",
       "      <td>...</td>\n",
       "      <td>...</td>\n",
       "      <td>...</td>\n",
       "      <td>...</td>\n",
       "      <td>...</td>\n",
       "      <td>...</td>\n",
       "      <td>...</td>\n",
       "      <td>...</td>\n",
       "      <td>...</td>\n",
       "      <td>...</td>\n",
       "      <td>...</td>\n",
       "      <td>...</td>\n",
       "      <td>...</td>\n",
       "      <td>...</td>\n",
       "      <td>...</td>\n",
       "      <td>...</td>\n",
       "      <td>...</td>\n",
       "      <td>...</td>\n",
       "      <td>...</td>\n",
       "      <td>...</td>\n",
       "    </tr>\n",
       "    <tr>\n",
       "      <th>2981843</th>\n",
       "      <td>2981843</td>\n",
       "      <td>ENSG00000168679</td>\n",
       "      <td>1:110931913</td>\n",
       "      <td>G</td>\n",
       "      <td>['C', 'T']</td>\n",
       "      <td>['HC', 'HC']</td>\n",
       "      <td>['stop_gained', 'stop_gained']</td>\n",
       "      <td>[{'PHYLOCSF_WEAK'}, {'PHYLOCSF_WEAK'}]</td>\n",
       "      <td>[0.693263, 0.693263]</td>\n",
       "      <td>ACA</td>\n",
       "      <td>...</td>\n",
       "      <td>97.0</td>\n",
       "      <td>SLC16A4</td>\n",
       "      <td>1</td>\n",
       "      <td>110931912</td>\n",
       "      <td>110931913</td>\n",
       "      <td>False</td>\n",
       "      <td>250312.0</td>\n",
       "      <td>['stop_gained', 'stop_gained']</td>\n",
       "      <td>0.009496</td>\n",
       "      <td>110389291.0</td>\n",
       "    </tr>\n",
       "    <tr>\n",
       "      <th>2981844</th>\n",
       "      <td>2981844</td>\n",
       "      <td>ENSG00000168679</td>\n",
       "      <td>1:110931921</td>\n",
       "      <td>G</td>\n",
       "      <td>['A']</td>\n",
       "      <td>['HC']</td>\n",
       "      <td>['stop_gained']</td>\n",
       "      <td>[{'PHYLOCSF_WEAK'}]</td>\n",
       "      <td>[0.693263]</td>\n",
       "      <td>CCA</td>\n",
       "      <td>...</td>\n",
       "      <td>91.0</td>\n",
       "      <td>SLC16A4</td>\n",
       "      <td>1</td>\n",
       "      <td>110931920</td>\n",
       "      <td>110931921</td>\n",
       "      <td>False</td>\n",
       "      <td>250312.0</td>\n",
       "      <td>['stop_gained']</td>\n",
       "      <td>0.009488</td>\n",
       "      <td>110389299.0</td>\n",
       "    </tr>\n",
       "    <tr>\n",
       "      <th>2981845</th>\n",
       "      <td>2981845</td>\n",
       "      <td>ENSG00000168679</td>\n",
       "      <td>1:110931927</td>\n",
       "      <td>T</td>\n",
       "      <td>['A']</td>\n",
       "      <td>['HC']</td>\n",
       "      <td>['stop_gained']</td>\n",
       "      <td>[{'PHYLOCSF_WEAK'}]</td>\n",
       "      <td>[0.693263]</td>\n",
       "      <td>GAA</td>\n",
       "      <td>...</td>\n",
       "      <td>85.0</td>\n",
       "      <td>SLC16A4</td>\n",
       "      <td>1</td>\n",
       "      <td>110931926</td>\n",
       "      <td>110931927</td>\n",
       "      <td>False</td>\n",
       "      <td>250312.0</td>\n",
       "      <td>['stop_gained']</td>\n",
       "      <td>0.009522</td>\n",
       "      <td>110389305.0</td>\n",
       "    </tr>\n",
       "    <tr>\n",
       "      <th>2981846</th>\n",
       "      <td>2981846</td>\n",
       "      <td>ENSG00000168679</td>\n",
       "      <td>1:110931933</td>\n",
       "      <td>C</td>\n",
       "      <td>['A']</td>\n",
       "      <td>['HC']</td>\n",
       "      <td>['stop_gained']</td>\n",
       "      <td>[{'PHYLOCSF_WEAK'}]</td>\n",
       "      <td>[0.693263]</td>\n",
       "      <td>GGA</td>\n",
       "      <td>...</td>\n",
       "      <td>82.0</td>\n",
       "      <td>SLC16A4</td>\n",
       "      <td>1</td>\n",
       "      <td>110931932</td>\n",
       "      <td>110931933</td>\n",
       "      <td>False</td>\n",
       "      <td>250312.0</td>\n",
       "      <td>['stop_gained']</td>\n",
       "      <td>0.009512</td>\n",
       "      <td>110389311.0</td>\n",
       "    </tr>\n",
       "    <tr>\n",
       "      <th>2981847</th>\n",
       "      <td>2981847</td>\n",
       "      <td>ENSG00000168679</td>\n",
       "      <td>1:110931939</td>\n",
       "      <td>T</td>\n",
       "      <td>['A']</td>\n",
       "      <td>['HC']</td>\n",
       "      <td>['stop_gained']</td>\n",
       "      <td>[{'PHYLOCSF_WEAK'}]</td>\n",
       "      <td>[0.693263]</td>\n",
       "      <td>GAA</td>\n",
       "      <td>...</td>\n",
       "      <td>78.0</td>\n",
       "      <td>SLC16A4</td>\n",
       "      <td>1</td>\n",
       "      <td>110931938</td>\n",
       "      <td>110931939</td>\n",
       "      <td>False</td>\n",
       "      <td>250312.0</td>\n",
       "      <td>['stop_gained']</td>\n",
       "      <td>0.009522</td>\n",
       "      <td>110389317.0</td>\n",
       "    </tr>\n",
       "  </tbody>\n",
       "</table>\n",
       "<p>199315 rows × 24 columns</p>\n",
       "</div>"
      ],
      "text/plain": [
       "         Unnamed: 0             ensg        locus ref         alt  \\\n",
       "908252       908252  ENSG00000107404    1:1271578   G       ['A']   \n",
       "908253       908253  ENSG00000107404    1:1271592   A       ['T']   \n",
       "908254       908254  ENSG00000107404    1:1271596   C       ['A']   \n",
       "908255       908255  ENSG00000107404    1:1271617   C       ['A']   \n",
       "908256       908256  ENSG00000107404    1:1271632   C       ['A']   \n",
       "...             ...              ...          ...  ..         ...   \n",
       "2981843     2981843  ENSG00000168679  1:110931913   G  ['C', 'T']   \n",
       "2981844     2981844  ENSG00000168679  1:110931921   G       ['A']   \n",
       "2981845     2981845  ENSG00000168679  1:110931927   T       ['A']   \n",
       "2981846     2981846  ENSG00000168679  1:110931933   C       ['A']   \n",
       "2981847     2981847  ENSG00000168679  1:110931939   T       ['A']   \n",
       "\n",
       "                  lof                             csq  \\\n",
       "908252         ['HC']                 ['stop_gained']   \n",
       "908253         ['HC']                 ['stop_gained']   \n",
       "908254         ['HC']                 ['stop_gained']   \n",
       "908255         ['HC']                 ['stop_gained']   \n",
       "908256         ['HC']                 ['stop_gained']   \n",
       "...               ...                             ...   \n",
       "2981843  ['HC', 'HC']  ['stop_gained', 'stop_gained']   \n",
       "2981844        ['HC']                 ['stop_gained']   \n",
       "2981845        ['HC']                 ['stop_gained']   \n",
       "2981846        ['HC']                 ['stop_gained']   \n",
       "2981847        ['HC']                 ['stop_gained']   \n",
       "\n",
       "                                       lof_flag       mean_proportion context  \\\n",
       "908252                               [{'None'}]            [0.950484]     CCA   \n",
       "908253                               [{'None'}]            [0.950484]     TTG   \n",
       "908254                               [{'None'}]            [0.950484]     GGA   \n",
       "908255                               [{'None'}]            [0.950484]     GGA   \n",
       "908256                               [{'None'}]            [0.950484]     GGG   \n",
       "...                                         ...                   ...     ...   \n",
       "2981843  [{'PHYLOCSF_WEAK'}, {'PHYLOCSF_WEAK'}]  [0.693263, 0.693263]     ACA   \n",
       "2981844                     [{'PHYLOCSF_WEAK'}]            [0.693263]     CCA   \n",
       "2981845                     [{'PHYLOCSF_WEAK'}]            [0.693263]     GAA   \n",
       "2981846                     [{'PHYLOCSF_WEAK'}]            [0.693263]     GGA   \n",
       "2981847                     [{'PHYLOCSF_WEAK'}]            [0.693263]     GAA   \n",
       "\n",
       "         ...  median_coverage   symbol chr      start        end  \\\n",
       "908252   ...             33.0     DVL1   1    1271577    1271578   \n",
       "908253   ...             32.0     DVL1   1    1271591    1271592   \n",
       "908254   ...             32.0     DVL1   1    1271595    1271596   \n",
       "908255   ...             26.0     DVL1   1    1271616    1271617   \n",
       "908256   ...             23.0     DVL1   1    1271631    1271632   \n",
       "...      ...              ...      ...  ..        ...        ...   \n",
       "2981843  ...             97.0  SLC16A4   1  110931912  110931913   \n",
       "2981844  ...             91.0  SLC16A4   1  110931920  110931921   \n",
       "2981845  ...             85.0  SLC16A4   1  110931926  110931927   \n",
       "2981846  ...             82.0  SLC16A4   1  110931932  110931933   \n",
       "2981847  ...             78.0  SLC16A4   1  110931938  110931939   \n",
       "\n",
       "        low_map_or_segdup    num_gt                     consequence  \\\n",
       "908252              False  250312.0                 ['stop_gained']   \n",
       "908253              False  250312.0                 ['stop_gained']   \n",
       "908254              False  250312.0                 ['stop_gained']   \n",
       "908255              False  250312.0                 ['stop_gained']   \n",
       "908256              False  250312.0                 ['stop_gained']   \n",
       "...                   ...       ...                             ...   \n",
       "2981843             False  250312.0  ['stop_gained', 'stop_gained']   \n",
       "2981844             False  250312.0                 ['stop_gained']   \n",
       "2981845             False  250312.0                 ['stop_gained']   \n",
       "2981846             False  250312.0                 ['stop_gained']   \n",
       "2981847             False  250312.0                 ['stop_gained']   \n",
       "\n",
       "         p_misannotation     pos_hg38  \n",
       "908252          0.009288    1336198.0  \n",
       "908253          0.009494    1336212.0  \n",
       "908254          0.009434    1336216.0  \n",
       "908255          0.009434    1336237.0  \n",
       "908256          0.009419    1336252.0  \n",
       "...                  ...          ...  \n",
       "2981843         0.009496  110389291.0  \n",
       "2981844         0.009488  110389299.0  \n",
       "2981845         0.009522  110389305.0  \n",
       "2981846         0.009512  110389311.0  \n",
       "2981847         0.009522  110389317.0  \n",
       "\n",
       "[199315 rows x 24 columns]"
      ]
     },
     "execution_count": 9,
     "metadata": {},
     "output_type": "execute_result"
    }
   ],
   "source": [
    "# filter to chrom1\n",
    "lofsites_chr1 = lofsites[lofsites['chr']==1]\n",
    "lofsites_chr1"
   ]
  },
  {
   "cell_type": "code",
   "execution_count": 10,
   "id": "2be0f2e8-fd57-4672-b24a-098a1664b255",
   "metadata": {},
   "outputs": [
    {
     "name": "stderr",
     "output_type": "stream",
     "text": [
      "/var/folders/r0/wf2xsjdx3h366x3_hj3b7xdc0000gp/T/ipykernel_79030/959839440.py:10: SettingWithCopyWarning: \n",
      "A value is trying to be set on a copy of a slice from a DataFrame.\n",
      "Try using .loc[row_indexer,col_indexer] = value instead\n",
      "\n",
      "See the caveats in the documentation: https://pandas.pydata.org/pandas-docs/stable/user_guide/indexing.html#returning-a-view-versus-a-copy\n",
      "  df_chr1_bed['interval'] = pd.IntervalIndex.from_arrays(df_chr1_bed['start'], df_chr1_bed['end'], closed='both')\n"
     ]
    }
   ],
   "source": [
    "## some functions to use to compute which region from bed file a particular variant sits in...\n",
    "def in_region(row):\n",
    "    return interval_idx.contains(row['pos_hg38']).any() # return True if position in at least one region\n",
    "\n",
    "def find_region_index(row):\n",
    "    mask = interval_idx.contains(row['pos_hg38'])  # Vectorized check\n",
    "    matching_indices = df_chr1_bed.index[mask]  # Get matching indices\n",
    "    return matching_indices[0] if not matching_indices.empty else None  # Return first match or None\n",
    "    \n",
    "df_chr1_bed['interval'] = pd.IntervalIndex.from_arrays(df_chr1_bed['start'], df_chr1_bed['end'], closed='both')\n",
    "interval_idx = pd.IntervalIndex(df_chr1_bed['interval'])"
   ]
  },
  {
   "cell_type": "code",
   "execution_count": 11,
   "id": "ca112490-ca26-400a-8cfb-6ef7b71eeef0",
   "metadata": {},
   "outputs": [
    {
     "name": "stderr",
     "output_type": "stream",
     "text": [
      "/var/folders/r0/wf2xsjdx3h366x3_hj3b7xdc0000gp/T/ipykernel_79030/3400125872.py:1: SettingWithCopyWarning: \n",
      "A value is trying to be set on a copy of a slice from a DataFrame.\n",
      "Try using .loc[row_indexer,col_indexer] = value instead\n",
      "\n",
      "See the caveats in the documentation: https://pandas.pydata.org/pandas-docs/stable/user_guide/indexing.html#returning-a-view-versus-a-copy\n",
      "  lofsites_chr1['in_region'] = lofsites_chr1.apply(in_region, axis=1)\n",
      "/var/folders/r0/wf2xsjdx3h366x3_hj3b7xdc0000gp/T/ipykernel_79030/3400125872.py:2: SettingWithCopyWarning: \n",
      "A value is trying to be set on a copy of a slice from a DataFrame.\n",
      "Try using .loc[row_indexer,col_indexer] = value instead\n",
      "\n",
      "See the caveats in the documentation: https://pandas.pydata.org/pandas-docs/stable/user_guide/indexing.html#returning-a-view-versus-a-copy\n",
      "  lofsites_chr1['region_index'] = lofsites_chr1.apply(find_region_index, axis=1)\n"
     ]
    }
   ],
   "source": [
    "lofsites_chr1['in_region'] = lofsites_chr1.apply(in_region, axis=1)\n",
    "lofsites_chr1['region_index'] = lofsites_chr1.apply(find_region_index, axis=1)"
   ]
  },
  {
   "cell_type": "code",
   "execution_count": 12,
   "id": "34ce93cb-4d68-4b63-9598-c511667c20fe",
   "metadata": {},
   "outputs": [
    {
     "data": {
      "text/plain": [
       "in_region\n",
       "True     167616\n",
       "False     31699\n",
       "Name: count, dtype: int64"
      ]
     },
     "execution_count": 12,
     "metadata": {},
     "output_type": "execute_result"
    }
   ],
   "source": [
    "## Most snps are in one of the regions from bed file...\n",
    "lofsites_chr1['in_region'].value_counts()"
   ]
  },
  {
   "cell_type": "code",
   "execution_count": 13,
   "id": "a09f848e-7ec3-4514-8f57-e998bdebfb4d",
   "metadata": {},
   "outputs": [],
   "source": [
    "region_counts = lofsites_chr1['region_index'].value_counts().reindex(df_chr1_bed.index, fill_value=np.nan)"
   ]
  },
  {
   "cell_type": "code",
   "execution_count": 14,
   "id": "81226bab-16dd-432c-bc5f-b414c69fe37c",
   "metadata": {},
   "outputs": [
    {
     "data": {
      "image/png": "[encoded data removed]",
      "text/plain": [
       "<Figure size 640x480 with 1 Axes>"
      ]
     },
     "metadata": {},
     "output_type": "display_data"
    }
   ],
   "source": [
    "## Plot of number of snps per bin...\n",
    "region_counts.hist(bins=50)\n",
    "plt.yscale('log')\n",
    "plt.grid(False)\n",
    "plt.xlabel('number of snps in bin')\n",
    "plt.ylabel('count')\n",
    "plt.show()"
   ]
  },
  {
   "cell_type": "code",
   "execution_count": 15,
   "id": "bbee4342-7d1e-45e8-b234-7f95e44815ca",
   "metadata": {},
   "outputs": [
    {
     "data": {
      "text/plain": [
       "9137"
      ]
     },
     "execution_count": 15,
     "metadata": {},
     "output_type": "execute_result"
    }
   ],
   "source": [
    "## number of non-empty regions...\n",
    "len(lofsites_chr1['region_index'].unique())"
   ]
  },
  {
   "cell_type": "code",
   "execution_count": 16,
   "id": "68e39320-cfd6-4162-a68a-c8b00f327608",
   "metadata": {},
   "outputs": [
    {
     "data": {
      "text/plain": [
       "167616"
      ]
     },
     "execution_count": 16,
     "metadata": {},
     "output_type": "execute_result"
    }
   ],
   "source": [
    "len(lofsites_chr1[lofsites_chr1['in_region']==True]['locus'].unique())"
   ]
  },
  {
   "cell_type": "code",
   "execution_count": 17,
   "id": "804731d4-8489-4933-ae28-8c4661a71318",
   "metadata": {},
   "outputs": [
    {
     "data": {
      "text/plain": [
       "908252       1:1271578\n",
       "908253       1:1271592\n",
       "908254       1:1271596\n",
       "908255       1:1271617\n",
       "908256       1:1271632\n",
       "              ...     \n",
       "2981843    1:110931913\n",
       "2981844    1:110931921\n",
       "2981845    1:110931927\n",
       "2981846    1:110931933\n",
       "2981847    1:110931939\n",
       "Name: locus, Length: 167616, dtype: object"
      ]
     },
     "execution_count": 17,
     "metadata": {},
     "output_type": "execute_result"
    }
   ],
   "source": [
    "lofsites_chr1[lofsites_chr1['in_region']==True]['locus']"
   ]
  },
  {
   "cell_type": "code",
   "execution_count": 18,
   "id": "71f6670b-3eb7-4831-b1ca-702dbd240176",
   "metadata": {},
   "outputs": [
    {
     "data": {
      "text/plain": [
       "167.616"
      ]
     },
     "execution_count": 18,
     "metadata": {},
     "output_type": "execute_result"
    }
   ],
   "source": [
    "## The length in kb of potential lof sequence is the # of sites in the bed regions/1000\n",
    "len_lof = len(lofsites_chr1[lofsites_chr1['in_region']==True])/1000\n",
    "len_lof"
   ]
  },
  {
   "cell_type": "code",
   "execution_count": 19,
   "id": "d86e2175-aa31-4dca-88a1-a29c583be991",
   "metadata": {},
   "outputs": [
    {
     "name": "stdout",
     "output_type": "stream",
     "text": [
      "Length for synonymous: 1308.0216666666665\n",
      "Length for missense: 2616.043333333333\n",
      "Length for lof: 167.616\n"
     ]
    }
   ],
   "source": [
    "## In summary...\n",
    "print(f'Length for synonymous: {len_syn}')\n",
    "print(f'Length for missense: {len_mis}')\n",
    "print(f'Length for lof: {len_lof}')"
   ]
  },
  {
   "cell_type": "code",
   "execution_count": 20,
   "id": "a0861c9a-c407-4e77-9efa-05fb8c58c45f",
   "metadata": {},
   "outputs": [],
   "source": [
    "# sfs+df"
   ]
  },
  {
   "cell_type": "markdown",
   "id": "68f84c8a-3276-423e-9871-c936c0dd9a5e",
   "metadata": {},
   "source": [
    "### Section 2: SFS plots with these y axis corrections"
   ]
  },
  {
   "cell_type": "code",
   "execution_count": 21,
   "id": "5bb8944c-d9b5-419e-88f5-d5bc291b81c3",
   "metadata": {},
   "outputs": [],
   "source": [
    "## plotting params\n",
    "plt.rcParams['axes.labelsize'] = 8    \n",
    "plt.rcParams['axes.titlesize'] = 9    \n",
    "plt.rcParams['xtick.labelsize'] = 8   \n",
    "plt.rcParams['ytick.labelsize'] = 8 \n",
    "plt.rcParams['legend.fontsize'] = 8\n",
    "plt.rcParams['font.family']='Arial'\n",
    "# Define plot parameters and styles\n",
    "colors = ['#440154',  # Dark Purple (Viridis)\n",
    "          '#3b528b',  # Blue (Viridis)\n",
    "          '#21918c',  # Teal (Viridis)\n",
    "          '#5ec962',  # Green (Viridis)\n",
    "          '#f03b20',  # Red (Warm)\n",
    "          '#fd8d3c',  # Orange (Warm)\n",
    "          '#fdae61',  # Light Orange (Warm)\n",
    "\n",
    "          '#fee08b']  # Light Yellow (Warm)\n"
   ]
  },
  {
   "cell_type": "code",
   "execution_count": 23,
   "id": "94e62998-4f14-4663-9cfa-3028bd348e11",
   "metadata": {},
   "outputs": [
    {
     "name": "stdout",
     "output_type": "stream",
     "text": [
      "synonymous\n",
      "170.89337073897704\n",
      "missense\n",
      "167.10810974979066\n",
      "lof\n",
      "167.616\n"
     ]
    },
    {
     "data": {
      "image/png": "[encoded data removed]",
      "text/plain": [
       "<Figure size 701x300 with 3 Axes>"
      ]
     },
     "metadata": {},
     "output_type": "display_data"
    }
   ],
   "source": [
    "nbins = 13\n",
    "n=10000\n",
    "sfs_unif = pd.read_csv(f'../empirical/subsampling_SIR_v20250127/results/sfs/chr1_lof_uniformgeo_nSIR10000_nSIRreps10.SIRsfs', sep=' ')\n",
    "sfs_unif_grouped = sfs_unif.groupby('OBS_N')['COUNT_SITES'].agg(['mean', 'std'])\n",
    "sfs_unif_avg = sfs_unif_grouped['mean']\n",
    "\n",
    "# Generate log bins up to 100\n",
    "log_bins = np.logspace(np.log10(1), np.log10(n/2), num=nbins)\n",
    "log_bins = np.unique(np.round(log_bins))  # Ensure unique, rounded bin edges\n",
    "\n",
    "# Find the index where bins exceed 100\n",
    "log_bins = log_bins[log_bins <= 100]  # Keep bins only up to 100\n",
    "log_bins = np.append(log_bins, [100, np.inf])  # Add final bin for values >100\n",
    "\n",
    "# Compute bin centers\n",
    "bin_centers = np.sqrt(log_bins[:-1] * log_bins[1:])\n",
    "bin_centers[-1] = 100  # Assign a reasonable center for the last bin\n",
    "# log_bins = np.logspace(np.log10(1), np.log10(n/2), num=nbins)  # Start from 1 instead of 10\n",
    "# log_bins = np.unique(np.round(log_bins))\n",
    "# bin_centers = np.sqrt(log_bins[:-1] * log_bins[1:])\n",
    "\n",
    "vartypes = ['synonymous', 'missense', 'lof']\n",
    "centers_geo = ['centerE16N4', 'centerE9N9', 'centerE6N4']\n",
    "w_list_geo = ['50000', '100000', '150000']\n",
    "labs_geo = ['A', 'B', 'C', 'D']\n",
    "\n",
    "centers_pca = ['centerX19Y4']\n",
    "w_list_pca = [0.0015, 0.0025, 0.005]\n",
    "labs_pca = ['E', 'F', 'G', 'H']\n",
    "\n",
    "\n",
    "\n",
    "# Create a 3-panel plot\n",
    "fig, axes = plt.subplots(1, 3, figsize=(7.01, 3), sharex=True, sharey=True)\n",
    "sfs_data = []\n",
    "for k, vt in enumerate(vartypes):\n",
    "    ax = axes[k]\n",
    "    print(vt)\n",
    "    if vt=='synonymous':\n",
    "        scale_factor = len_syn*prop_kept_syn # also divide by prop kept\n",
    "    elif vt=='missense':\n",
    "        scale_factor = len_mis*prop_kept_mis # also divide by prop kept\n",
    "    elif vt=='lof':\n",
    "        scale_factor = len_lof\n",
    "    print(scale_factor)\n",
    "    \n",
    "    # Process PCA data\n",
    "    sfs_unif_pca = pd.read_csv(f'../empirical/subsampling_SIR_v20250127/results/sfs/chr1_{vt}_uniformpca_nSIR10000_nSIRreps10.SIRsfs', sep=' ')\n",
    "    sfs_unif_pca_grouped = sfs_unif_pca.groupby('OBS_N')['COUNT_SITES'].agg(['mean', 'std'])\n",
    "    sfs_unif_pca_avg = sfs_unif_pca_grouped['mean']/scale_factor\n",
    "    sfs_unif_pca_std = sfs_unif_pca_grouped['std']/scale_factor\n",
    "    \n",
    "    sfs_unif_pca_binned, _ = np.histogram(sfs_unif_pca_avg.index, bins=log_bins, weights=sfs_unif_pca_avg.values)\n",
    "    std_unif_pca_binned, _ = np.histogram(sfs_unif_pca_avg.index, bins=log_bins, weights=sfs_unif_pca_std.values)\n",
    "\n",
    "    for i in range(len(bin_centers)):\n",
    "        sfs_data.append([vt, \"H\", bin_centers[i], sfs_unif_pca_binned[i], std_unif_pca_binned[i]])  \n",
    "    \n",
    "    for j, w in enumerate(w_list_pca):\n",
    "        all_sfs_avg = []\n",
    "        all_sfs_std = []\n",
    "\n",
    "        for center in centers_pca:\n",
    "            sfs = pd.read_csv(f'../empirical/subsampling_SIR_v20250127/results/sfs/chr1_{vt}_{center}pca{w}_nSIR10000_nSIRreps10.SIRsfs', delimiter=' ')\n",
    "            sfs_avg_grouped = sfs.groupby('OBS_N')['COUNT_SITES'].agg(['mean', 'std'])\n",
    "            all_sfs_avg.append(sfs_avg_grouped['mean']/scale_factor)\n",
    "            all_sfs_std.append(sfs_avg_grouped['std']/scale_factor)\n",
    "\n",
    "\n",
    "        sfs_avg_final = pd.concat(all_sfs_avg, axis=1).values\n",
    "        sfs_avg_forindex = pd.concat(all_sfs_avg, axis=1)\n",
    "        sfs_std_final = pd.concat(all_sfs_std, axis=1).values\n",
    "        sfs_forindex = sfs_avg_forindex.mean(axis=1)\n",
    "        sfs_avg_binned, _ = np.histogram(sfs_forindex.index, \n",
    "                                          bins=log_bins,\n",
    "                                          weights=sfs_avg_final.flatten())\n",
    "        std_gaussian_binned, _ = np.histogram(sfs_forindex.index,\n",
    "                                               bins=log_bins,\n",
    "                                               weights=sfs_std_final.flatten())\n",
    "        for i in range(len(bin_centers)):\n",
    "            sfs_data.append([vt, labs_pca[j], bin_centers[i], sfs_avg_binned[i], std_gaussian_binned[i]])\n",
    "\n",
    "\n",
    "\n",
    "        ax.errorbar(bin_centers, sfs_avg_binned, yerr=std_gaussian_binned, label=labs_pca[j], \n",
    "                    linestyle='-', marker='o', capsize=5, markersize=5, elinewidth=1, \n",
    "                    alpha=0.5, color=colors[j+4])\n",
    "    ax.errorbar(bin_centers, sfs_unif_pca_binned, yerr=std_unif_pca_binned, linestyle='-', \n",
    "                label=labs_pca[3], marker='o', capsize=5, markersize=5, elinewidth=1, \n",
    "                alpha=0.5, color=colors[7])\n",
    "\n",
    "    # Load and process uniform data for geo\n",
    "    sfs_unif_geo = pd.read_csv(f'../empirical/subsampling_SIR_v20250127/results/sfs/chr1_{vt}_uniformgeo_nSIR10000_nSIRreps10.SIRsfs', sep=' ')\n",
    "    sfs_unif_geo_grouped = sfs_unif_geo.groupby('OBS_N')['COUNT_SITES'].agg(['mean', 'std'])\n",
    "    sfs_unif_geo_avg = sfs_unif_geo_grouped['mean']/scale_factor\n",
    "    sfs_unif_geo_std = sfs_unif_geo_grouped['std']/scale_factor\n",
    "\n",
    "    # Binning for uniform data (geo)\n",
    "    sfs_unif_geo_binned, _ = np.histogram(sfs_unif_geo_avg.index, bins=log_bins, weights=sfs_unif_geo_avg.values)\n",
    "    std_unif_geo_binned, _ = np.histogram(sfs_unif_geo_avg.index, bins=log_bins, weights=sfs_unif_geo_std.values)\n",
    "    for i in range(len(bin_centers)):\n",
    "        sfs_data.append([vt, \"D\", bin_centers[i], sfs_unif_geo_binned[i], std_unif_geo_binned[i]])\n",
    "\n",
    "    # Process and plot Gaussian data for geo\n",
    "    for j, w in enumerate(w_list_geo):\n",
    "        all_sfs_avg = []\n",
    "        all_sfs_std = []\n",
    "\n",
    "        for center in centers_geo:\n",
    "            sfs = pd.read_csv(f'../empirical/subsampling_SIR_v20250127/results/sfs/chr1_{vt}_{center}geo{w}_nSIR10000_nSIRreps10.SIRsfs', delimiter=' ')\n",
    "            sfs_avg_grouped = sfs.groupby('OBS_N')['COUNT_SITES'].agg(['mean', 'std'])\n",
    "            all_sfs_avg.append(sfs_avg_grouped['mean']/scale_factor)\n",
    "            all_sfs_std.append(sfs_avg_grouped['std']/scale_factor)\n",
    "        \n",
    "        combined_sfs_avg = pd.concat(all_sfs_avg, axis=1)\n",
    "        combined_sfs_std = pd.concat(all_sfs_std, axis=1)\n",
    "        sfs_avg_final = combined_sfs_avg.mean(axis=1)\n",
    "        sfs_std_final = combined_sfs_std.std(axis=1)\n",
    "\n",
    "        sfs_avg_binned, _ = np.histogram(sfs_avg_final.index, bins=log_bins, weights=sfs_avg_final.values)\n",
    "        std_gaussian_binned, _ = np.histogram(sfs_avg_final.index, bins=log_bins, weights=sfs_std_final.values)\n",
    "        for i in range(len(bin_centers)):\n",
    "            sfs_data.append([vt, labs_geo[j], bin_centers[i], sfs_avg_binned[i], std_gaussian_binned[i]])\n",
    "\n",
    "        ax.errorbar(bin_centers, sfs_avg_binned, yerr=std_gaussian_binned, label=labs_geo[j], \n",
    "                    linestyle='-', marker='o', capsize=5, markersize=5, elinewidth=1, \n",
    "                    alpha=0.5, color=colors[j])\n",
    "\n",
    "    # Plot uniform data for geo\n",
    "    ax.errorbar(bin_centers, sfs_unif_geo_binned, yerr=std_unif_geo_binned, \n",
    "            linestyle='-', label=labs_geo[3], marker='o', capsize=5, \n",
    "            markersize=5, elinewidth=1, alpha=0.5, color=colors[3])\n",
    "    \n",
    "    # Customize each subplot\n",
    "    ax.set_yscale('log')\n",
    "    ax.set_xscale('log')\n",
    "    ax.set_ylim(1e-2, 5e1)\n",
    "    ax.set_xlim(1e0,5e3)\n",
    "    ax.set_title(f'SFS: {vt} variants', loc='left', fontstyle='italic')\n",
    "    ax.set_xlabel(\"Allele count\")\n",
    "    if k == 0:\n",
    "        ax.set_ylabel(\"Number of variants\")\n",
    "    # ax.legend(loc='upper right', ncol=2, frameon=False)\n",
    "    handles, labels = ax.get_legend_handles_labels()\n",
    "    order = [4,5,6,7,0,1,2,3]  # Define the desired order (e.g., reorder to ['Bird', 'Dog', 'Cat'])\n",
    "    ax.legend([handles[i] for i in order], [labels[i] for i in order],loc='upper right',ncol=2,frameon=False)\n",
    "\n",
    "plt.tight_layout()\n",
    "plt.savefig(f'sfs_syn_miss_lof_v20250217.pdf')\n",
    "plt.show()\n",
    "\n",
    "sfs_df = pd.DataFrame(sfs_data, columns=['Variant_Type', 'Panel', 'Bin_Center', 'Binned_SFS', 'Binned_Std'])\n",
    "sfs_df.to_csv(\"sfs_binned_summary.csv\", index=False)"
   ]
  },
  {
   "cell_type": "code",
   "execution_count": 26,
   "id": "a8a30c91-3702-4458-9e88-74e0a91b3936",
   "metadata": {},
   "outputs": [
    {
     "data": {
      "text/html": [
       "<div>\n",
       "<style scoped>\n",
       "    .dataframe tbody tr th:only-of-type {\n",
       "        vertical-align: middle;\n",
       "    }\n",
       "\n",
       "    .dataframe tbody tr th {\n",
       "        vertical-align: top;\n",
       "    }\n",
       "\n",
       "    .dataframe thead th {\n",
       "        text-align: right;\n",
       "    }\n",
       "</style>\n",
       "<table border=\"1\" class=\"dataframe\">\n",
       "  <thead>\n",
       "    <tr style=\"text-align: right;\">\n",
       "      <th></th>\n",
       "      <th>Variant_Type</th>\n",
       "      <th>Panel</th>\n",
       "      <th>Bin_Center</th>\n",
       "      <th>Binned_SFS</th>\n",
       "      <th>Binned_Std</th>\n",
       "    </tr>\n",
       "  </thead>\n",
       "  <tbody>\n",
       "    <tr>\n",
       "      <th>168</th>\n",
       "      <td>lof</td>\n",
       "      <td>A</td>\n",
       "      <td>1.414214</td>\n",
       "      <td>5.652802</td>\n",
       "      <td>0.040074</td>\n",
       "    </tr>\n",
       "    <tr>\n",
       "      <th>169</th>\n",
       "      <td>lof</td>\n",
       "      <td>A</td>\n",
       "      <td>2.828427</td>\n",
       "      <td>1.237750</td>\n",
       "      <td>0.038960</td>\n",
       "    </tr>\n",
       "    <tr>\n",
       "      <th>170</th>\n",
       "      <td>lof</td>\n",
       "      <td>A</td>\n",
       "      <td>5.656854</td>\n",
       "      <td>0.866862</td>\n",
       "      <td>0.024959</td>\n",
       "    </tr>\n",
       "    <tr>\n",
       "      <th>171</th>\n",
       "      <td>lof</td>\n",
       "      <td>A</td>\n",
       "      <td>11.661904</td>\n",
       "      <td>0.357364</td>\n",
       "      <td>0.026111</td>\n",
       "    </tr>\n",
       "    <tr>\n",
       "      <th>172</th>\n",
       "      <td>lof</td>\n",
       "      <td>A</td>\n",
       "      <td>24.392622</td>\n",
       "      <td>0.158099</td>\n",
       "      <td>0.035577</td>\n",
       "    </tr>\n",
       "    <tr>\n",
       "      <th>173</th>\n",
       "      <td>lof</td>\n",
       "      <td>A</td>\n",
       "      <td>49.849774</td>\n",
       "      <td>0.093269</td>\n",
       "      <td>0.035526</td>\n",
       "    </tr>\n",
       "    <tr>\n",
       "      <th>174</th>\n",
       "      <td>lof</td>\n",
       "      <td>A</td>\n",
       "      <td>84.261498</td>\n",
       "      <td>0.033211</td>\n",
       "      <td>0.027117</td>\n",
       "    </tr>\n",
       "    <tr>\n",
       "      <th>175</th>\n",
       "      <td>lof</td>\n",
       "      <td>A</td>\n",
       "      <td>100.000000</td>\n",
       "      <td>0.227106</td>\n",
       "      <td>0.848949</td>\n",
       "    </tr>\n",
       "  </tbody>\n",
       "</table>\n",
       "</div>"
      ],
      "text/plain": [
       "    Variant_Type Panel  Bin_Center  Binned_SFS  Binned_Std\n",
       "168          lof     A    1.414214    5.652802    0.040074\n",
       "169          lof     A    2.828427    1.237750    0.038960\n",
       "170          lof     A    5.656854    0.866862    0.024959\n",
       "171          lof     A   11.661904    0.357364    0.026111\n",
       "172          lof     A   24.392622    0.158099    0.035577\n",
       "173          lof     A   49.849774    0.093269    0.035526\n",
       "174          lof     A   84.261498    0.033211    0.027117\n",
       "175          lof     A  100.000000    0.227106    0.848949"
      ]
     },
     "execution_count": 26,
     "metadata": {},
     "output_type": "execute_result"
    }
   ],
   "source": [
    "sfs_df[(sfs_df['Variant_Type']=='lof')&(sfs_df['Panel']=='A')]"
   ]
  },
  {
   "cell_type": "code",
   "execution_count": 155,
   "id": "eb5ae4e9-ada5-4043-a3e1-ee443123793c",
   "metadata": {},
   "outputs": [
    {
     "data": {
      "text/plain": [
       "array([1.41421356e+00, 2.82842712e+00, 5.29150262e+00, 9.89949494e+00,\n",
       "       1.90787840e+01, 3.64142829e+01, 7.06965346e+01, 1.36095555e+02,\n",
       "       2.62289916e+02, 5.04777179e+02, 9.71750997e+02, 1.87172461e+03,\n",
       "       3.60347055e+03])"
      ]
     },
     "execution_count": 155,
     "metadata": {},
     "output_type": "execute_result"
    }
   ],
   "source": [
    "bin_centers"
   ]
  },
  {
   "cell_type": "code",
   "execution_count": 24,
   "id": "27c566ad-2893-4e03-a53f-fc98c5120756",
   "metadata": {},
   "outputs": [
    {
     "data": {
      "image/png": "[encoded data removed]",
      "text/plain": [
       "<Figure size 400x400 with 1 Axes>"
      ]
     },
     "metadata": {},
     "output_type": "display_data"
    }
   ],
   "source": [
    "# Create a 1-panel plot for all variant types on the same axis\n",
    "fig, ax = plt.subplots(figsize=(4, 4))  # Use only 1 axis\n",
    "colors_2 = ['steelblue','orchid','darkorange']\n",
    "for k, vt in enumerate(vartypes):\n",
    "    \n",
    "    if vt == 'synonymous':\n",
    "        scale_factor = len_syn * prop_kept_syn\n",
    "    elif vt == 'missense':\n",
    "        scale_factor = len_mis * prop_kept_mis\n",
    "    elif vt == 'lof':\n",
    "        scale_factor = len_lof  \n",
    "    \n",
    "    # Process PCA data for line D only\n",
    "    sfs_unif_pca = pd.read_csv(f'../empirical/subsampling_SIR_v20250127/results/sfs/chr1_{vt}_uniformpca_nSIR10000_nSIRreps10.SIRsfs', sep=' ')\n",
    "    sfs_unif_pca_grouped = sfs_unif_pca.groupby('OBS_N')['COUNT_SITES'].agg(['mean', 'std'])\n",
    "    sfs_unif_pca_avg = sfs_unif_pca_grouped['mean'] / scale_factor\n",
    "    sfs_unif_pca_std = sfs_unif_pca_grouped['std'] / scale_factor\n",
    "\n",
    "    # Create log bins\n",
    "    log_bins = np.logspace(np.log10(1), np.log10(sfs_unif_pca_avg.index.max()), num=nbins)\n",
    "    log_bins = np.unique(np.round(log_bins))\n",
    "\n",
    "    # Process Geo data for line D only\n",
    "    sfs_unif_geo = pd.read_csv(f'../empirical/subsampling_SIR_v20250127/results/sfs/chr1_{vt}_uniformgeo_nSIR10000_nSIRreps10.SIRsfs', sep=' ')\n",
    "    sfs_unif_geo_grouped = sfs_unif_geo.groupby('OBS_N')['COUNT_SITES'].agg(['mean', 'std'])\n",
    "    sfs_unif_geo_avg = sfs_unif_geo_grouped['mean'] / scale_factor\n",
    "    sfs_unif_geo_std = sfs_unif_geo_grouped['std'] / scale_factor\n",
    "\n",
    "    # Binning for Geo data (line D)\n",
    "    sfs_unif_geo_binned, _ = np.histogram(sfs_unif_geo_avg.index, bins=log_bins, weights=sfs_unif_geo_avg.values)\n",
    "    std_unif_geo_binned, _ = np.histogram(sfs_unif_geo_avg.index, bins=log_bins, weights=sfs_unif_geo_std.values)\n",
    "    \n",
    "    ax.errorbar(log_bins[:-1], sfs_unif_geo_binned, yerr=std_unif_geo_binned, linestyle='-', \n",
    "                label=f'{vt}', marker='o', capsize=5, markersize=5, elinewidth=1, \n",
    "                alpha=1, color=colors_2[k])  # Use a different color for geo data\n",
    "\n",
    "# Customize the plot\n",
    "ax.set_yscale('log')\n",
    "ax.set_xscale('log')\n",
    "ax.set_ylim(1e-3, 5e1)\n",
    "ax.set_title(f'SFS - panel D only', loc='left', fontstyle='italic')\n",
    "ax.set_xlabel(\"Allele count\")\n",
    "ax.set_ylabel(\"Number of variants\")\n",
    "\n",
    "# Show the legend\n",
    "handles, labels = ax.get_legend_handles_labels()\n",
    "ax.legend(handles, labels, loc='upper right', ncol=1, frameon=False)\n",
    "\n",
    "plt.tight_layout()\n",
    "plt.savefig('sfs_panelDonly_v20250217.pdf')\n",
    "plt.show()\n",
    "\n"
   ]
  },
  {
   "cell_type": "code",
   "execution_count": 25,
   "id": "6d2580da-fbe6-467b-8ecb-b7c49264f17a",
   "metadata": {},
   "outputs": [],
   "source": [
    "## keep looking for \"what proportion of new mutations are LoFs\" - we have ~3%\n",
    "## this scaling allows us to use base mutation rate -already accounts"
   ]
  },
  {
   "cell_type": "markdown",
   "id": "d8571823-156d-4a55-bb1e-6bf59a9db7f0",
   "metadata": {},
   "source": [
    "### Section 3: Comparison with theory"
   ]
  },
  {
   "cell_type": "code",
   "execution_count": 58,
   "id": "7a835f0f-a833-42e6-887d-4151c735835c",
   "metadata": {},
   "outputs": [],
   "source": [
    "### Step 1 - save SFS mean data from panel D plot above to arrays for easy plotting/comparison\n",
    "# No binning\n",
    "sfs_list = []\n",
    "vartypes = ['synonymous','missense','lof']\n",
    "for k, vt in enumerate(vartypes):\n",
    "    \n",
    "    if vt == 'synonymous':\n",
    "        scale_factor = len_syn * prop_kept_syn\n",
    "    elif vt == 'missense':\n",
    "        scale_factor = len_mis * prop_kept_mis\n",
    "    elif vt == 'lof':\n",
    "        scale_factor = len_lof  \n",
    "\n",
    "    sfs = pd.read_csv(f'../empirical/subsampling_SIR_v20250127/results/sfs/chr1_{vt}_centerE9N9geo50000_nSIR10000_nSIRreps10.SIRsfs', sep=' ')\n",
    "    sfs_grouped = sfs.groupby('OBS_N')['COUNT_SITES'].agg(['mean', 'std'])\n",
    "    sfs_avg = sfs_grouped['mean'] / scale_factor\n",
    "    sfs_std = sfs_grouped['std'] / scale_factor\n",
    "    sfs_list.append(sfs_avg)\n"
   ]
  },
  {
   "cell_type": "code",
   "execution_count": 27,
   "id": "7a041e0e-cf25-43ee-9b6c-04f1127384a1",
   "metadata": {},
   "outputs": [
    {
     "data": {
      "text/plain": [
       "['synonymous', 'missense', 'lof']"
      ]
     },
     "execution_count": 27,
     "metadata": {},
     "output_type": "execute_result"
    }
   ],
   "source": [
    "vartypes"
   ]
  },
  {
   "cell_type": "code",
   "execution_count": 59,
   "id": "ec0a72ae-2030-4e57-8195-c2113ecaec87",
   "metadata": {},
   "outputs": [],
   "source": [
    "# sfs_list"
   ]
  },
  {
   "cell_type": "code",
   "execution_count": 29,
   "id": "89f1bb35-bde8-45d8-98c0-430bc30b66ff",
   "metadata": {},
   "outputs": [],
   "source": [
    "### Functions for theory\n",
    "\n",
    "def get_lc(sigma,s):\n",
    "    return np.sqrt(sigma**2/s)\n",
    "\n",
    "def get_lambda_theory(w,sigma,s):\n",
    "    lc = get_lc(sigma,s)\n",
    "    term = (w / lc) ** 2\n",
    "    if term <= 800:\n",
    "        prod_term = np.exp(term) * exp1(term)\n",
    "    else:\n",
    "        prod_term = sum((factorial(k) / (-term)**k for k in range(7))) / term\n",
    "    return (4*np.pi)/prod_term\n",
    "\n",
    "def get_EP_theory(mu, s):\n",
    "    return mu / s\n",
    "\n",
    "def get_EPsquared_theory(mu, s, rho, sigma, w):\n",
    "    lcs = get_lc(sigma, s)**2\n",
    "    term = (w / np.sqrt(lcs)) ** 2\n",
    "    if term <= 800:\n",
    "        prod_term = np.exp(term) * exp1(term)\n",
    "    else:\n",
    "        prod_term = sum((factorial(k) / (-term)**k for k in range(7))) / term\n",
    "    return (mu / (s ** 2 * rho * 4 * np.pi * lcs)) * prod_term + mu ** 2 / s ** 2\n",
    "\n",
    "def get_sfs_theory(x,n,mu,s,rho,sigma,w):\n",
    "    mean = get_EP_theory(mu,s)\n",
    "    var = get_EPsquared_theory(mu,s,rho,sigma,w) - mean**2\n",
    "    alpha = mean**2/var\n",
    "    beta = mean/var\n",
    "    return nbinom.pmf(x,alpha,beta/(beta+n))\n",
    "\n",
    "def get_sfs_theory_unif(x,n,mu,s,N):\n",
    "    mean = mu/s\n",
    "    var = mu/(s*s*N)\n",
    "    alpha = mean**2/var\n",
    "    beta = mean/var\n",
    "    return nbinom.pmf(x,alpha,beta/(beta+n))"
   ]
  },
  {
   "cell_type": "code",
   "execution_count": 92,
   "id": "1d52d37d-227e-4d66-81c1-56d881624525",
   "metadata": {},
   "outputs": [
    {
     "name": "stdout",
     "output_type": "stream",
     "text": [
      "Ranking of parameter combinations by best fit (lowest MSPE), synonymous variants:\n",
      "1. sigma=10.0, rho=3.1551020408163266, s=3.6e-03, w=50, mu=1.25e-08, MSPE=1.12631\n",
      "2. sigma=18.88888888888889, rho=1.1183673469387756, s=3.6e-03, w=50, mu=1.25e-08, MSPE=1.14627\n",
      "3. sigma=14.444444444444445, rho=2.136734693877551, s=3.6e-03, w=50, mu=1.25e-08, MSPE=1.23339\n",
      "4. sigma=23.333333333333336, rho=1.1183673469387756, s=3.6e-03, w=50, mu=1.25e-08, MSPE=1.29217\n",
      "5. sigma=10.0, rho=4.173469387755102, s=6.0e-03, w=50, mu=1.25e-08, MSPE=1.49780\n",
      "6. sigma=27.77777777777778, rho=1.1183673469387756, s=6.0e-03, w=50, mu=1.25e-08, MSPE=1.50567\n",
      "7. sigma=10.0, rho=2.136734693877551, s=3.6e-03, w=50, mu=1.25e-08, MSPE=1.60679\n",
      "8. sigma=18.88888888888889, rho=2.136734693877551, s=6.0e-03, w=50, mu=1.25e-08, MSPE=1.62932\n",
      "9. sigma=14.444444444444445, rho=1.1183673469387756, s=2.2e-03, w=50, mu=1.25e-08, MSPE=1.65889\n",
      "10. sigma=14.444444444444445, rho=3.1551020408163266, s=6.0e-03, w=50, mu=1.25e-08, MSPE=1.70910\n",
      "11. sigma=10.0, rho=4.173469387755102, s=3.6e-03, w=50, mu=1.25e-08, MSPE=1.71806\n",
      "12. sigma=14.444444444444445, rho=2.136734693877551, s=6.0e-03, w=50, mu=1.25e-08, MSPE=1.76174\n",
      "13. sigma=23.333333333333336, rho=1.1183673469387756, s=6.0e-03, w=50, mu=1.25e-08, MSPE=1.76717\n",
      "14. sigma=10.0, rho=5.191836734693878, s=6.0e-03, w=50, mu=1.25e-08, MSPE=1.86926\n",
      "15. sigma=10.0, rho=2.136734693877551, s=2.2e-03, w=50, mu=1.25e-08, MSPE=1.87160\n",
      "16. sigma=10.0, rho=3.1551020408163266, s=6.0e-03, w=50, mu=1.25e-08, MSPE=1.91004\n",
      "17. sigma=32.22222222222222, rho=1.1183673469387756, s=6.0e-03, w=50, mu=1.25e-08, MSPE=1.93917\n",
      "18. sigma=27.77777777777778, rho=1.1183673469387756, s=3.6e-03, w=50, mu=1.25e-08, MSPE=2.08654\n",
      "19. sigma=10.0, rho=1.1183673469387756, s=1.3e-03, w=50, mu=1.25e-08, MSPE=2.12259\n",
      "20. sigma=45.55555555555556, rho=0.1, s=1.3e-03, w=50, mu=1.25e-08, MSPE=2.16591\n",
      "21. sigma=50.0, rho=0.1, s=1.3e-03, w=50, mu=1.25e-08, MSPE=2.17987\n",
      "22. sigma=14.444444444444445, rho=1.1183673469387756, s=3.6e-03, w=50, mu=1.25e-08, MSPE=2.42108\n",
      "23. sigma=18.88888888888889, rho=2.136734693877551, s=3.6e-03, w=50, mu=1.25e-08, MSPE=2.43690\n",
      "24. sigma=36.66666666666667, rho=0.1, s=7.7e-04, w=50, mu=1.25e-08, MSPE=2.46075\n",
      "25. sigma=14.444444444444445, rho=3.1551020408163266, s=3.6e-03, w=50, mu=1.25e-08, MSPE=2.51658\n",
      "26. sigma=10.0, rho=5.191836734693878, s=3.6e-03, w=50, mu=1.25e-08, MSPE=2.62963\n",
      "27. sigma=41.111111111111114, rho=0.1, s=1.3e-03, w=50, mu=1.25e-08, MSPE=2.63272\n",
      "28. sigma=27.77777777777778, rho=0.1, s=4.6e-04, w=50, mu=1.25e-08, MSPE=2.65404\n",
      "29. sigma=32.22222222222222, rho=0.1, s=7.7e-04, w=50, mu=1.25e-08, MSPE=2.68577\n",
      "30. sigma=10.0, rho=6.210204081632653, s=6.0e-03, w=50, mu=1.25e-08, MSPE=2.70671\n"
     ]
    }
   ],
   "source": [
    "### Step 2 - for each variant class try fitting combinations of params and report MSPE (mean square percentage error)\n",
    "\n",
    "# MSPE will compute relative (percentage) error per SFS entry - to not bias towards singletons, other low frequency bins\n",
    "\n",
    "## ranges \n",
    "sigma_list = np.linspace(10,50,10)#[1, 5, 10]##[10,25,50]#[1, 5, 10]\n",
    "rho_list = np.linspace(0.1,50,50)#[1, 5, 10] # np.linspace(0.001,50,50)#[1,10,50]#[1, 5, 10]\n",
    "s_list = np.logspace(-4,-2,10)#[1e-4, 1e-3, 1e-2] #np.logspace(-4,-2,10) #[1e-4, 1e-3, 1e-2]\n",
    "w_list = [50]#[50,100,200,500]\n",
    "mu_list = [1.25e-8]#2.5e-8]\n",
    "\n",
    "# Given parameters\n",
    "n = 10000\n",
    "max_x = 10 # fit on first ten values\n",
    "\n",
    "### synonymous variants\n",
    "\n",
    "mspe_results = []  # store params and mspe\n",
    "\n",
    "for sigma in sigma_list:\n",
    "    for rho in rho_list:\n",
    "        for s in s_list:\n",
    "            for w in w_list:\n",
    "                for mu in mu_list:\n",
    "                    # theory\n",
    "                    nb_dist = np.array([get_sfs_theory(y, n, mu, s, rho, sigma, w) * 1000 for y in np.arange(1, max_x+1)])\n",
    "                    obs_dist = np.array(sfs_list[0][1:max_x+1])  # 0 = synonymous\n",
    "                    # mean square percentage error\n",
    "                    mspe = np.sum(((nb_dist - obs_dist)** 2/ (nb_dist) ) ) #/ (obs_dist) ### this version - chi square statistic\n",
    "                    mspe_results.append((sigma, rho, s, w, mu, mspe, nb_dist))\n",
    "\n",
    "# rank results\n",
    "mspe_results.sort(key=lambda x: x[5])  # sorting by MSPE\n",
    "\n",
    "# Print ranking\n",
    "print(f\"Ranking of parameter combinations by best fit (lowest MSPE), {vartypes[0]} variants:\")\n",
    "for rank, (sigma, rho, s, w, mu, mspe, _) in enumerate(mspe_results, 1):\n",
    "    if rank<=30:\n",
    "        print(f\"{rank}. sigma={sigma}, rho={rho}, s={s:.1e}, w={w}, mu={mu:.2e}, MSPE={mspe:.5f}\")"
   ]
  },
  {
   "cell_type": "code",
   "execution_count": 102,
   "id": "824cab31-5a73-4da7-8919-ce8d52587c6b",
   "metadata": {},
   "outputs": [
    {
     "name": "stdout",
     "output_type": "stream",
     "text": [
      "Ranking of parameter combinations by best fit (lowest MSPE), missense variants:\n",
      "1. sigma=10.404040404040405, rho=1.6121212121212123, s=2.4e-03, w=50, mu=1.25e-08, MSPE=2.48013\n",
      "2. sigma=20.909090909090907, rho=0.604040404040404, s=2.4e-03, w=50, mu=1.25e-08, MSPE=2.48032\n",
      "3. sigma=13.636363636363637, rho=1.1080808080808082, s=2.4e-03, w=50, mu=1.25e-08, MSPE=2.48083\n",
      "4. sigma=20.505050505050505, rho=0.604040404040404, s=2.4e-03, w=50, mu=1.25e-08, MSPE=2.48586\n",
      "5. sigma=21.313131313131315, rho=0.604040404040404, s=2.5e-03, w=50, mu=1.25e-08, MSPE=2.48702\n",
      "6. sigma=14.040404040404042, rho=1.1080808080808082, s=2.5e-03, w=50, mu=1.25e-08, MSPE=2.48734\n",
      "7. sigma=20.909090909090907, rho=0.604040404040404, s=2.5e-03, w=50, mu=1.25e-08, MSPE=2.48900\n",
      "8. sigma=10.404040404040405, rho=1.6121212121212123, s=2.5e-03, w=50, mu=1.25e-08, MSPE=2.48934\n",
      "9. sigma=14.040404040404042, rho=1.1080808080808082, s=2.4e-03, w=50, mu=1.25e-08, MSPE=2.49013\n",
      "10. sigma=21.313131313131315, rho=0.604040404040404, s=2.4e-03, w=50, mu=1.25e-08, MSPE=2.49074\n",
      "11. sigma=13.636363636363637, rho=1.1080808080808082, s=2.5e-03, w=50, mu=1.25e-08, MSPE=2.49396\n",
      "12. sigma=10.808080808080808, rho=1.6121212121212123, s=2.5e-03, w=50, mu=1.25e-08, MSPE=2.49597\n",
      "13. sigma=20.505050505050505, rho=0.604040404040404, s=2.3e-03, w=50, mu=1.25e-08, MSPE=2.49927\n",
      "14. sigma=13.636363636363637, rho=1.1080808080808082, s=2.3e-03, w=50, mu=1.25e-08, MSPE=2.50126\n",
      "15. sigma=21.717171717171716, rho=0.604040404040404, s=2.5e-03, w=50, mu=1.25e-08, MSPE=2.50164\n",
      "16. sigma=10.404040404040405, rho=1.6121212121212123, s=2.3e-03, w=50, mu=1.25e-08, MSPE=2.50319\n",
      "17. sigma=13.232323232323232, rho=1.1080808080808082, s=2.4e-03, w=50, mu=1.25e-08, MSPE=2.50386\n",
      "18. sigma=10.808080808080808, rho=1.6121212121212123, s=2.4e-03, w=50, mu=1.25e-08, MSPE=2.50390\n",
      "19. sigma=13.232323232323232, rho=1.1080808080808082, s=2.3e-03, w=50, mu=1.25e-08, MSPE=2.50573\n",
      "20. sigma=10.0, rho=1.6121212121212123, s=2.4e-03, w=50, mu=1.25e-08, MSPE=2.50585\n",
      "21. sigma=20.1010101010101, rho=0.604040404040404, s=2.3e-03, w=50, mu=1.25e-08, MSPE=2.50650\n",
      "22. sigma=20.909090909090907, rho=0.604040404040404, s=2.3e-03, w=50, mu=1.25e-08, MSPE=2.50758\n",
      "23. sigma=20.1010101010101, rho=0.604040404040404, s=2.4e-03, w=50, mu=1.25e-08, MSPE=2.50770\n",
      "24. sigma=20.505050505050505, rho=0.604040404040404, s=2.5e-03, w=50, mu=1.25e-08, MSPE=2.50778\n",
      "25. sigma=10.0, rho=1.6121212121212123, s=2.3e-03, w=50, mu=1.25e-08, MSPE=2.50781\n",
      "26. sigma=14.444444444444445, rho=1.1080808080808082, s=2.5e-03, w=50, mu=1.25e-08, MSPE=2.51406\n",
      "27. sigma=21.717171717171716, rho=0.604040404040404, s=2.4e-03, w=50, mu=1.25e-08, MSPE=2.51688\n",
      "28. sigma=14.040404040404042, rho=1.1080808080808082, s=2.6e-03, w=50, mu=1.25e-08, MSPE=2.51959\n",
      "29. sigma=21.313131313131315, rho=0.604040404040404, s=2.6e-03, w=50, mu=1.25e-08, MSPE=2.52008\n",
      "30. sigma=10.808080808080808, rho=1.6121212121212123, s=2.6e-03, w=50, mu=1.25e-08, MSPE=2.52252\n"
     ]
    }
   ],
   "source": [
    "### missense variants\n",
    "\n",
    "## ranges \n",
    "sigma_list = np.linspace(10,100,100)#[1, 5, 10]##[10,25,50]#[1, 5, 10]\n",
    "rho_list = np.linspace(0.1,50,100)#[1, 5, 10] # np.linspace(0.001,50,50)#[1,10,50]#[1, 5, 10]\n",
    "s_list = np.logspace(-4,-2,100)#[1e-4, 1e-3, 1e-2] #np.logspace(-4,-2,10) #[1e-4, 1e-3, 1e-2]\n",
    "w_list = [50]#[50,100,200,500]\n",
    "mu_list = [1.25e-8]#2.5e-8]\n",
    "\n",
    "\n",
    "mspe_results = []  # store params and mspe\n",
    "\n",
    "for sigma in sigma_list:\n",
    "    for rho in rho_list:\n",
    "        for s in s_list:\n",
    "            for w in w_list:\n",
    "                for mu in mu_list:\n",
    "                    # theory\n",
    "                    nb_dist = np.array([get_sfs_theory(y, n, mu, s, rho, sigma, w) * 1000 for y in np.arange(1, max_x+1)])\n",
    "                    obs_dist = np.array(sfs_list[1][1:max_x+1])  # 1 = missense\n",
    "                    # mean square percentage error\n",
    "                    mspe = np.sum(((nb_dist - obs_dist)** 2/ (nb_dist) ) )#np.mean(((nb_dist - obs_dist) ) ** 2) #/ (obs_dist)\n",
    "                    mspe_results.append((sigma, rho, s, w, mu, mspe, nb_dist))\n",
    "\n",
    "# rank results\n",
    "mspe_results.sort(key=lambda x: x[5])  # sorting by MSPE\n",
    "\n",
    "# Print ranking\n",
    "print(f\"Ranking of parameter combinations by best fit (lowest MSPE), {vartypes[1]} variants:\")\n",
    "for rank, (sigma, rho, s, w, mu, mspe, _) in enumerate(mspe_results, 1):\n",
    "    if rank<=30:\n",
    "        print(f\"{rank}. sigma={sigma}, rho={rho}, s={s:.1e}, w={w}, mu={mu:.2e}, MSPE={mspe:.5f}\")"
   ]
  },
  {
   "cell_type": "code",
   "execution_count": 99,
   "id": "b1667840-4877-442b-a97b-754301e80dbf",
   "metadata": {},
   "outputs": [
    {
     "name": "stdout",
     "output_type": "stream",
     "text": [
      "Ranking of parameter combinations by best fit (lowest MSPE), lof variants:\n",
      "1. sigma=14.444444444444445, rho=1.1183673469387756, s=3.6e-03, w=50, mu=1.25e-08, MSPE=1.69622\n",
      "2. sigma=10.0, rho=2.136734693877551, s=3.6e-03, w=50, mu=1.25e-08, MSPE=1.87793\n",
      "3. sigma=14.444444444444445, rho=1.1183673469387756, s=6.0e-03, w=50, mu=1.25e-08, MSPE=2.55209\n",
      "4. sigma=18.88888888888889, rho=1.1183673469387756, s=3.6e-03, w=50, mu=1.25e-08, MSPE=2.69667\n",
      "5. sigma=50.0, rho=0.1, s=2.2e-03, w=50, mu=1.25e-08, MSPE=2.70236\n",
      "6. sigma=10.0, rho=1.1183673469387756, s=2.2e-03, w=50, mu=1.25e-08, MSPE=2.70937\n",
      "7. sigma=10.0, rho=2.136734693877551, s=6.0e-03, w=50, mu=1.25e-08, MSPE=2.71469\n",
      "8. sigma=45.55555555555556, rho=0.1, s=2.2e-03, w=50, mu=1.25e-08, MSPE=2.89433\n",
      "9. sigma=10.0, rho=1.1183673469387756, s=3.6e-03, w=50, mu=1.25e-08, MSPE=2.96385\n",
      "10. sigma=41.111111111111114, rho=0.1, s=2.2e-03, w=50, mu=1.25e-08, MSPE=3.41392\n",
      "11. sigma=50.0, rho=0.1, s=3.6e-03, w=50, mu=1.25e-08, MSPE=3.42064\n",
      "12. sigma=14.444444444444445, rho=1.1183673469387756, s=2.2e-03, w=50, mu=1.25e-08, MSPE=3.66739\n",
      "13. sigma=36.66666666666667, rho=0.1, s=1.3e-03, w=50, mu=1.25e-08, MSPE=3.75510\n",
      "14. sigma=41.111111111111114, rho=0.1, s=1.3e-03, w=50, mu=1.25e-08, MSPE=3.99310\n",
      "15. sigma=32.22222222222222, rho=0.1, s=1.3e-03, w=50, mu=1.25e-08, MSPE=4.01512\n",
      "16. sigma=18.88888888888889, rho=1.1183673469387756, s=6.0e-03, w=50, mu=1.25e-08, MSPE=4.19271\n",
      "17. sigma=10.0, rho=2.136734693877551, s=2.2e-03, w=50, mu=1.25e-08, MSPE=4.35986\n",
      "18. sigma=36.66666666666667, rho=0.1, s=2.2e-03, w=50, mu=1.25e-08, MSPE=4.40795\n",
      "19. sigma=45.55555555555556, rho=0.1, s=3.6e-03, w=50, mu=1.25e-08, MSPE=4.53262\n",
      "20. sigma=45.55555555555556, rho=0.1, s=1.3e-03, w=50, mu=1.25e-08, MSPE=4.55642\n",
      "21. sigma=27.77777777777778, rho=0.1, s=7.7e-04, w=50, mu=1.25e-08, MSPE=4.57628\n",
      "22. sigma=10.0, rho=3.1551020408163266, s=3.6e-03, w=50, mu=1.25e-08, MSPE=4.75163\n",
      "23. sigma=10.0, rho=1.1183673469387756, s=1.3e-03, w=50, mu=1.25e-08, MSPE=4.84755\n",
      "24. sigma=23.333333333333336, rho=0.1, s=7.7e-04, w=50, mu=1.25e-08, MSPE=4.86453\n",
      "25. sigma=27.77777777777778, rho=0.1, s=1.3e-03, w=50, mu=1.25e-08, MSPE=5.06909\n",
      "26. sigma=18.88888888888889, rho=0.1, s=4.6e-04, w=50, mu=1.25e-08, MSPE=5.08858\n",
      "27. sigma=32.22222222222222, rho=0.1, s=7.7e-04, w=50, mu=1.25e-08, MSPE=5.26577\n",
      "28. sigma=10.0, rho=1.1183673469387756, s=6.0e-03, w=50, mu=1.25e-08, MSPE=5.33425\n",
      "29. sigma=50.0, rho=0.1, s=1.3e-03, w=50, mu=1.25e-08, MSPE=5.33880\n",
      "30. sigma=14.444444444444445, rho=0.1, s=2.8e-04, w=50, mu=1.25e-08, MSPE=5.38976\n"
     ]
    }
   ],
   "source": [
    "### lof variants\n",
    "\n",
    "mspe_results = []  # store params and mspe\n",
    "\n",
    "for sigma in sigma_list:\n",
    "    for rho in rho_list:\n",
    "        for s in s_list:\n",
    "            for w in w_list:\n",
    "                for mu in mu_list:\n",
    "                    # theory\n",
    "                    nb_dist = np.array([get_sfs_theory(y, n, mu, s, rho, sigma, w) * 1000 for y in np.arange(1, max_x+1)])\n",
    "                    obs_dist = np.array(sfs_list[2][1:max_x+1])  # 2 = lof\n",
    "                    # mean square percentage error\n",
    "                    mspe = np.sum(((nb_dist - obs_dist)** 2/ (nb_dist) ) )#np.mean(((nb_dist - obs_dist) ) ** 2) #/ (obs_dist)\n",
    "                    mspe_results.append((sigma, rho, s, w, mu, mspe, nb_dist))\n",
    "\n",
    "# rank results\n",
    "mspe_results.sort(key=lambda x: x[5])  # sorting by MSPE\n",
    "\n",
    "# Print ranking\n",
    "print(f\"Ranking of parameter combinations by best fit (lowest MSPE), {vartypes[2]} variants:\")\n",
    "for rank, (sigma, rho, s, w, mu, mspe, _) in enumerate(mspe_results, 1):\n",
    "    if rank<=30:\n",
    "        print(f\"{rank}. sigma={sigma}, rho={rho}, s={s:.1e}, w={w}, mu={mu:.2e}, MSPE={mspe:.5f}\")"
   ]
  },
  {
   "cell_type": "code",
   "execution_count": 32,
   "id": "4e7caf7d-caa1-4922-8c81-5176a5339004",
   "metadata": {},
   "outputs": [
    {
     "name": "stdout",
     "output_type": "stream",
     "text": [
      "Ranking of parameter combinations by best fit (lowest MSPE), lof variants:\n",
      "1. sigma=25, rho=1, s=1.0e-02, w=50, mu=1.25e-08, MSPE=2.26620\n",
      "2. sigma=10, rho=1, s=1.0e-02, w=50, mu=1.25e-08, MSPE=2.28536\n",
      "3. sigma=10, rho=1, s=1.0e-02, w=100, mu=1.25e-08, MSPE=2.28650\n",
      "4. sigma=25, rho=1, s=1.0e-02, w=100, mu=1.25e-08, MSPE=2.31613\n",
      "5. sigma=10, rho=1, s=1.0e-02, w=200, mu=1.25e-08, MSPE=2.39886\n",
      "6. sigma=50, rho=1, s=1.0e-02, w=50, mu=1.25e-08, MSPE=2.49363\n",
      "7. sigma=10, rho=10, s=1.0e-02, w=50, mu=1.25e-08, MSPE=2.56980\n",
      "8. sigma=25, rho=1, s=1.0e-02, w=200, mu=1.25e-08, MSPE=2.58807\n",
      "9. sigma=50, rho=1, s=1.0e-02, w=100, mu=1.25e-08, MSPE=2.62998\n",
      "10. sigma=50, rho=1, s=1.0e-02, w=200, mu=1.25e-08, MSPE=2.72370\n",
      "11. sigma=10, rho=10, s=1.0e-02, w=100, mu=1.25e-08, MSPE=2.73060\n",
      "12. sigma=25, rho=10, s=1.0e-02, w=50, mu=1.25e-08, MSPE=2.73842\n",
      "13. sigma=25, rho=1, s=1.0e-02, w=500, mu=1.25e-08, MSPE=2.73876\n",
      "14. sigma=10, rho=1, s=1.0e-02, w=500, mu=1.25e-08, MSPE=2.73890\n",
      "15. sigma=10, rho=50, s=1.0e-02, w=50, mu=1.25e-08, MSPE=2.73922\n",
      "16. sigma=25, rho=10, s=1.0e-02, w=100, mu=1.25e-08, MSPE=2.73930\n",
      "17. sigma=50, rho=1, s=1.0e-02, w=500, mu=1.25e-08, MSPE=2.74028\n",
      "18. sigma=10, rho=10, s=1.0e-02, w=200, mu=1.25e-08, MSPE=2.74261\n",
      "19. sigma=50, rho=10, s=1.0e-02, w=50, mu=1.25e-08, MSPE=2.74873\n",
      "20. sigma=25, rho=10, s=1.0e-02, w=200, mu=1.25e-08, MSPE=2.75770\n",
      "21. sigma=10, rho=50, s=1.0e-02, w=100, mu=1.25e-08, MSPE=2.76037\n",
      "22. sigma=50, rho=10, s=1.0e-02, w=100, mu=1.25e-08, MSPE=2.76315\n",
      "23. sigma=25, rho=50, s=1.0e-02, w=50, mu=1.25e-08, MSPE=2.77293\n",
      "24. sigma=50, rho=10, s=1.0e-02, w=200, mu=1.25e-08, MSPE=2.78609\n",
      "25. sigma=25, rho=50, s=1.0e-02, w=100, mu=1.25e-08, MSPE=2.79525\n",
      "26. sigma=10, rho=50, s=1.0e-02, w=200, mu=1.25e-08, MSPE=2.80446\n",
      "27. sigma=10, rho=10, s=1.0e-02, w=500, mu=1.25e-08, MSPE=2.80681\n",
      "28. sigma=25, rho=10, s=1.0e-02, w=500, mu=1.25e-08, MSPE=2.81170\n",
      "29. sigma=50, rho=50, s=1.0e-02, w=50, mu=1.25e-08, MSPE=2.81206\n",
      "30. sigma=25, rho=50, s=1.0e-02, w=200, mu=1.25e-08, MSPE=2.81889\n"
     ]
    }
   ],
   "source": [
    "# ### lof variants\n",
    "\n",
    "# mspe_results = []  # store params and mspe\n",
    "\n",
    "# for sigma in sigma_list:\n",
    "#     for rho in rho_list:\n",
    "#         for s in s_list:\n",
    "#             for w in w_list:\n",
    "#                 for mu in mu_list:\n",
    "#                     # theory\n",
    "#                     nb_dist = np.array([get_sfs_theory(y, n, mu, s, rho, sigma, w) * 1000 for y in np.arange(0, max_x)])\n",
    "#                     obs_dist = np.array(sfs_list[2][:max_x])  # 2 = lof\n",
    "#                     # mean square percentage error\n",
    "#                     mspe = np.mean(((nb_dist - obs_dist) ) ** 2) #/ (obs_dist)\n",
    "#                     mspe_results.append((sigma, rho, s, w, mu, mspe, nb_dist))\n",
    "\n",
    "# # rank results\n",
    "# mspe_results.sort(key=lambda x: x[5])  # sorting by MSPE\n",
    "\n",
    "# # Print ranking\n",
    "# print(f\"Ranking of parameter combinations by best fit (lowest MSPE), {vartypes[2]} variants:\")\n",
    "# for rank, (sigma, rho, s, w, mu, mspe, _) in enumerate(mspe_results, 1):\n",
    "#     if rank<=30:\n",
    "#         print(f\"{rank}. sigma={sigma}, rho={rho}, s={s:.1e}, w={w}, mu={mu:.2e}, MSPE={mspe:.5f}\")"
   ]
  },
  {
   "cell_type": "markdown",
   "id": "f62d0aa7-e4bb-4cee-b77e-b95d9ec2ecee",
   "metadata": {},
   "source": [
    "<!-- Observation here: the same set of sigma, rho, w, mu params fit well with each variant type such that s changes over variant class:\n",
    "\n",
    "- synonymous: sigma=1, rho=5, s=1.0e-04, w=50, mu=1.25e-08, MSPE=3.04411 (rank 5)\n",
    "- missense: sigma=1, rho=5, s=1.0e-03, w=50, mu=1.25e-08, MSPE=2.62130 (rank 5)\n",
    "- lof: sigma=1, rho=5, s=1.0e-02, w=50, mu=1.25e-08, MSPE=2.41175 (rank 6)\n",
    "\n",
    "Try plotting these values and comparing... -->"
   ]
  },
  {
   "cell_type": "code",
   "execution_count": 101,
   "id": "ece6a93c-fd28-446e-bddc-46beecf523ea",
   "metadata": {},
   "outputs": [
    {
     "data": {
      "image/png": "[encoded data removed]",
      "text/plain": [
       "<Figure size 600x600 with 1 Axes>"
      ]
     },
     "metadata": {},
     "output_type": "display_data"
    }
   ],
   "source": [
    "## sigma=10, rho 1, w=50\n",
    "\n",
    "colors = ['darkorange', 'orchid', 'steelblue']\n",
    "\n",
    "sigma = 14.4\n",
    "mu = 1.25e-8\n",
    "w = 50\n",
    "n = 10000\n",
    "rho = 1.1\n",
    "max_x = 50\n",
    "colors=['darkorange','orchid','steelblue']\n",
    "\n",
    "fig,ax = plt.subplots(1,1,figsize=(6,6))\n",
    "for i,s in enumerate([3.6e-03,0.01]):#):\n",
    "    nb_dist = [get_sfs_theory(y, n, mu, s, rho, sigma, w)*1000 for y in np.arange(0, max_x)]\n",
    "    ax.loglog(np.arange(0, max_x), nb_dist, marker=None, linestyle='-',linewidth=2, alpha=1, color='black',label=f's={s}')\n",
    "ax.loglog(np.arange(0,max_x),sfs_list[0][:max_x],marker='x',color='steelblue',linestyle='',label='synonymous')\n",
    "ax.loglog(np.arange(0,max_x),sfs_list[1][:max_x],marker='x',color='orchid',linestyle='',label='missense')\n",
    "ax.loglog(np.arange(0,max_x),sfs_list[2][:max_x],marker='x',color='darkorange',linestyle='',label='lof')\n",
    "ax.legend()\n",
    "ax.set_ylim(1e-4,1e2)\n",
    "ax.set_title(f'sigma={sigma}, rho={rho}')\n",
    "plt.show()"
   ]
  },
  {
   "cell_type": "code",
   "execution_count": null,
   "id": "f828d993-b5f7-436c-b251-a2600b2721b8",
   "metadata": {},
   "outputs": [],
   "source": [
    "# try for smoother grid for better fitting \n",
    "\n",
    "### fit missense variants for w=50 (show fitted line) \n",
    "### hold sigma, rho, s to same values from w=50 fitting, plot the theory + data results for w=100  and 500 cases (only thing that changes is w)\n",
    "### Reasoning: this set fits missense, we predict how results change with w -> look at how it changes\n",
    "### theory should break down around the uniform case \n",
    "\n",
    "### if this plays out nicely - great - if not, search where objective function is over 2 values of w (50, 100)\n",
    "### -> find one choice of sigma, rho, s that minimizes the sum of the objective function (sum of chi^2 over 2 scales)\n",
    "\n",
    "# synonymous variants - wave hands, weaker selected\n",
    "# show all 3 categories \n",
    "# pairwise plots between sigma and row on obj function surface?\n"
   ]
  },
  {
   "cell_type": "code",
   "execution_count": null,
   "id": "569c2687-9285-46ca-8a5b-dafeb5617712",
   "metadata": {},
   "outputs": [],
   "source": []
  },
  {
   "cell_type": "code",
   "execution_count": 34,
   "id": "09139d73-5f5a-4d70-9ceb-255f5c4b4728",
   "metadata": {},
   "outputs": [
    {
     "data": {
      "image/png": "[encoded data removed]",
      "text/plain": [
       "<Figure size 600x600 with 1 Axes>"
      ]
     },
     "metadata": {},
     "output_type": "display_data"
    }
   ],
   "source": [
    "## sigma=10, rho 1, w=500\n",
    "\n",
    "colors = ['darkorange', 'orchid', 'steelblue']\n",
    "\n",
    "sigma = 10\n",
    "mu = 1.25e-8\n",
    "w = 500\n",
    "n = 10000\n",
    "rho = 1\n",
    "max_x = 50\n",
    "colors=['darkorange','orchid','steelblue']\n",
    "\n",
    "fig,ax = plt.subplots(1,1,figsize=(6,6))\n",
    "for i,s in enumerate([1e-2,1e-3,1e-4]):\n",
    "    nb_dist = [get_sfs_theory(y, n, mu, s, rho, sigma, w)*1000 for y in np.arange(0, max_x)]\n",
    "    ax.loglog(np.arange(0, max_x), nb_dist, marker=None, linestyle='-',linewidth=2, alpha=1, color=colors[i],label=f's={s}')\n",
    "ax.loglog(np.arange(0,max_x),sfs_list[0][:max_x],marker='x',color='steelblue',linestyle='',label='synonymous')\n",
    "ax.loglog(np.arange(0,max_x),sfs_list[1][:max_x],marker='x',color='orchid',linestyle='',label='missense')\n",
    "ax.loglog(np.arange(0,max_x),sfs_list[2][:max_x],marker='x',color='darkorange',linestyle='',label='lof')\n",
    "ax.legend()\n",
    "ax.set_ylim(1e-4,1e2)\n",
    "ax.set_title(f'sigma={sigma}, rho={rho}')\n",
    "plt.show()"
   ]
  },
  {
   "cell_type": "code",
   "execution_count": 35,
   "id": "559c2ae7-d553-42b1-90be-8be219d8af28",
   "metadata": {},
   "outputs": [
    {
     "data": {
      "image/png": "[encoded data removed]",
      "text/plain": [
       "<Figure size 600x600 with 1 Axes>"
      ]
     },
     "metadata": {},
     "output_type": "display_data"
    }
   ],
   "source": [
    "## sigma=10, rho 10, w=500\n",
    "\n",
    "colors = ['darkorange', 'orchid', 'steelblue']\n",
    "\n",
    "sigma = 10\n",
    "mu = 1.25e-8\n",
    "w = 500\n",
    "n = 10000\n",
    "rho = 10\n",
    "max_x = 50\n",
    "colors=['darkorange','orchid','steelblue']\n",
    "\n",
    "fig,ax = plt.subplots(1,1,figsize=(6,6))\n",
    "for i,s in enumerate([1e-2,1e-3,1e-4]):\n",
    "    nb_dist = [get_sfs_theory(y, n, mu, s, rho, sigma, w)*1000 for y in np.arange(0, max_x)]\n",
    "    ax.loglog(np.arange(0, max_x), nb_dist, marker=None, linestyle='-',linewidth=2, alpha=1, color=colors[i],label=f's={s}')\n",
    "ax.loglog(np.arange(0,max_x),sfs_list[0][:max_x],marker='x',color='steelblue',linestyle='',label='synonymous')\n",
    "ax.loglog(np.arange(0,max_x),sfs_list[1][:max_x],marker='x',color='orchid',linestyle='',label='missense')\n",
    "ax.loglog(np.arange(0,max_x),sfs_list[2][:max_x],marker='x',color='darkorange',linestyle='',label='lof')\n",
    "ax.legend()\n",
    "ax.set_ylim(1e-4,1e2)\n",
    "ax.set_title(f'sigma={sigma}, rho={rho}')\n",
    "plt.show()"
   ]
  }
 ],
 "metadata": {
  "kernelspec": {
   "display_name": "Python 3 (ipykernel)",
   "language": "python",
   "name": "python3"
  },
  "language_info": {
   "codemirror_mode": {
    "name": "ipython",
    "version": 3
   },
   "file_extension": ".py",
   "mimetype": "text/x-python",
   "name": "python",
   "nbconvert_exporter": "python",
   "pygments_lexer": "ipython3",
   "version": "3.12.2"
  }
 },
 "nbformat": 4,
 "nbformat_minor": 5
}
