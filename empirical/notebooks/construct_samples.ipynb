{
 "cells": [
  {
   "cell_type": "code",
   "execution_count": 3,
   "id": "dc734720",
   "metadata": {},
   "outputs": [],
   "source": [
    "import numpy as np\n",
    "from sklearn.neighbors import KernelDensity\n",
    "import matplotlib.pyplot as plt\n",
    "import pandas as pd"
   ]
  },
  {
   "cell_type": "markdown",
   "id": "c3019b3b",
   "metadata": {},
   "source": [
    "## Load in data"
   ]
  },
  {
   "cell_type": "code",
   "execution_count": 6,
   "id": "d7b36140",
   "metadata": {},
   "outputs": [],
   "source": [
    "data = pd.read_csv('meta_pcs.csv').dropna(subset=['PC1','PC2'])"
   ]
  },
  {
   "cell_type": "code",
   "execution_count": 8,
   "id": "a1732853",
   "metadata": {},
   "outputs": [],
   "source": [
    "# Don't rerun - takes a while!\n",
    "# kde = KernelDensity(kernel='gaussian', bandwidth=0.5).fit(data[['PC1', 'PC2']].values)\n",
    "# log_density = kde.score_samples(data[['PC1','PC2']].values)\n",
    "# data['PC1_PC2_density'] = np.exp(log_density)\n",
    "\n",
    "# data.to_csv('meta_pcs_density.csv')"
   ]
  },
  {
   "cell_type": "code",
   "execution_count": 54,
   "id": "b6eda82b",
   "metadata": {},
   "outputs": [],
   "source": [
    "data_dens = pd.read_csv('meta_pcs_density.csv')"
   ]
  },
  {
   "cell_type": "markdown",
   "id": "7d3920a7",
   "metadata": {},
   "source": [
    "## IDs for each center"
   ]
  },
  {
   "cell_type": "code",
   "execution_count": 56,
   "id": "44c23822",
   "metadata": {},
   "outputs": [],
   "source": [
    "for center in data_dens['assessment_center'].unique():\n",
    "    # excluded three centers because n<10000\n",
    "    if center not in ['Swansea','Wrexham','Stockport (pilot)']:\n",
    "        filtered_rows = data_dens[data_dens['assessment_center'] == center]\n",
    "        filtered_rows[['id']].to_csv('../subsampling/groups/ids_'+center+'.csv', index=False)"
   ]
  },
  {
   "cell_type": "markdown",
   "id": "50cd2e4f",
   "metadata": {},
   "source": [
    "## IDs for birth country comparison (mainland UK)"
   ]
  },
  {
   "cell_type": "code",
   "execution_count": 58,
   "id": "f93b1c83",
   "metadata": {},
   "outputs": [],
   "source": [
    "for country in ['England','Scotland','Wales']:\n",
    "    filtered_rows = data_dens[data_dens['birth_UKelsewhere'] == country]\n",
    "    filtered_rows[['id']].to_csv('../subsampling/groups/ids_'+country+'.csv', index=False)"
   ]
  }
 ],
 "metadata": {
  "kernelspec": {
   "display_name": "Python 3",
   "language": "python",
   "name": "python3"
  },
  "language_info": {
   "codemirror_mode": {
    "name": "ipython",
    "version": 3
   },
   "file_extension": ".py",
   "mimetype": "text/x-python",
   "name": "python",
   "nbconvert_exporter": "python",
   "pygments_lexer": "ipython3",
   "version": "3.9.2"
  }
 },
 "nbformat": 4,
 "nbformat_minor": 5
}
